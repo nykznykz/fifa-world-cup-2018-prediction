{
 "cells": [
  {
   "cell_type": "code",
   "execution_count": 487,
   "metadata": {},
   "outputs": [],
   "source": [
    "import pandas as pd\n",
    "from random import random\n",
    "import time"
   ]
  },
  {
   "cell_type": "code",
   "execution_count": 136,
   "metadata": {},
   "outputs": [],
   "source": [
    "# load model\n",
    "from sklearn.externals import joblib\n",
    "\n",
    "clf = joblib.load('../02 Individual Match Prediction/match_prediction_model.pkl')"
   ]
  },
  {
   "cell_type": "code",
   "execution_count": 340,
   "metadata": {},
   "outputs": [],
   "source": [
    "grpA = [\"Russia\", \"Uruguay\", \"Egypt\", \"Saudi Arabia\"]\n",
    "grpB = [\"Spain\", \"Portugal\", \"Iran\", \"Morocco\"]\n",
    "grpC = [\"France\", \"Denmark\", \"Australia\", \"Peru\"]\n",
    "grpD = [\"Croatia\", \"Nigeria\", \"Iceland\", \"Argentina\"]\n",
    "grpE = [\"Brazil\", \"Switzerland\", \"Serbia\", \"Costa Rica\"]\n",
    "grpF = [\"Mexico\", \"Germany\", \"Sweden\", \"South Korea\"]\n",
    "grpG = [\"Belgium\", \"England\", \"Panama\", \"Tunisia\"]\n",
    "grpH = [\"Japan\", \"Senegal\", \"Poland\", \"Colombia\"]"
   ]
  },
  {
   "cell_type": "code",
   "execution_count": 20,
   "metadata": {},
   "outputs": [],
   "source": [
    "world_cup_df = pd.read_csv(\"../01 Data Collection/data/final/full_2018.csv\")"
   ]
  },
  {
   "cell_type": "code",
   "execution_count": 21,
   "metadata": {},
   "outputs": [],
   "source": [
    "world_cup_df = world_cup_df.drop(['Date', 'Team1_score', 'Team2_score', 'team1_fouls',\n",
    "       'team2_fouls', 'team1_yellow_cards', 'team2_yellow_cards',\n",
    "       'team1_red_cards', 'team2_red_cards', 'team1_offsides',\n",
    "       'team2_offsides', 'team1_won_corners', 'team2_won_corners',\n",
    "       'team1_saves', 'team2_saves', 'team1_possession', 'team2_possession',\n",
    "       'team1_shots', 'team2_shots','team1_lineup', 'team2_lineup'], axis = 1)"
   ]
  },
  {
   "cell_type": "code",
   "execution_count": 22,
   "metadata": {},
   "outputs": [
    {
     "data": {
      "text/html": [
       "<div>\n",
       "<style scoped>\n",
       "    .dataframe tbody tr th:only-of-type {\n",
       "        vertical-align: middle;\n",
       "    }\n",
       "\n",
       "    .dataframe tbody tr th {\n",
       "        vertical-align: top;\n",
       "    }\n",
       "\n",
       "    .dataframe thead th {\n",
       "        text-align: right;\n",
       "    }\n",
       "</style>\n",
       "<table border=\"1\" class=\"dataframe\">\n",
       "  <thead>\n",
       "    <tr style=\"text-align: right;\">\n",
       "      <th></th>\n",
       "      <th>Team1</th>\n",
       "      <th>Team2</th>\n",
       "      <th>team1_avg_wins</th>\n",
       "      <th>team1_avg_draws</th>\n",
       "      <th>team1_avg_gd</th>\n",
       "      <th>team2_avg_wins</th>\n",
       "      <th>team2_avg_draws</th>\n",
       "      <th>team2_avg_gd</th>\n",
       "      <th>avg_age_t1</th>\n",
       "      <th>avg_gpa_t1</th>\n",
       "      <th>avg_apa_t1</th>\n",
       "      <th>avg_ycpa_t1</th>\n",
       "      <th>total_minutes_t1</th>\n",
       "      <th>avg_age_t2</th>\n",
       "      <th>avg_gpa_t2</th>\n",
       "      <th>avg_apa_t2</th>\n",
       "      <th>avg_ycpa_t2</th>\n",
       "      <th>total_minutes_t2</th>\n",
       "    </tr>\n",
       "  </thead>\n",
       "  <tbody>\n",
       "    <tr>\n",
       "      <th>0</th>\n",
       "      <td>Russia</td>\n",
       "      <td>Saudi Arabia</td>\n",
       "      <td>0.0</td>\n",
       "      <td>0.4</td>\n",
       "      <td>-1.2</td>\n",
       "      <td>0.4</td>\n",
       "      <td>0.0</td>\n",
       "      <td>-0.2</td>\n",
       "      <td>0.000000</td>\n",
       "      <td>0.000000</td>\n",
       "      <td>0.000000</td>\n",
       "      <td>0.000000</td>\n",
       "      <td>0.0</td>\n",
       "      <td>0.000000</td>\n",
       "      <td>0.000000</td>\n",
       "      <td>0.000000</td>\n",
       "      <td>0.000000</td>\n",
       "      <td>0.0</td>\n",
       "    </tr>\n",
       "    <tr>\n",
       "      <th>1</th>\n",
       "      <td>Egypt</td>\n",
       "      <td>Uruguay</td>\n",
       "      <td>0.0</td>\n",
       "      <td>0.4</td>\n",
       "      <td>-1.0</td>\n",
       "      <td>0.6</td>\n",
       "      <td>0.2</td>\n",
       "      <td>1.0</td>\n",
       "      <td>28.000000</td>\n",
       "      <td>0.063885</td>\n",
       "      <td>0.046497</td>\n",
       "      <td>0.114935</td>\n",
       "      <td>21868.0</td>\n",
       "      <td>27.000000</td>\n",
       "      <td>0.155373</td>\n",
       "      <td>0.083902</td>\n",
       "      <td>0.111771</td>\n",
       "      <td>16932.0</td>\n",
       "    </tr>\n",
       "    <tr>\n",
       "      <th>2</th>\n",
       "      <td>Morocco</td>\n",
       "      <td>Iran</td>\n",
       "      <td>0.8</td>\n",
       "      <td>0.2</td>\n",
       "      <td>1.2</td>\n",
       "      <td>0.6</td>\n",
       "      <td>0.0</td>\n",
       "      <td>0.2</td>\n",
       "      <td>27.166667</td>\n",
       "      <td>0.101380</td>\n",
       "      <td>0.078912</td>\n",
       "      <td>0.069677</td>\n",
       "      <td>11938.0</td>\n",
       "      <td>29.000000</td>\n",
       "      <td>0.133929</td>\n",
       "      <td>0.065247</td>\n",
       "      <td>0.129121</td>\n",
       "      <td>4549.0</td>\n",
       "    </tr>\n",
       "    <tr>\n",
       "      <th>3</th>\n",
       "      <td>Portugal</td>\n",
       "      <td>Spain</td>\n",
       "      <td>0.4</td>\n",
       "      <td>0.4</td>\n",
       "      <td>0.2</td>\n",
       "      <td>0.4</td>\n",
       "      <td>0.6</td>\n",
       "      <td>1.2</td>\n",
       "      <td>27.333333</td>\n",
       "      <td>0.074083</td>\n",
       "      <td>0.129088</td>\n",
       "      <td>0.087366</td>\n",
       "      <td>30089.0</td>\n",
       "      <td>0.000000</td>\n",
       "      <td>0.000000</td>\n",
       "      <td>0.000000</td>\n",
       "      <td>0.000000</td>\n",
       "      <td>0.0</td>\n",
       "    </tr>\n",
       "    <tr>\n",
       "      <th>4</th>\n",
       "      <td>France</td>\n",
       "      <td>Australia</td>\n",
       "      <td>0.6</td>\n",
       "      <td>0.2</td>\n",
       "      <td>1.0</td>\n",
       "      <td>0.6</td>\n",
       "      <td>0.2</td>\n",
       "      <td>0.8</td>\n",
       "      <td>24.250000</td>\n",
       "      <td>0.107216</td>\n",
       "      <td>0.079808</td>\n",
       "      <td>0.061149</td>\n",
       "      <td>17209.0</td>\n",
       "      <td>0.000000</td>\n",
       "      <td>0.000000</td>\n",
       "      <td>0.000000</td>\n",
       "      <td>0.000000</td>\n",
       "      <td>0.0</td>\n",
       "    </tr>\n",
       "    <tr>\n",
       "      <th>5</th>\n",
       "      <td>Argentina</td>\n",
       "      <td>Iceland</td>\n",
       "      <td>0.6</td>\n",
       "      <td>0.0</td>\n",
       "      <td>0.0</td>\n",
       "      <td>0.2</td>\n",
       "      <td>0.2</td>\n",
       "      <td>-0.6</td>\n",
       "      <td>29.500000</td>\n",
       "      <td>0.096890</td>\n",
       "      <td>0.073549</td>\n",
       "      <td>0.149116</td>\n",
       "      <td>38975.0</td>\n",
       "      <td>0.000000</td>\n",
       "      <td>0.000000</td>\n",
       "      <td>0.000000</td>\n",
       "      <td>0.000000</td>\n",
       "      <td>0.0</td>\n",
       "    </tr>\n",
       "    <tr>\n",
       "      <th>6</th>\n",
       "      <td>Peru</td>\n",
       "      <td>Denmark</td>\n",
       "      <td>0.8</td>\n",
       "      <td>0.2</td>\n",
       "      <td>1.8</td>\n",
       "      <td>0.4</td>\n",
       "      <td>0.4</td>\n",
       "      <td>0.4</td>\n",
       "      <td>29.000000</td>\n",
       "      <td>0.075670</td>\n",
       "      <td>0.073740</td>\n",
       "      <td>0.131298</td>\n",
       "      <td>31795.0</td>\n",
       "      <td>25.333333</td>\n",
       "      <td>0.101692</td>\n",
       "      <td>0.112989</td>\n",
       "      <td>0.057718</td>\n",
       "      <td>12722.0</td>\n",
       "    </tr>\n",
       "    <tr>\n",
       "      <th>7</th>\n",
       "      <td>Croatia</td>\n",
       "      <td>Nigeria</td>\n",
       "      <td>0.4</td>\n",
       "      <td>0.2</td>\n",
       "      <td>-0.4</td>\n",
       "      <td>0.2</td>\n",
       "      <td>0.2</td>\n",
       "      <td>-0.6</td>\n",
       "      <td>28.250000</td>\n",
       "      <td>0.122674</td>\n",
       "      <td>0.079791</td>\n",
       "      <td>0.118846</td>\n",
       "      <td>28973.0</td>\n",
       "      <td>24.500000</td>\n",
       "      <td>0.122973</td>\n",
       "      <td>0.048611</td>\n",
       "      <td>0.060473</td>\n",
       "      <td>6410.0</td>\n",
       "    </tr>\n",
       "    <tr>\n",
       "      <th>8</th>\n",
       "      <td>Costa Rica</td>\n",
       "      <td>Serbia</td>\n",
       "      <td>0.4</td>\n",
       "      <td>0.0</td>\n",
       "      <td>-0.4</td>\n",
       "      <td>0.4</td>\n",
       "      <td>0.2</td>\n",
       "      <td>0.8</td>\n",
       "      <td>28.428571</td>\n",
       "      <td>0.083375</td>\n",
       "      <td>0.037646</td>\n",
       "      <td>0.162219</td>\n",
       "      <td>32489.0</td>\n",
       "      <td>27.666667</td>\n",
       "      <td>0.040556</td>\n",
       "      <td>0.053987</td>\n",
       "      <td>0.156155</td>\n",
       "      <td>16757.0</td>\n",
       "    </tr>\n",
       "    <tr>\n",
       "      <th>9</th>\n",
       "      <td>Germany</td>\n",
       "      <td>Mexico</td>\n",
       "      <td>0.2</td>\n",
       "      <td>0.4</td>\n",
       "      <td>-0.2</td>\n",
       "      <td>0.4</td>\n",
       "      <td>0.2</td>\n",
       "      <td>0.2</td>\n",
       "      <td>26.500000</td>\n",
       "      <td>0.162741</td>\n",
       "      <td>0.181738</td>\n",
       "      <td>0.077045</td>\n",
       "      <td>32052.0</td>\n",
       "      <td>0.000000</td>\n",
       "      <td>0.000000</td>\n",
       "      <td>0.000000</td>\n",
       "      <td>0.000000</td>\n",
       "      <td>0.0</td>\n",
       "    </tr>\n",
       "    <tr>\n",
       "      <th>10</th>\n",
       "      <td>Brazil</td>\n",
       "      <td>Switzerland</td>\n",
       "      <td>0.8</td>\n",
       "      <td>0.2</td>\n",
       "      <td>1.8</td>\n",
       "      <td>0.6</td>\n",
       "      <td>0.4</td>\n",
       "      <td>1.8</td>\n",
       "      <td>28.285714</td>\n",
       "      <td>0.183033</td>\n",
       "      <td>0.135793</td>\n",
       "      <td>0.112376</td>\n",
       "      <td>24036.0</td>\n",
       "      <td>0.000000</td>\n",
       "      <td>0.000000</td>\n",
       "      <td>0.000000</td>\n",
       "      <td>0.000000</td>\n",
       "      <td>0.0</td>\n",
       "    </tr>\n",
       "    <tr>\n",
       "      <th>11</th>\n",
       "      <td>Sweden</td>\n",
       "      <td>South Korea</td>\n",
       "      <td>0.2</td>\n",
       "      <td>0.4</td>\n",
       "      <td>-0.2</td>\n",
       "      <td>0.2</td>\n",
       "      <td>0.2</td>\n",
       "      <td>-0.6</td>\n",
       "      <td>28.250000</td>\n",
       "      <td>0.084396</td>\n",
       "      <td>0.117731</td>\n",
       "      <td>0.096888</td>\n",
       "      <td>24597.0</td>\n",
       "      <td>0.000000</td>\n",
       "      <td>0.000000</td>\n",
       "      <td>0.000000</td>\n",
       "      <td>0.000000</td>\n",
       "      <td>0.0</td>\n",
       "    </tr>\n",
       "    <tr>\n",
       "      <th>12</th>\n",
       "      <td>Belgium</td>\n",
       "      <td>Panama</td>\n",
       "      <td>0.8</td>\n",
       "      <td>0.2</td>\n",
       "      <td>2.2</td>\n",
       "      <td>0.2</td>\n",
       "      <td>0.2</td>\n",
       "      <td>-1.4</td>\n",
       "      <td>27.428571</td>\n",
       "      <td>0.113604</td>\n",
       "      <td>0.165234</td>\n",
       "      <td>0.070977</td>\n",
       "      <td>32482.0</td>\n",
       "      <td>0.000000</td>\n",
       "      <td>0.000000</td>\n",
       "      <td>0.000000</td>\n",
       "      <td>0.000000</td>\n",
       "      <td>0.0</td>\n",
       "    </tr>\n",
       "    <tr>\n",
       "      <th>13</th>\n",
       "      <td>Tunisia</td>\n",
       "      <td>England</td>\n",
       "      <td>0.4</td>\n",
       "      <td>0.4</td>\n",
       "      <td>0.2</td>\n",
       "      <td>0.6</td>\n",
       "      <td>0.4</td>\n",
       "      <td>0.8</td>\n",
       "      <td>25.714286</td>\n",
       "      <td>0.098889</td>\n",
       "      <td>0.059202</td>\n",
       "      <td>0.065685</td>\n",
       "      <td>12536.0</td>\n",
       "      <td>26.857143</td>\n",
       "      <td>0.056122</td>\n",
       "      <td>0.192655</td>\n",
       "      <td>0.066580</td>\n",
       "      <td>12472.0</td>\n",
       "    </tr>\n",
       "    <tr>\n",
       "      <th>14</th>\n",
       "      <td>Colombia</td>\n",
       "      <td>Japan</td>\n",
       "      <td>0.4</td>\n",
       "      <td>0.4</td>\n",
       "      <td>0.8</td>\n",
       "      <td>0.2</td>\n",
       "      <td>0.2</td>\n",
       "      <td>-0.6</td>\n",
       "      <td>26.125000</td>\n",
       "      <td>0.072649</td>\n",
       "      <td>0.124441</td>\n",
       "      <td>0.075402</td>\n",
       "      <td>9005.0</td>\n",
       "      <td>0.000000</td>\n",
       "      <td>0.000000</td>\n",
       "      <td>0.000000</td>\n",
       "      <td>0.000000</td>\n",
       "      <td>0.0</td>\n",
       "    </tr>\n",
       "    <tr>\n",
       "      <th>15</th>\n",
       "      <td>Poland</td>\n",
       "      <td>Senegal</td>\n",
       "      <td>0.4</td>\n",
       "      <td>0.2</td>\n",
       "      <td>0.6</td>\n",
       "      <td>0.2</td>\n",
       "      <td>0.6</td>\n",
       "      <td>0.2</td>\n",
       "      <td>28.857143</td>\n",
       "      <td>0.122883</td>\n",
       "      <td>0.190847</td>\n",
       "      <td>0.067327</td>\n",
       "      <td>22844.0</td>\n",
       "      <td>0.000000</td>\n",
       "      <td>0.000000</td>\n",
       "      <td>0.000000</td>\n",
       "      <td>0.000000</td>\n",
       "      <td>0.0</td>\n",
       "    </tr>\n",
       "    <tr>\n",
       "      <th>16</th>\n",
       "      <td>Russia</td>\n",
       "      <td>Egypt</td>\n",
       "      <td>0.2</td>\n",
       "      <td>0.2</td>\n",
       "      <td>-0.2</td>\n",
       "      <td>0.0</td>\n",
       "      <td>0.4</td>\n",
       "      <td>-1.0</td>\n",
       "      <td>0.000000</td>\n",
       "      <td>0.000000</td>\n",
       "      <td>0.000000</td>\n",
       "      <td>0.000000</td>\n",
       "      <td>0.0</td>\n",
       "      <td>27.000000</td>\n",
       "      <td>0.071577</td>\n",
       "      <td>0.047321</td>\n",
       "      <td>0.117582</td>\n",
       "      <td>12381.0</td>\n",
       "    </tr>\n",
       "    <tr>\n",
       "      <th>17</th>\n",
       "      <td>Portugal</td>\n",
       "      <td>Morocco</td>\n",
       "      <td>0.2</td>\n",
       "      <td>0.6</td>\n",
       "      <td>0.0</td>\n",
       "      <td>0.6</td>\n",
       "      <td>0.2</td>\n",
       "      <td>0.8</td>\n",
       "      <td>27.555556</td>\n",
       "      <td>0.066042</td>\n",
       "      <td>0.141515</td>\n",
       "      <td>0.076401</td>\n",
       "      <td>32073.0</td>\n",
       "      <td>27.750000</td>\n",
       "      <td>0.058737</td>\n",
       "      <td>0.076701</td>\n",
       "      <td>0.084516</td>\n",
       "      <td>9577.0</td>\n",
       "    </tr>\n",
       "    <tr>\n",
       "      <th>18</th>\n",
       "      <td>Uruguay</td>\n",
       "      <td>Saudi Arabia</td>\n",
       "      <td>0.8</td>\n",
       "      <td>0.0</td>\n",
       "      <td>1.2</td>\n",
       "      <td>0.2</td>\n",
       "      <td>0.0</td>\n",
       "      <td>-1.6</td>\n",
       "      <td>28.833333</td>\n",
       "      <td>0.125715</td>\n",
       "      <td>0.140827</td>\n",
       "      <td>0.091839</td>\n",
       "      <td>26151.0</td>\n",
       "      <td>0.000000</td>\n",
       "      <td>0.000000</td>\n",
       "      <td>0.000000</td>\n",
       "      <td>0.000000</td>\n",
       "      <td>0.0</td>\n",
       "    </tr>\n",
       "    <tr>\n",
       "      <th>19</th>\n",
       "      <td>Iran</td>\n",
       "      <td>Spain</td>\n",
       "      <td>0.8</td>\n",
       "      <td>0.0</td>\n",
       "      <td>0.6</td>\n",
       "      <td>0.4</td>\n",
       "      <td>0.6</td>\n",
       "      <td>1.2</td>\n",
       "      <td>25.250000</td>\n",
       "      <td>0.076964</td>\n",
       "      <td>0.052624</td>\n",
       "      <td>0.157894</td>\n",
       "      <td>6564.0</td>\n",
       "      <td>0.000000</td>\n",
       "      <td>0.000000</td>\n",
       "      <td>0.000000</td>\n",
       "      <td>0.000000</td>\n",
       "      <td>0.0</td>\n",
       "    </tr>\n",
       "    <tr>\n",
       "      <th>20</th>\n",
       "      <td>Denmark</td>\n",
       "      <td>Australia</td>\n",
       "      <td>0.6</td>\n",
       "      <td>0.4</td>\n",
       "      <td>0.8</td>\n",
       "      <td>0.4</td>\n",
       "      <td>0.2</td>\n",
       "      <td>0.2</td>\n",
       "      <td>26.285714</td>\n",
       "      <td>0.098443</td>\n",
       "      <td>0.104367</td>\n",
       "      <td>0.049472</td>\n",
       "      <td>14255.0</td>\n",
       "      <td>0.000000</td>\n",
       "      <td>0.000000</td>\n",
       "      <td>0.000000</td>\n",
       "      <td>0.000000</td>\n",
       "      <td>0.0</td>\n",
       "    </tr>\n",
       "    <tr>\n",
       "      <th>21</th>\n",
       "      <td>France</td>\n",
       "      <td>Peru</td>\n",
       "      <td>0.8</td>\n",
       "      <td>0.2</td>\n",
       "      <td>1.4</td>\n",
       "      <td>0.6</td>\n",
       "      <td>0.2</td>\n",
       "      <td>1.2</td>\n",
       "      <td>26.500000</td>\n",
       "      <td>0.156650</td>\n",
       "      <td>0.085863</td>\n",
       "      <td>0.067909</td>\n",
       "      <td>24623.0</td>\n",
       "      <td>28.333333</td>\n",
       "      <td>0.040336</td>\n",
       "      <td>0.072331</td>\n",
       "      <td>0.128067</td>\n",
       "      <td>26371.0</td>\n",
       "    </tr>\n",
       "    <tr>\n",
       "      <th>22</th>\n",
       "      <td>Argentina</td>\n",
       "      <td>Croatia</td>\n",
       "      <td>0.4</td>\n",
       "      <td>0.2</td>\n",
       "      <td>-0.2</td>\n",
       "      <td>0.6</td>\n",
       "      <td>0.0</td>\n",
       "      <td>0.0</td>\n",
       "      <td>29.000000</td>\n",
       "      <td>0.096113</td>\n",
       "      <td>0.023491</td>\n",
       "      <td>0.178691</td>\n",
       "      <td>25312.0</td>\n",
       "      <td>29.166667</td>\n",
       "      <td>0.099592</td>\n",
       "      <td>0.091236</td>\n",
       "      <td>0.134892</td>\n",
       "      <td>26971.0</td>\n",
       "    </tr>\n",
       "    <tr>\n",
       "      <th>23</th>\n",
       "      <td>Brazil</td>\n",
       "      <td>Costa Rica</td>\n",
       "      <td>0.8</td>\n",
       "      <td>0.2</td>\n",
       "      <td>1.8</td>\n",
       "      <td>0.2</td>\n",
       "      <td>0.0</td>\n",
       "      <td>-0.8</td>\n",
       "      <td>28.285714</td>\n",
       "      <td>0.231031</td>\n",
       "      <td>0.176592</td>\n",
       "      <td>0.135870</td>\n",
       "      <td>28844.0</td>\n",
       "      <td>29.000000</td>\n",
       "      <td>0.080604</td>\n",
       "      <td>0.043921</td>\n",
       "      <td>0.164255</td>\n",
       "      <td>29624.0</td>\n",
       "    </tr>\n",
       "    <tr>\n",
       "      <th>24</th>\n",
       "      <td>Nigeria</td>\n",
       "      <td>Iceland</td>\n",
       "      <td>0.0</td>\n",
       "      <td>0.2</td>\n",
       "      <td>-1.2</td>\n",
       "      <td>0.0</td>\n",
       "      <td>0.4</td>\n",
       "      <td>-1.2</td>\n",
       "      <td>23.571429</td>\n",
       "      <td>0.138402</td>\n",
       "      <td>0.071306</td>\n",
       "      <td>0.091455</td>\n",
       "      <td>11201.0</td>\n",
       "      <td>0.000000</td>\n",
       "      <td>0.000000</td>\n",
       "      <td>0.000000</td>\n",
       "      <td>0.000000</td>\n",
       "      <td>0.0</td>\n",
       "    </tr>\n",
       "    <tr>\n",
       "      <th>25</th>\n",
       "      <td>Serbia</td>\n",
       "      <td>Switzerland</td>\n",
       "      <td>0.6</td>\n",
       "      <td>0.0</td>\n",
       "      <td>1.0</td>\n",
       "      <td>0.6</td>\n",
       "      <td>0.4</td>\n",
       "      <td>1.8</td>\n",
       "      <td>27.285714</td>\n",
       "      <td>0.046191</td>\n",
       "      <td>0.086275</td>\n",
       "      <td>0.133847</td>\n",
       "      <td>18299.0</td>\n",
       "      <td>0.000000</td>\n",
       "      <td>0.000000</td>\n",
       "      <td>0.000000</td>\n",
       "      <td>0.000000</td>\n",
       "      <td>0.0</td>\n",
       "    </tr>\n",
       "    <tr>\n",
       "      <th>26</th>\n",
       "      <td>Belgium</td>\n",
       "      <td>Tunisia</td>\n",
       "      <td>0.8</td>\n",
       "      <td>0.2</td>\n",
       "      <td>2.6</td>\n",
       "      <td>0.2</td>\n",
       "      <td>0.4</td>\n",
       "      <td>-0.2</td>\n",
       "      <td>27.375000</td>\n",
       "      <td>0.133495</td>\n",
       "      <td>0.178671</td>\n",
       "      <td>0.064945</td>\n",
       "      <td>38637.0</td>\n",
       "      <td>25.833333</td>\n",
       "      <td>0.091560</td>\n",
       "      <td>0.045260</td>\n",
       "      <td>0.076632</td>\n",
       "      <td>11062.0</td>\n",
       "    </tr>\n",
       "    <tr>\n",
       "      <th>27</th>\n",
       "      <td>South Korea</td>\n",
       "      <td>Mexico</td>\n",
       "      <td>0.2</td>\n",
       "      <td>0.2</td>\n",
       "      <td>-0.6</td>\n",
       "      <td>0.4</td>\n",
       "      <td>0.2</td>\n",
       "      <td>-0.2</td>\n",
       "      <td>0.000000</td>\n",
       "      <td>0.000000</td>\n",
       "      <td>0.000000</td>\n",
       "      <td>0.000000</td>\n",
       "      <td>0.0</td>\n",
       "      <td>0.000000</td>\n",
       "      <td>0.000000</td>\n",
       "      <td>0.000000</td>\n",
       "      <td>0.000000</td>\n",
       "      <td>0.0</td>\n",
       "    </tr>\n",
       "    <tr>\n",
       "      <th>28</th>\n",
       "      <td>Germany</td>\n",
       "      <td>Sweden</td>\n",
       "      <td>0.2</td>\n",
       "      <td>0.2</td>\n",
       "      <td>-0.4</td>\n",
       "      <td>0.2</td>\n",
       "      <td>0.4</td>\n",
       "      <td>-0.2</td>\n",
       "      <td>26.333333</td>\n",
       "      <td>0.206163</td>\n",
       "      <td>0.184340</td>\n",
       "      <td>0.042613</td>\n",
       "      <td>27908.0</td>\n",
       "      <td>28.428571</td>\n",
       "      <td>0.096453</td>\n",
       "      <td>0.134550</td>\n",
       "      <td>0.082157</td>\n",
       "      <td>23710.0</td>\n",
       "    </tr>\n",
       "    <tr>\n",
       "      <th>29</th>\n",
       "      <td>England</td>\n",
       "      <td>Panama</td>\n",
       "      <td>0.8</td>\n",
       "      <td>0.2</td>\n",
       "      <td>1.0</td>\n",
       "      <td>0.2</td>\n",
       "      <td>0.2</td>\n",
       "      <td>-1.8</td>\n",
       "      <td>26.250000</td>\n",
       "      <td>0.049107</td>\n",
       "      <td>0.210240</td>\n",
       "      <td>0.079091</td>\n",
       "      <td>12799.0</td>\n",
       "      <td>0.000000</td>\n",
       "      <td>0.000000</td>\n",
       "      <td>0.000000</td>\n",
       "      <td>0.000000</td>\n",
       "      <td>0.0</td>\n",
       "    </tr>\n",
       "  </tbody>\n",
       "</table>\n",
       "</div>"
      ],
      "text/plain": [
       "          Team1         Team2  team1_avg_wins  team1_avg_draws  team1_avg_gd  \\\n",
       "0        Russia  Saudi Arabia             0.0              0.4          -1.2   \n",
       "1         Egypt       Uruguay             0.0              0.4          -1.0   \n",
       "2       Morocco          Iran             0.8              0.2           1.2   \n",
       "3      Portugal         Spain             0.4              0.4           0.2   \n",
       "4        France     Australia             0.6              0.2           1.0   \n",
       "5     Argentina       Iceland             0.6              0.0           0.0   \n",
       "6          Peru       Denmark             0.8              0.2           1.8   \n",
       "7       Croatia       Nigeria             0.4              0.2          -0.4   \n",
       "8    Costa Rica        Serbia             0.4              0.0          -0.4   \n",
       "9       Germany        Mexico             0.2              0.4          -0.2   \n",
       "10       Brazil   Switzerland             0.8              0.2           1.8   \n",
       "11       Sweden   South Korea             0.2              0.4          -0.2   \n",
       "12      Belgium        Panama             0.8              0.2           2.2   \n",
       "13      Tunisia       England             0.4              0.4           0.2   \n",
       "14     Colombia         Japan             0.4              0.4           0.8   \n",
       "15       Poland       Senegal             0.4              0.2           0.6   \n",
       "16       Russia         Egypt             0.2              0.2          -0.2   \n",
       "17     Portugal       Morocco             0.2              0.6           0.0   \n",
       "18      Uruguay  Saudi Arabia             0.8              0.0           1.2   \n",
       "19         Iran         Spain             0.8              0.0           0.6   \n",
       "20      Denmark     Australia             0.6              0.4           0.8   \n",
       "21       France          Peru             0.8              0.2           1.4   \n",
       "22    Argentina       Croatia             0.4              0.2          -0.2   \n",
       "23       Brazil    Costa Rica             0.8              0.2           1.8   \n",
       "24      Nigeria       Iceland             0.0              0.2          -1.2   \n",
       "25       Serbia   Switzerland             0.6              0.0           1.0   \n",
       "26      Belgium       Tunisia             0.8              0.2           2.6   \n",
       "27  South Korea        Mexico             0.2              0.2          -0.6   \n",
       "28      Germany        Sweden             0.2              0.2          -0.4   \n",
       "29      England        Panama             0.8              0.2           1.0   \n",
       "\n",
       "    team2_avg_wins  team2_avg_draws  team2_avg_gd  avg_age_t1  avg_gpa_t1  \\\n",
       "0              0.4              0.0          -0.2    0.000000    0.000000   \n",
       "1              0.6              0.2           1.0   28.000000    0.063885   \n",
       "2              0.6              0.0           0.2   27.166667    0.101380   \n",
       "3              0.4              0.6           1.2   27.333333    0.074083   \n",
       "4              0.6              0.2           0.8   24.250000    0.107216   \n",
       "5              0.2              0.2          -0.6   29.500000    0.096890   \n",
       "6              0.4              0.4           0.4   29.000000    0.075670   \n",
       "7              0.2              0.2          -0.6   28.250000    0.122674   \n",
       "8              0.4              0.2           0.8   28.428571    0.083375   \n",
       "9              0.4              0.2           0.2   26.500000    0.162741   \n",
       "10             0.6              0.4           1.8   28.285714    0.183033   \n",
       "11             0.2              0.2          -0.6   28.250000    0.084396   \n",
       "12             0.2              0.2          -1.4   27.428571    0.113604   \n",
       "13             0.6              0.4           0.8   25.714286    0.098889   \n",
       "14             0.2              0.2          -0.6   26.125000    0.072649   \n",
       "15             0.2              0.6           0.2   28.857143    0.122883   \n",
       "16             0.0              0.4          -1.0    0.000000    0.000000   \n",
       "17             0.6              0.2           0.8   27.555556    0.066042   \n",
       "18             0.2              0.0          -1.6   28.833333    0.125715   \n",
       "19             0.4              0.6           1.2   25.250000    0.076964   \n",
       "20             0.4              0.2           0.2   26.285714    0.098443   \n",
       "21             0.6              0.2           1.2   26.500000    0.156650   \n",
       "22             0.6              0.0           0.0   29.000000    0.096113   \n",
       "23             0.2              0.0          -0.8   28.285714    0.231031   \n",
       "24             0.0              0.4          -1.2   23.571429    0.138402   \n",
       "25             0.6              0.4           1.8   27.285714    0.046191   \n",
       "26             0.2              0.4          -0.2   27.375000    0.133495   \n",
       "27             0.4              0.2          -0.2    0.000000    0.000000   \n",
       "28             0.2              0.4          -0.2   26.333333    0.206163   \n",
       "29             0.2              0.2          -1.8   26.250000    0.049107   \n",
       "\n",
       "    avg_apa_t1  avg_ycpa_t1  total_minutes_t1  avg_age_t2  avg_gpa_t2  \\\n",
       "0     0.000000     0.000000               0.0    0.000000    0.000000   \n",
       "1     0.046497     0.114935           21868.0   27.000000    0.155373   \n",
       "2     0.078912     0.069677           11938.0   29.000000    0.133929   \n",
       "3     0.129088     0.087366           30089.0    0.000000    0.000000   \n",
       "4     0.079808     0.061149           17209.0    0.000000    0.000000   \n",
       "5     0.073549     0.149116           38975.0    0.000000    0.000000   \n",
       "6     0.073740     0.131298           31795.0   25.333333    0.101692   \n",
       "7     0.079791     0.118846           28973.0   24.500000    0.122973   \n",
       "8     0.037646     0.162219           32489.0   27.666667    0.040556   \n",
       "9     0.181738     0.077045           32052.0    0.000000    0.000000   \n",
       "10    0.135793     0.112376           24036.0    0.000000    0.000000   \n",
       "11    0.117731     0.096888           24597.0    0.000000    0.000000   \n",
       "12    0.165234     0.070977           32482.0    0.000000    0.000000   \n",
       "13    0.059202     0.065685           12536.0   26.857143    0.056122   \n",
       "14    0.124441     0.075402            9005.0    0.000000    0.000000   \n",
       "15    0.190847     0.067327           22844.0    0.000000    0.000000   \n",
       "16    0.000000     0.000000               0.0   27.000000    0.071577   \n",
       "17    0.141515     0.076401           32073.0   27.750000    0.058737   \n",
       "18    0.140827     0.091839           26151.0    0.000000    0.000000   \n",
       "19    0.052624     0.157894            6564.0    0.000000    0.000000   \n",
       "20    0.104367     0.049472           14255.0    0.000000    0.000000   \n",
       "21    0.085863     0.067909           24623.0   28.333333    0.040336   \n",
       "22    0.023491     0.178691           25312.0   29.166667    0.099592   \n",
       "23    0.176592     0.135870           28844.0   29.000000    0.080604   \n",
       "24    0.071306     0.091455           11201.0    0.000000    0.000000   \n",
       "25    0.086275     0.133847           18299.0    0.000000    0.000000   \n",
       "26    0.178671     0.064945           38637.0   25.833333    0.091560   \n",
       "27    0.000000     0.000000               0.0    0.000000    0.000000   \n",
       "28    0.184340     0.042613           27908.0   28.428571    0.096453   \n",
       "29    0.210240     0.079091           12799.0    0.000000    0.000000   \n",
       "\n",
       "    avg_apa_t2  avg_ycpa_t2  total_minutes_t2  \n",
       "0     0.000000     0.000000               0.0  \n",
       "1     0.083902     0.111771           16932.0  \n",
       "2     0.065247     0.129121            4549.0  \n",
       "3     0.000000     0.000000               0.0  \n",
       "4     0.000000     0.000000               0.0  \n",
       "5     0.000000     0.000000               0.0  \n",
       "6     0.112989     0.057718           12722.0  \n",
       "7     0.048611     0.060473            6410.0  \n",
       "8     0.053987     0.156155           16757.0  \n",
       "9     0.000000     0.000000               0.0  \n",
       "10    0.000000     0.000000               0.0  \n",
       "11    0.000000     0.000000               0.0  \n",
       "12    0.000000     0.000000               0.0  \n",
       "13    0.192655     0.066580           12472.0  \n",
       "14    0.000000     0.000000               0.0  \n",
       "15    0.000000     0.000000               0.0  \n",
       "16    0.047321     0.117582           12381.0  \n",
       "17    0.076701     0.084516            9577.0  \n",
       "18    0.000000     0.000000               0.0  \n",
       "19    0.000000     0.000000               0.0  \n",
       "20    0.000000     0.000000               0.0  \n",
       "21    0.072331     0.128067           26371.0  \n",
       "22    0.091236     0.134892           26971.0  \n",
       "23    0.043921     0.164255           29624.0  \n",
       "24    0.000000     0.000000               0.0  \n",
       "25    0.000000     0.000000               0.0  \n",
       "26    0.045260     0.076632           11062.0  \n",
       "27    0.000000     0.000000               0.0  \n",
       "28    0.134550     0.082157           23710.0  \n",
       "29    0.000000     0.000000               0.0  "
      ]
     },
     "execution_count": 22,
     "metadata": {},
     "output_type": "execute_result"
    }
   ],
   "source": [
    "world_cup_df"
   ]
  },
  {
   "cell_type": "code",
   "execution_count": 185,
   "metadata": {},
   "outputs": [],
   "source": [
    "# scraper didnt work for colombia\n",
    "# colombia_feats = [\"Colombia\",0.4,0.4,0.8,27.181818,0.172363,0.076749,0.136069,26204]\n",
    "# country_feature_df = country_feature_df.append(colombia_s, ignore_index=True)\n",
    "# country_feature_df.to_csv(\"country_features_2018.csv\",index=False)"
   ]
  },
  {
   "cell_type": "code",
   "execution_count": 24,
   "metadata": {},
   "outputs": [],
   "source": [
    "# for each team, go through the dataframe and retrieve the first row that it appears in and extract the features\n",
    "all_countries = grpA + grpB + grpC + grpD + grpE + grpF + grpG + grpH"
   ]
  },
  {
   "cell_type": "code",
   "execution_count": 26,
   "metadata": {},
   "outputs": [],
   "source": [
    "team = all_countries[0]"
   ]
  },
  {
   "cell_type": "code",
   "execution_count": 50,
   "metadata": {},
   "outputs": [],
   "source": [
    "matches_df = world_cup_df.loc[(world_cup_df.Team1 == team) | (world_cup_df.Team2 == team)]\n",
    "matches_df = matches_df.reset_index(drop=True)\n",
    "first_match = matches_df.iloc[0]\n",
    "get_features(first_match_team)"
   ]
  },
  {
   "cell_type": "code",
   "execution_count": 81,
   "metadata": {},
   "outputs": [],
   "source": [
    "def get_features(first_match, team):\n",
    "    if first_match.Team1 == team:\n",
    "        cols = list(filter(lambda x: \"1\" in x,list(first_match.keys())))\n",
    "        return list(first_match[cols])\n",
    "    cols = list(filter(lambda x: \"2\" in x,list(first_match.keys())))\n",
    "    return list(first_match[cols])"
   ]
  },
  {
   "cell_type": "code",
   "execution_count": 82,
   "metadata": {},
   "outputs": [],
   "source": [
    "all_features = []\n",
    "for team in all_countries:\n",
    "    try:\n",
    "        matches_df = world_cup_df.loc[(world_cup_df.Team1 == team) | (world_cup_df.Team2 == team)]\n",
    "        matches_df = matches_df.reset_index(drop=True)\n",
    "        first_match = matches_df.iloc[0]\n",
    "        if get_features(first_match, team) == None:\n",
    "            print(team)\n",
    "        all_features.append(get_features(first_match,team))\n",
    "    except:\n",
    "        continue"
   ]
  },
  {
   "cell_type": "code",
   "execution_count": 88,
   "metadata": {},
   "outputs": [],
   "source": [
    "header = ['name','avg_wins','avg_draws', 'avg_gd', 'avg_age',\n",
    "       'avg_gpa', 'avg_apa', 'avg_ycpa', 'total_minutes']\n",
    "country_feature_df = pd.DataFrame(all_features, columns=header)"
   ]
  },
  {
   "cell_type": "code",
   "execution_count": 334,
   "metadata": {},
   "outputs": [],
   "source": [
    "# given two countries, get probabilities\n",
    "def get_probabilities(team1, team2, country_feature_df,clf):\n",
    "    team1_feats = country_feature_df[country_feature_df.name == team1].drop(\"name\",axis=1).values.tolist()[0]\n",
    "    team2_feats = country_feature_df[country_feature_df.name == team2].drop(\"name\",axis=1).values.tolist()[0]\n",
    "    proba = clf.predict_proba(np.array(team1_feats+team2_feats).reshape(1, -1))\n",
    "#     print(team1+\"_wins\",team2+\"_wins\",\"draw\")\n",
    "#     print(proba)\n",
    "    return proba"
   ]
  },
  {
   "cell_type": "code",
   "execution_count": 201,
   "metadata": {},
   "outputs": [
    {
     "name": "stdout",
     "output_type": "stream",
     "text": [
      "Poland_wins Colombia_wins draw\n",
      "[[ 0.3299934   0.32814048  0.34186612]]\n"
     ]
    }
   ],
   "source": [
    "proba = get_probabilities(\"Poland\", \"Colombia\", country_feature_df,clf)"
   ]
  },
  {
   "cell_type": "code",
   "execution_count": 247,
   "metadata": {},
   "outputs": [],
   "source": [
    "test = [\"A\",\"B\",\"C\",\"D\"]"
   ]
  },
  {
   "cell_type": "markdown",
   "metadata": {},
   "source": [
    "## Simulating the tournament"
   ]
  },
  {
   "cell_type": "code",
   "execution_count": 253,
   "metadata": {},
   "outputs": [],
   "source": [
    "# round robin\n",
    "def generate_matches(group):\n",
    "    group = group.copy()\n",
    "    games = []\n",
    "    for team in group.copy():\n",
    "        group.remove(team)\n",
    "        for team2 in group:\n",
    "            games.append((team,team2))\n",
    "    return games"
   ]
  },
  {
   "cell_type": "code",
   "execution_count": 255,
   "metadata": {},
   "outputs": [],
   "source": [
    "test = generate_matches(grpA)"
   ]
  },
  {
   "cell_type": "code",
   "execution_count": 365,
   "metadata": {},
   "outputs": [],
   "source": [
    "def get_simulated_result(proba):\n",
    "    dist = proba.round(decimals=2) * 100\n",
    "    pool = []\n",
    "    counter = 0\n",
    "    for p in dist[0]:\n",
    "        temp = [counter] * int(p) \n",
    "        pool += temp\n",
    "        counter += 1\n",
    "    try:\n",
    "        result = pool[int(random() * 100)]\n",
    "    except:\n",
    "        result = pool[-1]\n",
    "    return result"
   ]
  },
  {
   "cell_type": "code",
   "execution_count": 338,
   "metadata": {},
   "outputs": [],
   "source": [
    "def generate_standings(grp):\n",
    "    standings = {x: [0,0,0] for x in grp}\n",
    "    return standings"
   ]
  },
  {
   "cell_type": "code",
   "execution_count": 347,
   "metadata": {},
   "outputs": [],
   "source": [
    "def get_simulated_standings(matches_list, grp):\n",
    "    standings = generate_standings(grp)\n",
    "    for match in matches_list:\n",
    "        proba = get_probabilities(match[0], match[1],country_feature_df,clf)\n",
    "        result = get_simulated_result(proba)\n",
    "        if result == 0:\n",
    "            standings[match[0]][0] += 1\n",
    "            standings[match[1]][1] += 1\n",
    "        elif result == 1:\n",
    "            standings[match[0]][1] += 1\n",
    "            standings[match[1]][0] += 1\n",
    "        else:\n",
    "            standings[match[0]][2] += 1\n",
    "            standings[match[1]][2] += 1\n",
    "    return standings"
   ]
  },
  {
   "cell_type": "code",
   "execution_count": 322,
   "metadata": {},
   "outputs": [
    {
     "name": "stdout",
     "output_type": "stream",
     "text": [
      "Russia_wins Uruguay_wins draw\n",
      "[[ 0.24447853  0.4647304   0.29079107]]\n",
      "Russia_wins Egypt_wins draw\n",
      "[[ 0.34564781  0.37343658  0.28091561]]\n",
      "Russia_wins Saudi Arabia_wins draw\n",
      "[[ 0.3485933   0.33599291  0.31541379]]\n",
      "Uruguay_wins Egypt_wins draw\n",
      "[[ 0.41106128  0.25523278  0.33370594]]\n",
      "Uruguay_wins Saudi Arabia_wins draw\n",
      "[[ 0.42700185  0.20265341  0.37034474]]\n",
      "Egypt_wins Saudi Arabia_wins draw\n",
      "[[ 0.37005237  0.28047353  0.3494741 ]]\n"
     ]
    }
   ],
   "source": [
    "stand = get_simulated_standings(generate_matches(grpA),grpA)"
   ]
  },
  {
   "cell_type": "code",
   "execution_count": 323,
   "metadata": {},
   "outputs": [
    {
     "data": {
      "text/plain": [
       "{'Egypt': [2, 1, 0],\n",
       " 'Russia': [1, 2, 0],\n",
       " 'Saudi Arabia': [1, 2, 0],\n",
       " 'Uruguay': [2, 1, 0]}"
      ]
     },
     "execution_count": 323,
     "metadata": {},
     "output_type": "execute_result"
    }
   ],
   "source": [
    "stand"
   ]
  },
  {
   "cell_type": "code",
   "execution_count": 502,
   "metadata": {},
   "outputs": [],
   "source": [
    "def get_top_two(standings, grp):\n",
    "    first = None\n",
    "    first_score = 0\n",
    "    second = None\n",
    "    second_score = 0\n",
    "    for team in grp:\n",
    "        wld = standings[team]\n",
    "        score = 3 * wld[0] + 1 * wld[2]\n",
    "        if score > first_score:\n",
    "            second = first\n",
    "            second_score = first_score\n",
    "            first = team\n",
    "            first_score = score\n",
    "        elif score > second_score:\n",
    "            second = team\n",
    "            second_score = score\n",
    "    return (first,second)"
   ]
  },
  {
   "cell_type": "code",
   "execution_count": 327,
   "metadata": {},
   "outputs": [
    {
     "data": {
      "text/plain": [
       "('Uruguay', 'Egypt')"
      ]
     },
     "execution_count": 327,
     "metadata": {},
     "output_type": "execute_result"
    }
   ],
   "source": [
    "get_top_two(stand, grpA)"
   ]
  },
  {
   "cell_type": "code",
   "execution_count": 342,
   "metadata": {},
   "outputs": [],
   "source": [
    "wc_groups = [grpA, grpB, grpC, grpD, grpE, grpF, grpG, grpH]"
   ]
  },
  {
   "cell_type": "code",
   "execution_count": 472,
   "metadata": {},
   "outputs": [],
   "source": [
    "def round_robin(wc_groups):\n",
    "    ro16 = []\n",
    "    for grp in wc_groups:\n",
    "        matches = generate_matches(grp)\n",
    "        standings = get_simulated_standings(matches,grp)\n",
    "        ro16.append(get_top_two(standings,grp))\n",
    "    return ro16"
   ]
  },
  {
   "cell_type": "code",
   "execution_count": 368,
   "metadata": {},
   "outputs": [
    {
     "name": "stdout",
     "output_type": "stream",
     "text": [
      "['Russia', 'Uruguay', 'Egypt', 'Saudi Arabia']\n",
      "{'Egypt': [1, 1, 1], 'Uruguay': [0, 1, 2], 'Saudi Arabia': [1, 0, 2], 'Russia': [1, 1, 1]}\n",
      "['Spain', 'Portugal', 'Iran', 'Morocco']\n",
      "{'Morocco': [2, 0, 1], 'Portugal': [1, 0, 2], 'Iran': [0, 3, 0], 'Spain': [1, 1, 1]}\n",
      "['France', 'Denmark', 'Australia', 'Peru']\n",
      "{'Denmark': [1, 1, 1], 'Peru': [0, 2, 1], 'France': [2, 1, 0], 'Australia': [2, 1, 0]}\n",
      "['Croatia', 'Nigeria', 'Iceland', 'Argentina']\n",
      "{'Nigeria': [1, 2, 0], 'Argentina': [2, 0, 1], 'Iceland': [2, 0, 1], 'Croatia': [0, 3, 0]}\n",
      "['Brazil', 'Switzerland', 'Serbia', 'Costa Rica']\n",
      "{'Serbia': [2, 1, 0], 'Switzerland': [1, 2, 0], 'Brazil': [2, 1, 0], 'Costa Rica': [1, 2, 0]}\n",
      "['Mexico', 'Germany', 'Sweden', 'South Korea']\n",
      "{'Sweden': [1, 0, 2], 'South Korea': [0, 2, 1], 'Mexico': [0, 1, 2], 'Germany': [2, 0, 1]}\n",
      "['Belgium', 'England', 'Panama', 'Tunisia']\n",
      "{'Panama': [0, 2, 1], 'Tunisia': [0, 0, 3], 'England': [2, 0, 1], 'Belgium': [1, 1, 1]}\n",
      "['Japan', 'Senegal', 'Poland', 'Colombia']\n",
      "{'Japan': [1, 2, 0], 'Senegal': [0, 3, 0], 'Poland': [2, 0, 1], 'Colombia': [2, 0, 1]}\n"
     ]
    }
   ],
   "source": [
    "ro16 = round_robin(wc_groups)"
   ]
  },
  {
   "cell_type": "code",
   "execution_count": 396,
   "metadata": {},
   "outputs": [
    {
     "data": {
      "text/plain": [
       "[('Saudi Arabia', 'Russia'),\n",
       " ('Morocco', 'Portugal'),\n",
       " ('France', 'Australia'),\n",
       " ('Iceland', 'Argentina'),\n",
       " ('Brazil', 'Serbia'),\n",
       " ('Germany', 'Sweden'),\n",
       " ('England', 'Belgium'),\n",
       " ('Poland', 'Colombia')]"
      ]
     },
     "execution_count": 396,
     "metadata": {},
     "output_type": "execute_result"
    }
   ],
   "source": [
    "ro16"
   ]
  },
  {
   "cell_type": "code",
   "execution_count": 372,
   "metadata": {},
   "outputs": [
    {
     "data": {
      "text/plain": [
       "'Portugal'"
      ]
     },
     "execution_count": 372,
     "metadata": {},
     "output_type": "execute_result"
    }
   ],
   "source": [
    "ro16[1][1]"
   ]
  },
  {
   "cell_type": "code",
   "execution_count": 375,
   "metadata": {},
   "outputs": [],
   "source": [
    "def get_simulated_result_playoffs(proba, team1, team2):\n",
    "    result = get_simulated_result(proba)\n",
    "    while result == 2:\n",
    "        result = get_simulated_result(proba)\n",
    "    if result == 0:\n",
    "        return team1\n",
    "    return team2"
   ]
  },
  {
   "cell_type": "code",
   "execution_count": 397,
   "metadata": {},
   "outputs": [],
   "source": [
    "# Round of 16\n",
    "def ro16_sim(ro16):\n",
    "    ro8 = []\n",
    "    match1_proba = get_probabilities(ro16[0][0], ro16[1][1], country_feature_df, clf)\n",
    "    ro8.append(get_simulated_result_playoffs(match1_proba,ro16[0][0], ro16[1][1]))\n",
    "    \n",
    "    match2_proba = get_probabilities(ro16[2][0], ro16[3][1], country_feature_df, clf)\n",
    "    ro8.append(get_simulated_result_playoffs(match2_proba,ro16[2][0], ro16[3][1]))\n",
    "    \n",
    "    match3_proba = get_probabilities(ro16[4][0], ro16[5][1], country_feature_df, clf)\n",
    "    ro8.append(get_simulated_result_playoffs(match3_proba,ro16[4][0], ro16[5][1])) \n",
    "    \n",
    "    match4_proba = get_probabilities(ro16[6][0], ro16[7][1], country_feature_df, clf)\n",
    "    ro8.append(get_simulated_result_playoffs(match4_proba,ro16[6][0], ro16[7][1]))    \n",
    "    \n",
    "    match5_proba = get_probabilities(ro16[1][0], ro16[0][1], country_feature_df, clf)\n",
    "    ro8.append(get_simulated_result_playoffs(match5_proba,ro16[1][0], ro16[0][1]))\n",
    "    \n",
    "    match6_proba = get_probabilities(ro16[3][0], ro16[2][1], country_feature_df, clf)\n",
    "    ro8.append(get_simulated_result_playoffs(match6_proba,ro16[3][0], ro16[2][1]))\n",
    "    \n",
    "    match7_proba = get_probabilities(ro16[5][0], ro16[4][1], country_feature_df, clf)\n",
    "    ro8.append(get_simulated_result_playoffs(match7_proba,ro16[5][0], ro16[4][1]))\n",
    "    \n",
    "    match8_proba = get_probabilities(ro16[7][0], ro16[6][1], country_feature_df, clf)\n",
    "    ro8.append(get_simulated_result_playoffs(match8_proba,ro16[7][0], ro16[6][1]))\n",
    "    return ro8\n",
    "    "
   ]
  },
  {
   "cell_type": "code",
   "execution_count": 398,
   "metadata": {},
   "outputs": [],
   "source": [
    "ro8 = ro16_sim(ro16)"
   ]
  },
  {
   "cell_type": "code",
   "execution_count": 399,
   "metadata": {},
   "outputs": [
    {
     "data": {
      "text/plain": [
       "['Saudi Arabia',\n",
       " 'France',\n",
       " 'Sweden',\n",
       " 'England',\n",
       " 'Russia',\n",
       " 'Australia',\n",
       " 'Germany',\n",
       " 'Belgium']"
      ]
     },
     "execution_count": 399,
     "metadata": {},
     "output_type": "execute_result"
    }
   ],
   "source": [
    "ro8"
   ]
  },
  {
   "cell_type": "code",
   "execution_count": 401,
   "metadata": {},
   "outputs": [],
   "source": [
    "def ro8_sim(ro8):\n",
    "    ro4 = []\n",
    "    match1_proba = get_probabilities(ro8[0], ro8[1], country_feature_df, clf)\n",
    "    ro4.append(get_simulated_result_playoffs(match1_proba,ro8[0], ro8[1]))\n",
    "    match2_proba = get_probabilities(ro8[2], ro8[3], country_feature_df, clf)\n",
    "    ro4.append(get_simulated_result_playoffs(match2_proba,ro8[2], ro8[3]))    \n",
    "    match3_proba = get_probabilities(ro8[4], ro8[5], country_feature_df, clf)\n",
    "    ro4.append(get_simulated_result_playoffs(match3_proba,ro8[4], ro8[5]))\n",
    "    match4_proba = get_probabilities(ro8[6], ro8[7], country_feature_df, clf)\n",
    "    ro4.append(get_simulated_result_playoffs(match4_proba,ro8[6], ro8[7]))    \n",
    "    return ro4"
   ]
  },
  {
   "cell_type": "code",
   "execution_count": 416,
   "metadata": {},
   "outputs": [],
   "source": [
    "ro4 = ro8_sim(ro8)"
   ]
  },
  {
   "cell_type": "code",
   "execution_count": 437,
   "metadata": {},
   "outputs": [
    {
     "data": {
      "text/plain": [
       "['France', 'England', 'Australia', 'Belgium']"
      ]
     },
     "execution_count": 437,
     "metadata": {},
     "output_type": "execute_result"
    }
   ],
   "source": [
    "ro4"
   ]
  },
  {
   "cell_type": "code",
   "execution_count": 418,
   "metadata": {},
   "outputs": [],
   "source": [
    "def ro4_sim(ro4):\n",
    "    third_place = ro4.copy()\n",
    "    ro2 = []\n",
    "    match1_proba = get_probabilities(ro4[0], ro4[1], country_feature_df, clf)\n",
    "    result1 = get_simulated_result_playoffs(match1_proba,ro4[0], ro4[1])\n",
    "    ro2.append(result1)\n",
    "    match2_proba = get_probabilities(ro4[2], ro4[3], country_feature_df, clf)\n",
    "    result2 = get_simulated_result_playoffs(match1_proba,ro4[2], ro4[3])\n",
    "    ro2.append(result2)\n",
    "    third_place.remove(result1)\n",
    "    third_place.remove(result2)\n",
    "    return ro2, third_place"
   ]
  },
  {
   "cell_type": "code",
   "execution_count": 438,
   "metadata": {},
   "outputs": [],
   "source": [
    "finals, third_playoff = ro4_sim(ro4)"
   ]
  },
  {
   "cell_type": "code",
   "execution_count": 439,
   "metadata": {},
   "outputs": [
    {
     "data": {
      "text/plain": [
       "['France', 'Australia']"
      ]
     },
     "execution_count": 439,
     "metadata": {},
     "output_type": "execute_result"
    }
   ],
   "source": [
    "finals"
   ]
  },
  {
   "cell_type": "code",
   "execution_count": 440,
   "metadata": {},
   "outputs": [
    {
     "data": {
      "text/plain": [
       "['England', 'Belgium']"
      ]
     },
     "execution_count": 440,
     "metadata": {},
     "output_type": "execute_result"
    }
   ],
   "source": [
    "third_playoff"
   ]
  },
  {
   "cell_type": "code",
   "execution_count": 441,
   "metadata": {},
   "outputs": [],
   "source": [
    "#finals\n",
    "finals_proba = get_probabilities(finals[0], finals[1], country_feature_df, clf)\n",
    "first = get_simulated_result_playoffs(finals_proba,finals[0], finals[1])\n",
    "finals.remove(first)\n",
    "second = finals[0]"
   ]
  },
  {
   "cell_type": "code",
   "execution_count": 442,
   "metadata": {},
   "outputs": [
    {
     "name": "stdout",
     "output_type": "stream",
     "text": [
      "Australia France\n"
     ]
    }
   ],
   "source": [
    "print(first,second)"
   ]
  },
  {
   "cell_type": "code",
   "execution_count": 443,
   "metadata": {},
   "outputs": [],
   "source": [
    "third_proba = get_probabilities(third_playoff[0], third_playoff[1], country_feature_df, clf)\n",
    "third = get_simulated_result_playoffs(third_proba,third_playoff[0], third_playoff[1])"
   ]
  },
  {
   "cell_type": "code",
   "execution_count": 444,
   "metadata": {},
   "outputs": [
    {
     "data": {
      "text/plain": [
       "'Belgium'"
      ]
     },
     "execution_count": 444,
     "metadata": {},
     "output_type": "execute_result"
    }
   ],
   "source": [
    "third"
   ]
  },
  {
   "cell_type": "markdown",
   "metadata": {},
   "source": [
    "Now, repeat for 10000 times..."
   ]
  },
  {
   "cell_type": "code",
   "execution_count": 491,
   "metadata": {},
   "outputs": [],
   "source": [
    "def world_cup_sim(wc_groups):\n",
    "    ro16 = round_robin(wc_groups)\n",
    "    ro8 = ro16_sim(ro16)\n",
    "    ro4 = ro8_sim(ro8)\n",
    "    finals, third_playoff = ro4_sim(ro4)\n",
    "    # finals\n",
    "    finals_proba = get_probabilities(finals[0], finals[1], country_feature_df, clf)\n",
    "    first = get_simulated_result_playoffs(finals_proba,finals[0], finals[1])\n",
    "    finals.remove(first)\n",
    "    second = finals[0]\n",
    "    # third_playoff\n",
    "    third_proba = get_probabilities(third_playoff[0], third_playoff[1], country_feature_df, clf)\n",
    "    third = get_simulated_result_playoffs(third_proba,third_playoff[0], third_playoff[1])\n",
    "    third_playoff.remove(third)\n",
    "    fourth = finals[0]\n",
    "    return first, second, third, fourth"
   ]
  },
  {
   "cell_type": "code",
   "execution_count": 469,
   "metadata": {},
   "outputs": [
    {
     "name": "stdout",
     "output_type": "stream",
     "text": [
      "['Russia', 'Uruguay', 'Egypt', 'Saudi Arabia']\n",
      "{'Egypt': [1, 0, 2], 'Uruguay': [0, 1, 2], 'Saudi Arabia': [0, 0, 3], 'Russia': [0, 0, 3]}\n",
      "['Spain', 'Portugal', 'Iran', 'Morocco']\n",
      "{'Morocco': [1, 2, 0], 'Portugal': [2, 1, 0], 'Iran': [1, 2, 0], 'Spain': [2, 1, 0]}\n",
      "['France', 'Denmark', 'Australia', 'Peru']\n",
      "{'Denmark': [0, 0, 3], 'Peru': [1, 0, 2], 'France': [0, 1, 2], 'Australia': [0, 0, 3]}\n",
      "['Croatia', 'Nigeria', 'Iceland', 'Argentina']\n",
      "{'Nigeria': [1, 1, 1], 'Argentina': [0, 3, 0], 'Iceland': [2, 0, 1], 'Croatia': [2, 1, 0]}\n",
      "['Brazil', 'Switzerland', 'Serbia', 'Costa Rica']\n",
      "{'Serbia': [0, 1, 2], 'Switzerland': [0, 2, 1], 'Brazil': [1, 0, 2], 'Costa Rica': [2, 0, 1]}\n",
      "['Mexico', 'Germany', 'Sweden', 'South Korea']\n",
      "{'Sweden': [2, 0, 1], 'South Korea': [0, 3, 0], 'Mexico': [1, 1, 1], 'Germany': [2, 1, 0]}\n",
      "['Belgium', 'England', 'Panama', 'Tunisia']\n",
      "{'Panama': [1, 2, 0], 'Tunisia': [1, 1, 1], 'England': [1, 1, 1], 'Belgium': [2, 1, 0]}\n",
      "['Japan', 'Senegal', 'Poland', 'Colombia']\n",
      "{'Japan': [1, 1, 1], 'Senegal': [2, 0, 1], 'Poland': [1, 0, 2], 'Colombia': [0, 3, 0]}\n"
     ]
    },
    {
     "data": {
      "text/plain": [
       "('Brazil', 'Egypt', 'Denmark')"
      ]
     },
     "execution_count": 469,
     "metadata": {},
     "output_type": "execute_result"
    }
   ],
   "source": [
    "world_cup_sim(wc_groups)"
   ]
  },
  {
   "cell_type": "code",
   "execution_count": 508,
   "metadata": {},
   "outputs": [],
   "source": [
    "sim_results = {\"first\":[],\"second\":[],\"third\":[], \"fourth\":[]}\n",
    "for i in range(1000):\n",
    "    first, second, third, fourth = world_cup_sim(wc_groups)\n",
    "    sim_results[\"first\"].append(first)\n",
    "    sim_results[\"second\"].append(second)\n",
    "    sim_results[\"third\"].append(third)\n",
    "    sim_results[\"fourth\"].append(fourth)"
   ]
  },
  {
   "cell_type": "code",
   "execution_count": 509,
   "metadata": {},
   "outputs": [
    {
     "data": {
      "text/plain": [
       "[('Brazil', 172),\n",
       " ('Belgium', 104),\n",
       " ('Peru', 103),\n",
       " ('Uruguay', 56),\n",
       " ('Portugal', 53)]"
      ]
     },
     "execution_count": 509,
     "metadata": {},
     "output_type": "execute_result"
    }
   ],
   "source": [
    "from collections import Counter\n",
    "Counter(sim_results[\"first\"]).most_common()[:5]"
   ]
  },
  {
   "cell_type": "code",
   "execution_count": 510,
   "metadata": {},
   "outputs": [
    {
     "data": {
      "text/plain": [
       "[('Brazil', 63),\n",
       " ('Belgium', 59),\n",
       " ('Peru', 53),\n",
       " ('Poland', 50),\n",
       " ('England', 48)]"
      ]
     },
     "execution_count": 510,
     "metadata": {},
     "output_type": "execute_result"
    }
   ],
   "source": [
    "Counter(sim_results[\"second\"]).most_common()[:5]"
   ]
  },
  {
   "cell_type": "code",
   "execution_count": 511,
   "metadata": {},
   "outputs": [
    {
     "data": {
      "text/plain": [
       "[('Brazil', 110),\n",
       " ('Belgium', 84),\n",
       " ('Peru', 62),\n",
       " ('Portugal', 53),\n",
       " ('Uruguay', 52)]"
      ]
     },
     "execution_count": 511,
     "metadata": {},
     "output_type": "execute_result"
    }
   ],
   "source": [
    "Counter(sim_results[\"third\"]).most_common()[:5]"
   ]
  },
  {
   "cell_type": "code",
   "execution_count": 512,
   "metadata": {
    "scrolled": true
   },
   "outputs": [
    {
     "data": {
      "text/plain": [
       "[('Brazil', 63),\n",
       " ('Belgium', 59),\n",
       " ('Peru', 53),\n",
       " ('Poland', 50),\n",
       " ('England', 48)]"
      ]
     },
     "execution_count": 512,
     "metadata": {},
     "output_type": "execute_result"
    }
   ],
   "source": [
    "Counter(sim_results[\"fourth\"]).most_common()[:5]"
   ]
  },
  {
   "cell_type": "markdown",
   "metadata": {},
   "source": [
    "* First: Brazil\n",
    "* Second: Belgium\n",
    "* Third: Peru\n",
    "* Fourth: Poland\n",
    "* Finals"
   ]
  },
  {
   "cell_type": "code",
   "execution_count": null,
   "metadata": {},
   "outputs": [],
   "source": []
  },
  {
   "cell_type": "code",
   "execution_count": 526,
   "metadata": {},
   "outputs": [
    {
     "ename": "KeyboardInterrupt",
     "evalue": "",
     "output_type": "error",
     "traceback": [
      "\u001b[0;31m---------------------------------------------------------------------------\u001b[0m",
      "\u001b[0;31mKeyboardInterrupt\u001b[0m                         Traceback (most recent call last)",
      "\u001b[0;32m<ipython-input-526-946e113aa22e>\u001b[0m in \u001b[0;36m<module>\u001b[0;34m()\u001b[0m\n\u001b[1;32m      1\u001b[0m \u001b[0msim_results\u001b[0m \u001b[0;34m=\u001b[0m \u001b[0;34m{\u001b[0m\u001b[0;34m\"first\"\u001b[0m\u001b[0;34m:\u001b[0m\u001b[0;34m[\u001b[0m\u001b[0;34m]\u001b[0m\u001b[0;34m,\u001b[0m\u001b[0;34m\"second\"\u001b[0m\u001b[0;34m:\u001b[0m\u001b[0;34m[\u001b[0m\u001b[0;34m]\u001b[0m\u001b[0;34m,\u001b[0m\u001b[0;34m\"third\"\u001b[0m\u001b[0;34m:\u001b[0m\u001b[0;34m[\u001b[0m\u001b[0;34m]\u001b[0m\u001b[0;34m,\u001b[0m \u001b[0;34m\"fourth\"\u001b[0m\u001b[0;34m:\u001b[0m\u001b[0;34m[\u001b[0m\u001b[0;34m]\u001b[0m\u001b[0;34m}\u001b[0m\u001b[0;34m\u001b[0m\u001b[0m\n\u001b[1;32m      2\u001b[0m \u001b[0;32mfor\u001b[0m \u001b[0mi\u001b[0m \u001b[0;32min\u001b[0m \u001b[0mrange\u001b[0m\u001b[0;34m(\u001b[0m\u001b[0;36m100000\u001b[0m\u001b[0;34m)\u001b[0m\u001b[0;34m:\u001b[0m\u001b[0;34m\u001b[0m\u001b[0m\n\u001b[0;32m----> 3\u001b[0;31m     \u001b[0mfirst\u001b[0m\u001b[0;34m,\u001b[0m \u001b[0msecond\u001b[0m\u001b[0;34m,\u001b[0m \u001b[0mthird\u001b[0m\u001b[0;34m,\u001b[0m \u001b[0mfourth\u001b[0m \u001b[0;34m=\u001b[0m \u001b[0mworld_cup_sim\u001b[0m\u001b[0;34m(\u001b[0m\u001b[0mwc_groups\u001b[0m\u001b[0;34m)\u001b[0m\u001b[0;34m\u001b[0m\u001b[0m\n\u001b[0m\u001b[1;32m      4\u001b[0m     \u001b[0msim_results\u001b[0m\u001b[0;34m[\u001b[0m\u001b[0;34m\"first\"\u001b[0m\u001b[0;34m]\u001b[0m\u001b[0;34m.\u001b[0m\u001b[0mappend\u001b[0m\u001b[0;34m(\u001b[0m\u001b[0mfirst\u001b[0m\u001b[0;34m)\u001b[0m\u001b[0;34m\u001b[0m\u001b[0m\n\u001b[1;32m      5\u001b[0m     \u001b[0msim_results\u001b[0m\u001b[0;34m[\u001b[0m\u001b[0;34m\"second\"\u001b[0m\u001b[0;34m]\u001b[0m\u001b[0;34m.\u001b[0m\u001b[0mappend\u001b[0m\u001b[0;34m(\u001b[0m\u001b[0msecond\u001b[0m\u001b[0;34m)\u001b[0m\u001b[0;34m\u001b[0m\u001b[0m\n",
      "\u001b[0;32m<ipython-input-491-9012824c5001>\u001b[0m in \u001b[0;36mworld_cup_sim\u001b[0;34m(wc_groups)\u001b[0m\n\u001b[1;32m      1\u001b[0m \u001b[0;32mdef\u001b[0m \u001b[0mworld_cup_sim\u001b[0m\u001b[0;34m(\u001b[0m\u001b[0mwc_groups\u001b[0m\u001b[0;34m)\u001b[0m\u001b[0;34m:\u001b[0m\u001b[0;34m\u001b[0m\u001b[0m\n\u001b[0;32m----> 2\u001b[0;31m     \u001b[0mro16\u001b[0m \u001b[0;34m=\u001b[0m \u001b[0mround_robin\u001b[0m\u001b[0;34m(\u001b[0m\u001b[0mwc_groups\u001b[0m\u001b[0;34m)\u001b[0m\u001b[0;34m\u001b[0m\u001b[0m\n\u001b[0m\u001b[1;32m      3\u001b[0m     \u001b[0mro8\u001b[0m \u001b[0;34m=\u001b[0m \u001b[0mro16_sim\u001b[0m\u001b[0;34m(\u001b[0m\u001b[0mro16\u001b[0m\u001b[0;34m)\u001b[0m\u001b[0;34m\u001b[0m\u001b[0m\n\u001b[1;32m      4\u001b[0m     \u001b[0mro4\u001b[0m \u001b[0;34m=\u001b[0m \u001b[0mro8_sim\u001b[0m\u001b[0;34m(\u001b[0m\u001b[0mro8\u001b[0m\u001b[0;34m)\u001b[0m\u001b[0;34m\u001b[0m\u001b[0m\n\u001b[1;32m      5\u001b[0m     \u001b[0mfinals\u001b[0m\u001b[0;34m,\u001b[0m \u001b[0mthird_playoff\u001b[0m \u001b[0;34m=\u001b[0m \u001b[0mro4_sim\u001b[0m\u001b[0;34m(\u001b[0m\u001b[0mro4\u001b[0m\u001b[0;34m)\u001b[0m\u001b[0;34m\u001b[0m\u001b[0m\n",
      "\u001b[0;32m<ipython-input-472-874a4f47f4cd>\u001b[0m in \u001b[0;36mround_robin\u001b[0;34m(wc_groups)\u001b[0m\n\u001b[1;32m      3\u001b[0m     \u001b[0;32mfor\u001b[0m \u001b[0mgrp\u001b[0m \u001b[0;32min\u001b[0m \u001b[0mwc_groups\u001b[0m\u001b[0;34m:\u001b[0m\u001b[0;34m\u001b[0m\u001b[0m\n\u001b[1;32m      4\u001b[0m         \u001b[0mmatches\u001b[0m \u001b[0;34m=\u001b[0m \u001b[0mgenerate_matches\u001b[0m\u001b[0;34m(\u001b[0m\u001b[0mgrp\u001b[0m\u001b[0;34m)\u001b[0m\u001b[0;34m\u001b[0m\u001b[0m\n\u001b[0;32m----> 5\u001b[0;31m         \u001b[0mstandings\u001b[0m \u001b[0;34m=\u001b[0m \u001b[0mget_simulated_standings\u001b[0m\u001b[0;34m(\u001b[0m\u001b[0mmatches\u001b[0m\u001b[0;34m,\u001b[0m\u001b[0mgrp\u001b[0m\u001b[0;34m)\u001b[0m\u001b[0;34m\u001b[0m\u001b[0m\n\u001b[0m\u001b[1;32m      6\u001b[0m         \u001b[0mro16\u001b[0m\u001b[0;34m.\u001b[0m\u001b[0mappend\u001b[0m\u001b[0;34m(\u001b[0m\u001b[0mget_top_two\u001b[0m\u001b[0;34m(\u001b[0m\u001b[0mstandings\u001b[0m\u001b[0;34m,\u001b[0m\u001b[0mgrp\u001b[0m\u001b[0;34m)\u001b[0m\u001b[0;34m)\u001b[0m\u001b[0;34m\u001b[0m\u001b[0m\n\u001b[1;32m      7\u001b[0m     \u001b[0;32mreturn\u001b[0m \u001b[0mro16\u001b[0m\u001b[0;34m\u001b[0m\u001b[0m\n",
      "\u001b[0;32m<ipython-input-347-35dbca183119>\u001b[0m in \u001b[0;36mget_simulated_standings\u001b[0;34m(matches_list, grp)\u001b[0m\n\u001b[1;32m      2\u001b[0m     \u001b[0mstandings\u001b[0m \u001b[0;34m=\u001b[0m \u001b[0mgenerate_standings\u001b[0m\u001b[0;34m(\u001b[0m\u001b[0mgrp\u001b[0m\u001b[0;34m)\u001b[0m\u001b[0;34m\u001b[0m\u001b[0m\n\u001b[1;32m      3\u001b[0m     \u001b[0;32mfor\u001b[0m \u001b[0mmatch\u001b[0m \u001b[0;32min\u001b[0m \u001b[0mmatches_list\u001b[0m\u001b[0;34m:\u001b[0m\u001b[0;34m\u001b[0m\u001b[0m\n\u001b[0;32m----> 4\u001b[0;31m         \u001b[0mproba\u001b[0m \u001b[0;34m=\u001b[0m \u001b[0mget_probabilities\u001b[0m\u001b[0;34m(\u001b[0m\u001b[0mmatch\u001b[0m\u001b[0;34m[\u001b[0m\u001b[0;36m0\u001b[0m\u001b[0;34m]\u001b[0m\u001b[0;34m,\u001b[0m \u001b[0mmatch\u001b[0m\u001b[0;34m[\u001b[0m\u001b[0;36m1\u001b[0m\u001b[0;34m]\u001b[0m\u001b[0;34m,\u001b[0m\u001b[0mcountry_feature_df\u001b[0m\u001b[0;34m,\u001b[0m\u001b[0mclf\u001b[0m\u001b[0;34m)\u001b[0m\u001b[0;34m\u001b[0m\u001b[0m\n\u001b[0m\u001b[1;32m      5\u001b[0m         \u001b[0mresult\u001b[0m \u001b[0;34m=\u001b[0m \u001b[0mget_simulated_result\u001b[0m\u001b[0;34m(\u001b[0m\u001b[0mproba\u001b[0m\u001b[0;34m)\u001b[0m\u001b[0;34m\u001b[0m\u001b[0m\n\u001b[1;32m      6\u001b[0m         \u001b[0;32mif\u001b[0m \u001b[0mresult\u001b[0m \u001b[0;34m==\u001b[0m \u001b[0;36m0\u001b[0m\u001b[0;34m:\u001b[0m\u001b[0;34m\u001b[0m\u001b[0m\n",
      "\u001b[0;32m<ipython-input-334-2468844644b0>\u001b[0m in \u001b[0;36mget_probabilities\u001b[0;34m(team1, team2, country_feature_df, clf)\u001b[0m\n\u001b[1;32m      1\u001b[0m \u001b[0;31m# given two countries, get probabilities\u001b[0m\u001b[0;34m\u001b[0m\u001b[0;34m\u001b[0m\u001b[0m\n\u001b[1;32m      2\u001b[0m \u001b[0;32mdef\u001b[0m \u001b[0mget_probabilities\u001b[0m\u001b[0;34m(\u001b[0m\u001b[0mteam1\u001b[0m\u001b[0;34m,\u001b[0m \u001b[0mteam2\u001b[0m\u001b[0;34m,\u001b[0m \u001b[0mcountry_feature_df\u001b[0m\u001b[0;34m,\u001b[0m\u001b[0mclf\u001b[0m\u001b[0;34m)\u001b[0m\u001b[0;34m:\u001b[0m\u001b[0;34m\u001b[0m\u001b[0m\n\u001b[0;32m----> 3\u001b[0;31m     \u001b[0mteam1_feats\u001b[0m \u001b[0;34m=\u001b[0m \u001b[0mcountry_feature_df\u001b[0m\u001b[0;34m[\u001b[0m\u001b[0mcountry_feature_df\u001b[0m\u001b[0;34m.\u001b[0m\u001b[0mname\u001b[0m \u001b[0;34m==\u001b[0m \u001b[0mteam1\u001b[0m\u001b[0;34m]\u001b[0m\u001b[0;34m.\u001b[0m\u001b[0mdrop\u001b[0m\u001b[0;34m(\u001b[0m\u001b[0;34m\"name\"\u001b[0m\u001b[0;34m,\u001b[0m\u001b[0maxis\u001b[0m\u001b[0;34m=\u001b[0m\u001b[0;36m1\u001b[0m\u001b[0;34m)\u001b[0m\u001b[0;34m.\u001b[0m\u001b[0mvalues\u001b[0m\u001b[0;34m.\u001b[0m\u001b[0mtolist\u001b[0m\u001b[0;34m(\u001b[0m\u001b[0;34m)\u001b[0m\u001b[0;34m[\u001b[0m\u001b[0;36m0\u001b[0m\u001b[0;34m]\u001b[0m\u001b[0;34m\u001b[0m\u001b[0m\n\u001b[0m\u001b[1;32m      4\u001b[0m     \u001b[0mteam2_feats\u001b[0m \u001b[0;34m=\u001b[0m \u001b[0mcountry_feature_df\u001b[0m\u001b[0;34m[\u001b[0m\u001b[0mcountry_feature_df\u001b[0m\u001b[0;34m.\u001b[0m\u001b[0mname\u001b[0m \u001b[0;34m==\u001b[0m \u001b[0mteam2\u001b[0m\u001b[0;34m]\u001b[0m\u001b[0;34m.\u001b[0m\u001b[0mdrop\u001b[0m\u001b[0;34m(\u001b[0m\u001b[0;34m\"name\"\u001b[0m\u001b[0;34m,\u001b[0m\u001b[0maxis\u001b[0m\u001b[0;34m=\u001b[0m\u001b[0;36m1\u001b[0m\u001b[0;34m)\u001b[0m\u001b[0;34m.\u001b[0m\u001b[0mvalues\u001b[0m\u001b[0;34m.\u001b[0m\u001b[0mtolist\u001b[0m\u001b[0;34m(\u001b[0m\u001b[0;34m)\u001b[0m\u001b[0;34m[\u001b[0m\u001b[0;36m0\u001b[0m\u001b[0;34m]\u001b[0m\u001b[0;34m\u001b[0m\u001b[0m\n\u001b[1;32m      5\u001b[0m     \u001b[0mproba\u001b[0m \u001b[0;34m=\u001b[0m \u001b[0mclf\u001b[0m\u001b[0;34m.\u001b[0m\u001b[0mpredict_proba\u001b[0m\u001b[0;34m(\u001b[0m\u001b[0mnp\u001b[0m\u001b[0;34m.\u001b[0m\u001b[0marray\u001b[0m\u001b[0;34m(\u001b[0m\u001b[0mteam1_feats\u001b[0m\u001b[0;34m+\u001b[0m\u001b[0mteam2_feats\u001b[0m\u001b[0;34m)\u001b[0m\u001b[0;34m.\u001b[0m\u001b[0mreshape\u001b[0m\u001b[0;34m(\u001b[0m\u001b[0;36m1\u001b[0m\u001b[0;34m,\u001b[0m \u001b[0;34m-\u001b[0m\u001b[0;36m1\u001b[0m\u001b[0;34m)\u001b[0m\u001b[0;34m)\u001b[0m\u001b[0;34m\u001b[0m\u001b[0m\n",
      "\u001b[0;32m~/anaconda3/envs/main/lib/python3.5/site-packages/pandas/core/generic.py\u001b[0m in \u001b[0;36mdrop\u001b[0;34m(self, labels, axis, index, columns, level, inplace, errors)\u001b[0m\n\u001b[1;32m   2528\u001b[0m         \u001b[0;32mfor\u001b[0m \u001b[0maxis\u001b[0m\u001b[0;34m,\u001b[0m \u001b[0mlabels\u001b[0m \u001b[0;32min\u001b[0m \u001b[0maxes\u001b[0m\u001b[0;34m.\u001b[0m\u001b[0mitems\u001b[0m\u001b[0;34m(\u001b[0m\u001b[0;34m)\u001b[0m\u001b[0;34m:\u001b[0m\u001b[0;34m\u001b[0m\u001b[0m\n\u001b[1;32m   2529\u001b[0m             \u001b[0;32mif\u001b[0m \u001b[0mlabels\u001b[0m \u001b[0;32mis\u001b[0m \u001b[0;32mnot\u001b[0m \u001b[0;32mNone\u001b[0m\u001b[0;34m:\u001b[0m\u001b[0;34m\u001b[0m\u001b[0m\n\u001b[0;32m-> 2530\u001b[0;31m                 \u001b[0mobj\u001b[0m \u001b[0;34m=\u001b[0m \u001b[0mobj\u001b[0m\u001b[0;34m.\u001b[0m\u001b[0m_drop_axis\u001b[0m\u001b[0;34m(\u001b[0m\u001b[0mlabels\u001b[0m\u001b[0;34m,\u001b[0m \u001b[0maxis\u001b[0m\u001b[0;34m,\u001b[0m \u001b[0mlevel\u001b[0m\u001b[0;34m=\u001b[0m\u001b[0mlevel\u001b[0m\u001b[0;34m,\u001b[0m \u001b[0merrors\u001b[0m\u001b[0;34m=\u001b[0m\u001b[0merrors\u001b[0m\u001b[0;34m)\u001b[0m\u001b[0;34m\u001b[0m\u001b[0m\n\u001b[0m\u001b[1;32m   2531\u001b[0m \u001b[0;34m\u001b[0m\u001b[0m\n\u001b[1;32m   2532\u001b[0m         \u001b[0;32mif\u001b[0m \u001b[0minplace\u001b[0m\u001b[0;34m:\u001b[0m\u001b[0;34m\u001b[0m\u001b[0m\n",
      "\u001b[0;32m~/anaconda3/envs/main/lib/python3.5/site-packages/pandas/core/generic.py\u001b[0m in \u001b[0;36m_drop_axis\u001b[0;34m(self, labels, axis, level, errors)\u001b[0m\n\u001b[1;32m   2560\u001b[0m                 \u001b[0mnew_axis\u001b[0m \u001b[0;34m=\u001b[0m \u001b[0maxis\u001b[0m\u001b[0;34m.\u001b[0m\u001b[0mdrop\u001b[0m\u001b[0;34m(\u001b[0m\u001b[0mlabels\u001b[0m\u001b[0;34m,\u001b[0m \u001b[0mlevel\u001b[0m\u001b[0;34m=\u001b[0m\u001b[0mlevel\u001b[0m\u001b[0;34m,\u001b[0m \u001b[0merrors\u001b[0m\u001b[0;34m=\u001b[0m\u001b[0merrors\u001b[0m\u001b[0;34m)\u001b[0m\u001b[0;34m\u001b[0m\u001b[0m\n\u001b[1;32m   2561\u001b[0m             \u001b[0;32melse\u001b[0m\u001b[0;34m:\u001b[0m\u001b[0;34m\u001b[0m\u001b[0m\n\u001b[0;32m-> 2562\u001b[0;31m                 \u001b[0mnew_axis\u001b[0m \u001b[0;34m=\u001b[0m \u001b[0maxis\u001b[0m\u001b[0;34m.\u001b[0m\u001b[0mdrop\u001b[0m\u001b[0;34m(\u001b[0m\u001b[0mlabels\u001b[0m\u001b[0;34m,\u001b[0m \u001b[0merrors\u001b[0m\u001b[0;34m=\u001b[0m\u001b[0merrors\u001b[0m\u001b[0;34m)\u001b[0m\u001b[0;34m\u001b[0m\u001b[0m\n\u001b[0m\u001b[1;32m   2563\u001b[0m             \u001b[0mdropped\u001b[0m \u001b[0;34m=\u001b[0m \u001b[0mself\u001b[0m\u001b[0;34m.\u001b[0m\u001b[0mreindex\u001b[0m\u001b[0;34m(\u001b[0m\u001b[0;34m**\u001b[0m\u001b[0;34m{\u001b[0m\u001b[0maxis_name\u001b[0m\u001b[0;34m:\u001b[0m \u001b[0mnew_axis\u001b[0m\u001b[0;34m}\u001b[0m\u001b[0;34m)\u001b[0m\u001b[0;34m\u001b[0m\u001b[0m\n\u001b[1;32m   2564\u001b[0m             \u001b[0;32mtry\u001b[0m\u001b[0;34m:\u001b[0m\u001b[0;34m\u001b[0m\u001b[0m\n",
      "\u001b[0;32m~/anaconda3/envs/main/lib/python3.5/site-packages/pandas/core/indexes/base.py\u001b[0m in \u001b[0;36mdrop\u001b[0;34m(self, labels, errors)\u001b[0m\n\u001b[1;32m   3737\u001b[0m         \"\"\"\n\u001b[1;32m   3738\u001b[0m         \u001b[0mlabels\u001b[0m \u001b[0;34m=\u001b[0m \u001b[0m_index_labels_to_array\u001b[0m\u001b[0;34m(\u001b[0m\u001b[0mlabels\u001b[0m\u001b[0;34m)\u001b[0m\u001b[0;34m\u001b[0m\u001b[0m\n\u001b[0;32m-> 3739\u001b[0;31m         \u001b[0mindexer\u001b[0m \u001b[0;34m=\u001b[0m \u001b[0mself\u001b[0m\u001b[0;34m.\u001b[0m\u001b[0mget_indexer\u001b[0m\u001b[0;34m(\u001b[0m\u001b[0mlabels\u001b[0m\u001b[0;34m)\u001b[0m\u001b[0;34m\u001b[0m\u001b[0m\n\u001b[0m\u001b[1;32m   3740\u001b[0m         \u001b[0mmask\u001b[0m \u001b[0;34m=\u001b[0m \u001b[0mindexer\u001b[0m \u001b[0;34m==\u001b[0m \u001b[0;34m-\u001b[0m\u001b[0;36m1\u001b[0m\u001b[0;34m\u001b[0m\u001b[0m\n\u001b[1;32m   3741\u001b[0m         \u001b[0;32mif\u001b[0m \u001b[0mmask\u001b[0m\u001b[0;34m.\u001b[0m\u001b[0many\u001b[0m\u001b[0;34m(\u001b[0m\u001b[0;34m)\u001b[0m\u001b[0;34m:\u001b[0m\u001b[0;34m\u001b[0m\u001b[0m\n",
      "\u001b[0;32m~/anaconda3/envs/main/lib/python3.5/site-packages/pandas/core/indexes/base.py\u001b[0m in \u001b[0;36mget_indexer\u001b[0;34m(self, target, method, limit, tolerance)\u001b[0m\n\u001b[1;32m   2700\u001b[0m                                  'backfill or nearest reindexing')\n\u001b[1;32m   2701\u001b[0m \u001b[0;34m\u001b[0m\u001b[0m\n\u001b[0;32m-> 2702\u001b[0;31m             \u001b[0mindexer\u001b[0m \u001b[0;34m=\u001b[0m \u001b[0mself\u001b[0m\u001b[0;34m.\u001b[0m\u001b[0m_engine\u001b[0m\u001b[0;34m.\u001b[0m\u001b[0mget_indexer\u001b[0m\u001b[0;34m(\u001b[0m\u001b[0mtarget\u001b[0m\u001b[0;34m.\u001b[0m\u001b[0m_values\u001b[0m\u001b[0;34m)\u001b[0m\u001b[0;34m\u001b[0m\u001b[0m\n\u001b[0m\u001b[1;32m   2703\u001b[0m \u001b[0;34m\u001b[0m\u001b[0m\n\u001b[1;32m   2704\u001b[0m         \u001b[0;32mreturn\u001b[0m \u001b[0m_ensure_platform_int\u001b[0m\u001b[0;34m(\u001b[0m\u001b[0mindexer\u001b[0m\u001b[0;34m)\u001b[0m\u001b[0;34m\u001b[0m\u001b[0m\n",
      "\u001b[0;32m~/anaconda3/envs/main/lib/python3.5/site-packages/pandas/core/base.py\u001b[0m in \u001b[0;36m_values\u001b[0;34m(self)\u001b[0m\n\u001b[1;32m    763\u001b[0m     \u001b[0;32mdef\u001b[0m \u001b[0m_values\u001b[0m\u001b[0;34m(\u001b[0m\u001b[0mself\u001b[0m\u001b[0;34m)\u001b[0m\u001b[0;34m:\u001b[0m\u001b[0;34m\u001b[0m\u001b[0m\n\u001b[1;32m    764\u001b[0m         \u001b[0;34m\"\"\" the internal implementation \"\"\"\u001b[0m\u001b[0;34m\u001b[0m\u001b[0m\n\u001b[0;32m--> 765\u001b[0;31m         \u001b[0;32mreturn\u001b[0m \u001b[0mself\u001b[0m\u001b[0;34m.\u001b[0m\u001b[0mvalues\u001b[0m\u001b[0;34m\u001b[0m\u001b[0m\n\u001b[0m\u001b[1;32m    766\u001b[0m \u001b[0;34m\u001b[0m\u001b[0m\n\u001b[1;32m    767\u001b[0m     \u001b[0;34m@\u001b[0m\u001b[0mproperty\u001b[0m\u001b[0;34m\u001b[0m\u001b[0m\n",
      "\u001b[0;32m~/anaconda3/envs/main/lib/python3.5/site-packages/pandas/core/indexes/base.py\u001b[0m in \u001b[0;36mvalues\u001b[0;34m(self)\u001b[0m\n\u001b[1;32m    586\u001b[0m         \u001b[0;32mreturn\u001b[0m \u001b[0mstr\u001b[0m\u001b[0;34m(\u001b[0m\u001b[0mself\u001b[0m\u001b[0;34m.\u001b[0m\u001b[0mdtype\u001b[0m\u001b[0;34m)\u001b[0m\u001b[0;34m\u001b[0m\u001b[0m\n\u001b[1;32m    587\u001b[0m \u001b[0;34m\u001b[0m\u001b[0m\n\u001b[0;32m--> 588\u001b[0;31m     \u001b[0;34m@\u001b[0m\u001b[0mproperty\u001b[0m\u001b[0;34m\u001b[0m\u001b[0m\n\u001b[0m\u001b[1;32m    589\u001b[0m     \u001b[0;32mdef\u001b[0m \u001b[0mvalues\u001b[0m\u001b[0;34m(\u001b[0m\u001b[0mself\u001b[0m\u001b[0;34m)\u001b[0m\u001b[0;34m:\u001b[0m\u001b[0;34m\u001b[0m\u001b[0m\n\u001b[1;32m    590\u001b[0m         \u001b[0;34m\"\"\" return the underlying data as an ndarray \"\"\"\u001b[0m\u001b[0;34m\u001b[0m\u001b[0m\n",
      "\u001b[0;31mKeyboardInterrupt\u001b[0m: "
     ]
    }
   ],
   "source": [
    "sim_results = {\"first\":[],\"second\":[],\"third\":[], \"fourth\":[]}\n",
    "for i in range(100000):\n",
    "    first, second, third, fourth = world_cup_sim(wc_groups)\n",
    "    sim_results[\"first\"].append(first)\n",
    "    sim_results[\"second\"].append(second)\n",
    "    sim_results[\"third\"].append(third)\n",
    "    sim_results[\"fourth\"].append(fourth)"
   ]
  },
  {
   "cell_type": "code",
   "execution_count": 527,
   "metadata": {},
   "outputs": [
    {
     "data": {
      "text/plain": [
       "[('Brazil', 10946),\n",
       " ('Belgium', 6396),\n",
       " ('Peru', 6292),\n",
       " ('Portugal', 2765),\n",
       " ('Uruguay', 2636)]"
      ]
     },
     "execution_count": 527,
     "metadata": {},
     "output_type": "execute_result"
    }
   ],
   "source": [
    "from collections import Counter\n",
    "Counter(sim_results[\"first\"]).most_common()[:5]"
   ]
  },
  {
   "cell_type": "code",
   "execution_count": 528,
   "metadata": {},
   "outputs": [
    {
     "data": {
      "text/plain": [
       "[('Brazil', 4840),\n",
       " ('Belgium', 3634),\n",
       " ('Peru', 3155),\n",
       " ('Portugal', 2975),\n",
       " ('France', 2827)]"
      ]
     },
     "execution_count": 528,
     "metadata": {},
     "output_type": "execute_result"
    }
   ],
   "source": [
    "Counter(sim_results[\"second\"]).most_common()[:5]"
   ]
  },
  {
   "cell_type": "code",
   "execution_count": 529,
   "metadata": {},
   "outputs": [
    {
     "data": {
      "text/plain": [
       "[('Brazil', 7184),\n",
       " ('Belgium', 5335),\n",
       " ('Peru', 4546),\n",
       " ('Uruguay', 3518),\n",
       " ('Portugal', 3202)]"
      ]
     },
     "execution_count": 529,
     "metadata": {},
     "output_type": "execute_result"
    }
   ],
   "source": [
    "Counter(sim_results[\"third\"]).most_common()[:5]"
   ]
  },
  {
   "cell_type": "code",
   "execution_count": 530,
   "metadata": {
    "scrolled": true
   },
   "outputs": [
    {
     "data": {
      "text/plain": [
       "[('Brazil', 4840),\n",
       " ('Belgium', 3634),\n",
       " ('Peru', 3155),\n",
       " ('Portugal', 2975),\n",
       " ('France', 2827)]"
      ]
     },
     "execution_count": 530,
     "metadata": {},
     "output_type": "execute_result"
    }
   ],
   "source": [
    "Counter(sim_results[\"fourth\"]).most_common()[:5]"
   ]
  },
  {
   "cell_type": "markdown",
   "metadata": {},
   "source": [
    "* First: Brazil\n",
    "* Second: Belgium\n",
    "* Third: Peru\n",
    "* Fourth: Portugal"
   ]
  },
  {
   "cell_type": "code",
   "execution_count": null,
   "metadata": {},
   "outputs": [],
   "source": []
  }
 ],
 "metadata": {
  "kernelspec": {
   "display_name": "Python 3",
   "language": "python",
   "name": "python3"
  },
  "language_info": {
   "codemirror_mode": {
    "name": "ipython",
    "version": 3
   },
   "file_extension": ".py",
   "mimetype": "text/x-python",
   "name": "python",
   "nbconvert_exporter": "python",
   "pygments_lexer": "ipython3",
   "version": "3.5.4"
  }
 },
 "nbformat": 4,
 "nbformat_minor": 2
}
