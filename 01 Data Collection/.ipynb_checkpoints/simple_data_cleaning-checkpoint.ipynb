{
 "cells": [
  {
   "cell_type": "code",
   "execution_count": 1,
   "metadata": {},
   "outputs": [],
   "source": [
    "import pandas as pd\n",
    "from string import digits"
   ]
  },
  {
   "cell_type": "code",
   "execution_count": 2,
   "metadata": {},
   "outputs": [],
   "source": [
    "matches_df = pd.read_csv(\"data/espn_data_240618.csv\")"
   ]
  },
  {
   "cell_type": "code",
   "execution_count": 3,
   "metadata": {},
   "outputs": [
    {
     "data": {
      "text/html": [
       "<div>\n",
       "<style scoped>\n",
       "    .dataframe tbody tr th:only-of-type {\n",
       "        vertical-align: middle;\n",
       "    }\n",
       "\n",
       "    .dataframe tbody tr th {\n",
       "        vertical-align: top;\n",
       "    }\n",
       "\n",
       "    .dataframe thead th {\n",
       "        text-align: right;\n",
       "    }\n",
       "</style>\n",
       "<table border=\"1\" class=\"dataframe\">\n",
       "  <thead>\n",
       "    <tr style=\"text-align: right;\">\n",
       "      <th></th>\n",
       "      <th>Date</th>\n",
       "      <th>Team1</th>\n",
       "      <th>Team1_score</th>\n",
       "      <th>Team2</th>\n",
       "      <th>Team2_score</th>\n",
       "      <th>team1_fouls</th>\n",
       "      <th>team2_fouls</th>\n",
       "      <th>team1_yellow_cards</th>\n",
       "      <th>team2_yellow_cards</th>\n",
       "      <th>team1_red_cards</th>\n",
       "      <th>...</th>\n",
       "      <th>team1_shots</th>\n",
       "      <th>team2_shots</th>\n",
       "      <th>team1_avg_wins</th>\n",
       "      <th>team1_avg_draws</th>\n",
       "      <th>team1_avg_gd</th>\n",
       "      <th>team2_avg_wins</th>\n",
       "      <th>team2_avg_draws</th>\n",
       "      <th>team2_avg_gd</th>\n",
       "      <th>team1_lineup</th>\n",
       "      <th>team2_lineup</th>\n",
       "    </tr>\n",
       "  </thead>\n",
       "  <tbody>\n",
       "    <tr>\n",
       "      <th>0</th>\n",
       "      <td>20140612</td>\n",
       "      <td>Brazil</td>\n",
       "      <td>3</td>\n",
       "      <td>Croatia</td>\n",
       "      <td>1</td>\n",
       "      <td>5</td>\n",
       "      <td>21</td>\n",
       "      <td>2</td>\n",
       "      <td>2</td>\n",
       "      <td>0</td>\n",
       "      <td>...</td>\n",
       "      <td>14 (9)</td>\n",
       "      <td>10 (4)</td>\n",
       "      <td>1.0</td>\n",
       "      <td>0.0</td>\n",
       "      <td>3.2</td>\n",
       "      <td>0.6</td>\n",
       "      <td>0.4</td>\n",
       "      <td>0.8</td>\n",
       "      <td>12 Júlio César_4 David Luiz_3 Thiago Silva_6 M...</td>\n",
       "      <td>1 Stipe Pletikosa_6 Dejan Lovren  _5 Vedran Co...</td>\n",
       "    </tr>\n",
       "    <tr>\n",
       "      <th>1</th>\n",
       "      <td>20140613</td>\n",
       "      <td>Mexico</td>\n",
       "      <td>1</td>\n",
       "      <td>Cameroon</td>\n",
       "      <td>0</td>\n",
       "      <td>11</td>\n",
       "      <td>12</td>\n",
       "      <td>1</td>\n",
       "      <td>1</td>\n",
       "      <td>0</td>\n",
       "      <td>...</td>\n",
       "      <td>9 (5)</td>\n",
       "      <td>10 (4)</td>\n",
       "      <td>0.4</td>\n",
       "      <td>0.2</td>\n",
       "      <td>0.6</td>\n",
       "      <td>0.4</td>\n",
       "      <td>0.2</td>\n",
       "      <td>-0.4</td>\n",
       "      <td>13 Guillermo Ochoa_4 Rafael Márquez_15 Héctor ...</td>\n",
       "      <td>16 Charles Itandje_14 Aurélien Chedjou_3 Nicol...</td>\n",
       "    </tr>\n",
       "    <tr>\n",
       "      <th>2</th>\n",
       "      <td>20140613</td>\n",
       "      <td>Spain</td>\n",
       "      <td>1</td>\n",
       "      <td>Netherlands</td>\n",
       "      <td>5</td>\n",
       "      <td>5</td>\n",
       "      <td>18</td>\n",
       "      <td>1</td>\n",
       "      <td>3</td>\n",
       "      <td>0</td>\n",
       "      <td>...</td>\n",
       "      <td>9 (6)</td>\n",
       "      <td>13 (11)</td>\n",
       "      <td>0.8</td>\n",
       "      <td>0.0</td>\n",
       "      <td>1.0</td>\n",
       "      <td>0.4</td>\n",
       "      <td>0.4</td>\n",
       "      <td>0.2</td>\n",
       "      <td>1 Iker Casillas  _15 Sergio Ramos_3 Gerard Piq...</td>\n",
       "      <td>1 Jasper Cillessen_2 Ron Vlaar_4 Bruno Martins...</td>\n",
       "    </tr>\n",
       "    <tr>\n",
       "      <th>3</th>\n",
       "      <td>20140613</td>\n",
       "      <td>Chile</td>\n",
       "      <td>3</td>\n",
       "      <td>Australia</td>\n",
       "      <td>1</td>\n",
       "      <td>9</td>\n",
       "      <td>18</td>\n",
       "      <td>1</td>\n",
       "      <td>3</td>\n",
       "      <td>0</td>\n",
       "      <td>...</td>\n",
       "      <td>11 (9)</td>\n",
       "      <td>13 (6)</td>\n",
       "      <td>0.6</td>\n",
       "      <td>0.0</td>\n",
       "      <td>1.0</td>\n",
       "      <td>0.4</td>\n",
       "      <td>0.2</td>\n",
       "      <td>0.4</td>\n",
       "      <td>1 Claudio Bravo_18 Gonzalo Jara_17 Gary Medel_...</td>\n",
       "      <td>1 Mathew Ryan_6 Matthew Spiranovic_22 Alex Wil...</td>\n",
       "    </tr>\n",
       "    <tr>\n",
       "      <th>4</th>\n",
       "      <td>20140614</td>\n",
       "      <td>Colombia</td>\n",
       "      <td>3</td>\n",
       "      <td>Greece</td>\n",
       "      <td>0</td>\n",
       "      <td>19</td>\n",
       "      <td>14</td>\n",
       "      <td>1</td>\n",
       "      <td>2</td>\n",
       "      <td>0</td>\n",
       "      <td>...</td>\n",
       "      <td>12 (8)</td>\n",
       "      <td>12 (7)</td>\n",
       "      <td>0.4</td>\n",
       "      <td>0.6</td>\n",
       "      <td>1.0</td>\n",
       "      <td>0.2</td>\n",
       "      <td>0.6</td>\n",
       "      <td>-0.2</td>\n",
       "      <td>1 David Ospina_3 Mario Yepes_2 Cristián Zapata...</td>\n",
       "      <td>1 Orestis Karnezis_19 Sokratis Papastathopoulo...</td>\n",
       "    </tr>\n",
       "  </tbody>\n",
       "</table>\n",
       "<p>5 rows × 29 columns</p>\n",
       "</div>"
      ],
      "text/plain": [
       "       Date     Team1  Team1_score        Team2  Team2_score  team1_fouls  \\\n",
       "0  20140612    Brazil            3      Croatia            1            5   \n",
       "1  20140613    Mexico            1     Cameroon            0           11   \n",
       "2  20140613     Spain            1  Netherlands            5            5   \n",
       "3  20140613     Chile            3    Australia            1            9   \n",
       "4  20140614  Colombia            3       Greece            0           19   \n",
       "\n",
       "   team2_fouls  team1_yellow_cards  team2_yellow_cards  team1_red_cards  \\\n",
       "0           21                   2                   2                0   \n",
       "1           12                   1                   1                0   \n",
       "2           18                   1                   3                0   \n",
       "3           18                   1                   3                0   \n",
       "4           14                   1                   2                0   \n",
       "\n",
       "                         ...                          team1_shots  \\\n",
       "0                        ...                               14 (9)   \n",
       "1                        ...                                9 (5)   \n",
       "2                        ...                                9 (6)   \n",
       "3                        ...                               11 (9)   \n",
       "4                        ...                               12 (8)   \n",
       "\n",
       "   team2_shots  team1_avg_wins  team1_avg_draws  team1_avg_gd  team2_avg_wins  \\\n",
       "0       10 (4)             1.0              0.0           3.2             0.6   \n",
       "1       10 (4)             0.4              0.2           0.6             0.4   \n",
       "2      13 (11)             0.8              0.0           1.0             0.4   \n",
       "3       13 (6)             0.6              0.0           1.0             0.4   \n",
       "4       12 (7)             0.4              0.6           1.0             0.2   \n",
       "\n",
       "   team2_avg_draws team2_avg_gd  \\\n",
       "0              0.4          0.8   \n",
       "1              0.2         -0.4   \n",
       "2              0.4          0.2   \n",
       "3              0.2          0.4   \n",
       "4              0.6         -0.2   \n",
       "\n",
       "                                        team1_lineup  \\\n",
       "0  12 Júlio César_4 David Luiz_3 Thiago Silva_6 M...   \n",
       "1  13 Guillermo Ochoa_4 Rafael Márquez_15 Héctor ...   \n",
       "2  1 Iker Casillas  _15 Sergio Ramos_3 Gerard Piq...   \n",
       "3  1 Claudio Bravo_18 Gonzalo Jara_17 Gary Medel_...   \n",
       "4  1 David Ospina_3 Mario Yepes_2 Cristián Zapata...   \n",
       "\n",
       "                                        team2_lineup  \n",
       "0  1 Stipe Pletikosa_6 Dejan Lovren  _5 Vedran Co...  \n",
       "1  16 Charles Itandje_14 Aurélien Chedjou_3 Nicol...  \n",
       "2  1 Jasper Cillessen_2 Ron Vlaar_4 Bruno Martins...  \n",
       "3  1 Mathew Ryan_6 Matthew Spiranovic_22 Alex Wil...  \n",
       "4  1 Orestis Karnezis_19 Sokratis Papastathopoulo...  \n",
       "\n",
       "[5 rows x 29 columns]"
      ]
     },
     "execution_count": 3,
     "metadata": {},
     "output_type": "execute_result"
    }
   ],
   "source": [
    "matches_df.head()"
   ]
  },
  {
   "cell_type": "markdown",
   "metadata": {},
   "source": [
    "Create features from the line up and form to predict the goal difference"
   ]
  },
  {
   "cell_type": "code",
   "execution_count": 4,
   "metadata": {},
   "outputs": [],
   "source": [
    "def get_players_from_team_string(team_string):\n",
    "    remove_digits = str.maketrans('', '', digits)\n",
    "    return list(map(lambda x: x.translate(remove_digits).replace(\"  \",\"\").replace(\"--\",\"\").replace(\"\\n\",\"\")[1:], team_string.split(\"_\")))"
   ]
  },
  {
   "cell_type": "code",
   "execution_count": 5,
   "metadata": {},
   "outputs": [],
   "source": [
    "year = \"2014\""
   ]
  },
  {
   "cell_type": "code",
   "execution_count": 6,
   "metadata": {},
   "outputs": [],
   "source": [
    "matches_df[\"year\"] = matches_df.Date.apply(lambda x: str(x)[:4])"
   ]
  },
  {
   "cell_type": "code",
   "execution_count": 7,
   "metadata": {},
   "outputs": [],
   "source": [
    "year_matches_df = matches_df[matches_df.year == year]"
   ]
  },
  {
   "cell_type": "markdown",
   "metadata": {},
   "source": [
    "### Player stats\n",
    "\n",
    "First, process each row and get full list of players to search for."
   ]
  },
  {
   "cell_type": "code",
   "execution_count": 10,
   "metadata": {},
   "outputs": [],
   "source": [
    "# retrieve player database\n",
    "year_player_stats_df = pd.read_csv(\"data/to_scrape/scraped_\"+year+\".csv\")"
   ]
  },
  {
   "cell_type": "code",
   "execution_count": 23,
   "metadata": {},
   "outputs": [],
   "source": [
    "def get_team_stats(team_string, year_player_stats_df):\n",
    "    player_list = get_players_from_team_string(team_string)\n",
    "    lineup_stats_df = year_player_stats_df[year_player_stats_df.name.isin(player_list)]\n",
    "    lineup_stats_df = lineup_stats_df[~lineup_stats_df.appearances.isnull()]\n",
    "    lineup_stats_df = lineup_stats_df.replace(\"-\",0)\n",
    "    if lineup_stats_df.shape[0] == 0:\n",
    "        return [0,0,0,0,0]\n",
    "    avg_age = lineup_stats_df.age.apply(int).mean()\n",
    "    avg_gpa = (lineup_stats_df.goals.apply(int) / lineup_stats_df.appearances.apply(int)).mean()\n",
    "    avg_apa = (lineup_stats_df.assists.apply(int) / lineup_stats_df.appearances.apply(int)).mean()\n",
    "    avg_ycpa = (lineup_stats_df.yellow_cards.apply(int) / lineup_stats_df.appearances.apply(int)).mean()\n",
    "    total_minutes = lineup_stats_df.minutes.apply(int).sum()\n",
    "    return [avg_age, avg_gpa, avg_apa, avg_ycpa, total_minutes]"
   ]
  },
  {
   "cell_type": "code",
   "execution_count": 45,
   "metadata": {},
   "outputs": [],
   "source": [
    "def format_age(age_string):\n",
    "    if len(str(age_string)) == 2:\n",
    "        return age_string\n",
    "    return age_string.split(\"(\")[1].split(\")\")[0]"
   ]
  },
  {
   "cell_type": "code",
   "execution_count": 12,
   "metadata": {},
   "outputs": [],
   "source": [
    "year_player_stats_df.age = year_player_stats_df.age.apply(format_age)"
   ]
  },
  {
   "cell_type": "code",
   "execution_count": 20,
   "metadata": {},
   "outputs": [],
   "source": [
    "year_matches_df = year_matches_df[~year_matches_df.team1_lineup.isnull()]\n",
    "year_matches_df = year_matches_df[~year_matches_df.team2_lineup.isnull()]"
   ]
  },
  {
   "cell_type": "code",
   "execution_count": 27,
   "metadata": {},
   "outputs": [],
   "source": [
    "year_matches_team1_stats = year_matches_df.team1_lineup.apply(lambda x: get_team_stats(x, year_player_stats_df))\n",
    "year_matches_team2_stats = year_matches_df.team2_lineup.apply(lambda x: get_team_stats(x, year_player_stats_df))"
   ]
  },
  {
   "cell_type": "code",
   "execution_count": 30,
   "metadata": {},
   "outputs": [],
   "source": [
    "year_matches_team1_df = year_matches_team1_stats.apply(lambda x:pd.Series(x))\n",
    "year_matches_team2_df = year_matches_team2_stats.apply(lambda x:pd.Series(x))"
   ]
  },
  {
   "cell_type": "code",
   "execution_count": 33,
   "metadata": {},
   "outputs": [],
   "source": [
    "year_matches_team1_df.columns = [\"avg_age_t1\", \"avg_gpa_t1\", \"avg_apa_t1\", \"avg_ycpa_t1\", \"total_minutes_t1\"]\n",
    "year_matches_team2_df.columns = [\"avg_age_t2\", \"avg_gpa_t2\", \"avg_apa_t2\", \"avg_ycpa_t2\", \"total_minutes_t2\"]"
   ]
  },
  {
   "cell_type": "code",
   "execution_count": 37,
   "metadata": {},
   "outputs": [],
   "source": [
    "year_matches_df_final = pd.concat([year_matches_df, year_matches_team1_df, year_matches_team2_df],axis = 1)"
   ]
  },
  {
   "cell_type": "code",
   "execution_count": null,
   "metadata": {},
   "outputs": [],
   "source": []
  },
  {
   "cell_type": "code",
   "execution_count": null,
   "metadata": {},
   "outputs": [],
   "source": []
  },
  {
   "cell_type": "code",
   "execution_count": 46,
   "metadata": {},
   "outputs": [],
   "source": [
    "world_cup_years = [\"2014\",\"2010\",\"2006\",\"2002\",\"1998\",\"1994\"]\n",
    "\n",
    "for year in world_cup_years:\n",
    "    year_matches_df = matches_df[matches_df.year == year]\n",
    "    year_player_stats_df = pd.read_csv(\"data/to_scrape/scraped_\"+year+\".csv\")\n",
    "    year_player_stats_df.age = year_player_stats_df.age.apply(format_age)\n",
    "    year_matches_df = year_matches_df[~year_matches_df.team1_lineup.isnull()]\n",
    "    year_matches_df = year_matches_df[~year_matches_df.team2_lineup.isnull()]\n",
    "    year_matches_team1_stats = year_matches_df.team1_lineup.apply(lambda x: get_team_stats(x, year_player_stats_df))\n",
    "    year_matches_team2_stats = year_matches_df.team2_lineup.apply(lambda x: get_team_stats(x, year_player_stats_df))\n",
    "    year_matches_team1_df = year_matches_team1_stats.apply(lambda x:pd.Series(x))\n",
    "    year_matches_team2_df = year_matches_team2_stats.apply(lambda x:pd.Series(x))\n",
    "    year_matches_team1_df.columns = [\"avg_age_t1\", \"avg_gpa_t1\", \"avg_apa_t1\", \"avg_ycpa_t1\", \"total_minutes_t1\"]\n",
    "    year_matches_team2_df.columns = [\"avg_age_t2\", \"avg_gpa_t2\", \"avg_apa_t2\", \"avg_ycpa_t2\", \"total_minutes_t2\"]\n",
    "    year_matches_df_final = pd.concat([year_matches_df, year_matches_team1_df, year_matches_team2_df],axis = 1)\n",
    "    year_matches_df_final.to_csv(\"data/final/full_\" + year + '.csv', index=False)"
   ]
  },
  {
   "cell_type": "code",
   "execution_count": null,
   "metadata": {},
   "outputs": [],
   "source": []
  }
 ],
 "metadata": {
  "kernelspec": {
   "display_name": "Python 3",
   "language": "python",
   "name": "python3"
  },
  "language_info": {
   "codemirror_mode": {
    "name": "ipython",
    "version": 3
   },
   "file_extension": ".py",
   "mimetype": "text/x-python",
   "name": "python",
   "nbconvert_exporter": "python",
   "pygments_lexer": "ipython3",
   "version": "3.5.4"
  }
 },
 "nbformat": 4,
 "nbformat_minor": 2
}
