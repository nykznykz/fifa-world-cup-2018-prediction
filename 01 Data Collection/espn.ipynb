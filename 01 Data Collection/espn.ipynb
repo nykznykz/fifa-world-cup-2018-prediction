{
 "cells": [
  {
   "cell_type": "markdown",
   "metadata": {},
   "source": [
    "Useful URLs\n",
    "\n",
    "* Seasons page - http://www.espnfc.com/fifa-world-cup/4/scores?season=2014\n",
    "* Individual match stats - http://www.espn.com/soccer/matchstats?gameId=383303\n",
    "* line ups for the game - http://www.espn.com/soccer/lineups?gameId=383303"
   ]
  },
  {
   "cell_type": "code",
   "execution_count": 2,
   "metadata": {
    "collapsed": true
   },
   "outputs": [],
   "source": [
    "from selenium import webdriver"
   ]
  },
  {
   "cell_type": "code",
   "execution_count": 187,
   "metadata": {
    "collapsed": true
   },
   "outputs": [],
   "source": [
    "import datetime\n",
    "import time"
   ]
  },
  {
   "cell_type": "code",
   "execution_count": 282,
   "metadata": {
    "collapsed": false
   },
   "outputs": [],
   "source": [
    "browser = webdriver.Firefox()\n",
    "browser.get('http://www.espnfc.com/fifa-world-cup/4/scores?season=2014')"
   ]
  },
  {
   "cell_type": "code",
   "execution_count": null,
   "metadata": {
    "collapsed": true
   },
   "outputs": [],
   "source": []
  },
  {
   "cell_type": "markdown",
   "metadata": {},
   "source": [
    "#### For a given year, iterate through the relevant dates"
   ]
  },
  {
   "cell_type": "code",
   "execution_count": 279,
   "metadata": {
    "collapsed": false
   },
   "outputs": [
    {
     "name": "stdout",
     "output_type": "stream",
     "text": [
      "http://global.espn.com/football/scoreboard/_/league/fifa.world/date/20140612?src=com\n"
     ]
    }
   ],
   "source": [
    "current_url = browser.current_url\n",
    "print(current_url)"
   ]
  },
  {
   "cell_type": "code",
   "execution_count": 156,
   "metadata": {
    "collapsed": true
   },
   "outputs": [],
   "source": [
    "def get_date(url):\n",
    "    trim = url.split(\"?src=com\")[0]\n",
    "    date = trim.split(\"date/\")[1]\n",
    "    return date"
   ]
  },
  {
   "cell_type": "code",
   "execution_count": 186,
   "metadata": {
    "collapsed": true
   },
   "outputs": [],
   "source": [
    "def increment_date(date, delta):\n",
    "    parsed_date = datetime.datetime.strptime(date,\"%Y%m%d\")\n",
    "    new_date = parsed_date + datetime.timedelta(delta)\n",
    "    new_date_string = str(new_date.year) + pad_date(new_date.month) + pad_date(new_date.day) \n",
    "    return new_date_string"
   ]
  },
  {
   "cell_type": "code",
   "execution_count": 174,
   "metadata": {
    "collapsed": false
   },
   "outputs": [],
   "source": [
    "def pad_date(day_or_month):\n",
    "    if len(str(day_or_month)) == 1:\n",
    "        return \"0\" + str(day_or_month)\n",
    "    else:\n",
    "        return str(day_or_month)"
   ]
  },
  {
   "cell_type": "code",
   "execution_count": 283,
   "metadata": {
    "collapsed": false
   },
   "outputs": [
    {
     "name": "stdout",
     "output_type": "stream",
     "text": [
      "20140612\n",
      "383303\n"
     ]
    },
    {
     "ename": "NoSuchWindowException",
     "evalue": "Message: Unable to locate window\n",
     "output_type": "error",
     "traceback": [
      "\u001b[0;31m---------------------------------------------------------------------------\u001b[0m",
      "\u001b[0;31mNoSuchWindowException\u001b[0m                     Traceback (most recent call last)",
      "\u001b[0;32m<ipython-input-283-4f517eef2bb9>\u001b[0m in \u001b[0;36m<module>\u001b[0;34m()\u001b[0m\n\u001b[1;32m     11\u001b[0m     \u001b[0;32mfor\u001b[0m \u001b[0mgame_id\u001b[0m \u001b[0;32min\u001b[0m \u001b[0mgame_ids\u001b[0m\u001b[0;34m:\u001b[0m\u001b[0;34m\u001b[0m\u001b[0m\n\u001b[1;32m     12\u001b[0m         \u001b[0mprint\u001b[0m\u001b[0;34m(\u001b[0m\u001b[0mgame_id\u001b[0m\u001b[0;34m)\u001b[0m\u001b[0;34m\u001b[0m\u001b[0m\n\u001b[0;32m---> 13\u001b[0;31m         \u001b[0mprint\u001b[0m\u001b[0;34m(\u001b[0m\u001b[0mget_match_stats\u001b[0m\u001b[0;34m(\u001b[0m\u001b[0mgame_id\u001b[0m\u001b[0;34m)\u001b[0m\u001b[0;34m)\u001b[0m\u001b[0;34m\u001b[0m\u001b[0m\n\u001b[0m\u001b[1;32m     14\u001b[0m \u001b[0;34m\u001b[0m\u001b[0m\n\u001b[1;32m     15\u001b[0m \u001b[0;34m\u001b[0m\u001b[0m\n",
      "\u001b[0;32m<ipython-input-276-ff286c0b704d>\u001b[0m in \u001b[0;36mget_match_stats\u001b[0;34m(game_id)\u001b[0m\n\u001b[1;32m      2\u001b[0m     \u001b[0;31m# match stats\u001b[0m\u001b[0;34m\u001b[0m\u001b[0;34m\u001b[0m\u001b[0m\n\u001b[1;32m      3\u001b[0m     \u001b[0mbrowser\u001b[0m\u001b[0;34m.\u001b[0m\u001b[0mget\u001b[0m\u001b[0;34m(\u001b[0m\u001b[0mmatch_stats_base_url\u001b[0m \u001b[0;34m+\u001b[0m \u001b[0mgame_id\u001b[0m\u001b[0;34m)\u001b[0m\u001b[0;34m\u001b[0m\u001b[0m\n\u001b[0;32m----> 4\u001b[0;31m     \u001b[0mbrowser\u001b[0m\u001b[0;34m.\u001b[0m\u001b[0mexecute_script\u001b[0m\u001b[0;34m(\u001b[0m\u001b[0;34m\"window.stop();\"\u001b[0m\u001b[0;34m)\u001b[0m\u001b[0;34m\u001b[0m\u001b[0m\n\u001b[0m\u001b[1;32m      5\u001b[0m     \u001b[0mprint\u001b[0m\u001b[0;34m(\u001b[0m\u001b[0;34m\"page_loaded\"\u001b[0m\u001b[0;34m)\u001b[0m\u001b[0;34m\u001b[0m\u001b[0m\n\u001b[1;32m      6\u001b[0m     \u001b[0mhome_form_stats\u001b[0m\u001b[0;34m,\u001b[0m \u001b[0maway_form_stats\u001b[0m \u001b[0;34m=\u001b[0m \u001b[0mget_form_stats\u001b[0m\u001b[0;34m(\u001b[0m\u001b[0;34m)\u001b[0m\u001b[0;34m\u001b[0m\u001b[0m\n",
      "\u001b[0;32m/Users/Nikolas/anaconda/envs/py35/lib/python3.5/site-packages/selenium/webdriver/remote/webdriver.py\u001b[0m in \u001b[0;36mexecute_script\u001b[0;34m(self, script, *args)\u001b[0m\n\u001b[1;32m    625\u001b[0m         return self.execute(command, {\n\u001b[1;32m    626\u001b[0m             \u001b[0;34m'script'\u001b[0m\u001b[0;34m:\u001b[0m \u001b[0mscript\u001b[0m\u001b[0;34m,\u001b[0m\u001b[0;34m\u001b[0m\u001b[0m\n\u001b[0;32m--> 627\u001b[0;31m             'args': converted_args})['value']\n\u001b[0m\u001b[1;32m    628\u001b[0m \u001b[0;34m\u001b[0m\u001b[0m\n\u001b[1;32m    629\u001b[0m     \u001b[0;32mdef\u001b[0m \u001b[0mexecute_async_script\u001b[0m\u001b[0;34m(\u001b[0m\u001b[0mself\u001b[0m\u001b[0;34m,\u001b[0m \u001b[0mscript\u001b[0m\u001b[0;34m,\u001b[0m \u001b[0;34m*\u001b[0m\u001b[0margs\u001b[0m\u001b[0;34m)\u001b[0m\u001b[0;34m:\u001b[0m\u001b[0;34m\u001b[0m\u001b[0m\n",
      "\u001b[0;32m/Users/Nikolas/anaconda/envs/py35/lib/python3.5/site-packages/selenium/webdriver/remote/webdriver.py\u001b[0m in \u001b[0;36mexecute\u001b[0;34m(self, driver_command, params)\u001b[0m\n\u001b[1;32m    310\u001b[0m         \u001b[0mresponse\u001b[0m \u001b[0;34m=\u001b[0m \u001b[0mself\u001b[0m\u001b[0;34m.\u001b[0m\u001b[0mcommand_executor\u001b[0m\u001b[0;34m.\u001b[0m\u001b[0mexecute\u001b[0m\u001b[0;34m(\u001b[0m\u001b[0mdriver_command\u001b[0m\u001b[0;34m,\u001b[0m \u001b[0mparams\u001b[0m\u001b[0;34m)\u001b[0m\u001b[0;34m\u001b[0m\u001b[0m\n\u001b[1;32m    311\u001b[0m         \u001b[0;32mif\u001b[0m \u001b[0mresponse\u001b[0m\u001b[0;34m:\u001b[0m\u001b[0;34m\u001b[0m\u001b[0m\n\u001b[0;32m--> 312\u001b[0;31m             \u001b[0mself\u001b[0m\u001b[0;34m.\u001b[0m\u001b[0merror_handler\u001b[0m\u001b[0;34m.\u001b[0m\u001b[0mcheck_response\u001b[0m\u001b[0;34m(\u001b[0m\u001b[0mresponse\u001b[0m\u001b[0;34m)\u001b[0m\u001b[0;34m\u001b[0m\u001b[0m\n\u001b[0m\u001b[1;32m    313\u001b[0m             response['value'] = self._unwrap_value(\n\u001b[1;32m    314\u001b[0m                 response.get('value', None))\n",
      "\u001b[0;32m/Users/Nikolas/anaconda/envs/py35/lib/python3.5/site-packages/selenium/webdriver/remote/errorhandler.py\u001b[0m in \u001b[0;36mcheck_response\u001b[0;34m(self, response)\u001b[0m\n\u001b[1;32m    235\u001b[0m         \u001b[0;32melif\u001b[0m \u001b[0mexception_class\u001b[0m \u001b[0;34m==\u001b[0m \u001b[0mUnexpectedAlertPresentException\u001b[0m \u001b[0;32mand\u001b[0m \u001b[0;34m'alert'\u001b[0m \u001b[0;32min\u001b[0m \u001b[0mvalue\u001b[0m\u001b[0;34m:\u001b[0m\u001b[0;34m\u001b[0m\u001b[0m\n\u001b[1;32m    236\u001b[0m             \u001b[0;32mraise\u001b[0m \u001b[0mexception_class\u001b[0m\u001b[0;34m(\u001b[0m\u001b[0mmessage\u001b[0m\u001b[0;34m,\u001b[0m \u001b[0mscreen\u001b[0m\u001b[0;34m,\u001b[0m \u001b[0mstacktrace\u001b[0m\u001b[0;34m,\u001b[0m \u001b[0mvalue\u001b[0m\u001b[0;34m[\u001b[0m\u001b[0;34m'alert'\u001b[0m\u001b[0;34m]\u001b[0m\u001b[0;34m.\u001b[0m\u001b[0mget\u001b[0m\u001b[0;34m(\u001b[0m\u001b[0;34m'text'\u001b[0m\u001b[0;34m)\u001b[0m\u001b[0;34m)\u001b[0m\u001b[0;34m\u001b[0m\u001b[0m\n\u001b[0;32m--> 237\u001b[0;31m         \u001b[0;32mraise\u001b[0m \u001b[0mexception_class\u001b[0m\u001b[0;34m(\u001b[0m\u001b[0mmessage\u001b[0m\u001b[0;34m,\u001b[0m \u001b[0mscreen\u001b[0m\u001b[0;34m,\u001b[0m \u001b[0mstacktrace\u001b[0m\u001b[0;34m)\u001b[0m\u001b[0;34m\u001b[0m\u001b[0m\n\u001b[0m\u001b[1;32m    238\u001b[0m \u001b[0;34m\u001b[0m\u001b[0m\n\u001b[1;32m    239\u001b[0m     \u001b[0;32mdef\u001b[0m \u001b[0m_value_or_default\u001b[0m\u001b[0;34m(\u001b[0m\u001b[0mself\u001b[0m\u001b[0;34m,\u001b[0m \u001b[0mobj\u001b[0m\u001b[0;34m,\u001b[0m \u001b[0mkey\u001b[0m\u001b[0;34m,\u001b[0m \u001b[0mdefault\u001b[0m\u001b[0;34m)\u001b[0m\u001b[0;34m:\u001b[0m\u001b[0;34m\u001b[0m\u001b[0m\n",
      "\u001b[0;31mNoSuchWindowException\u001b[0m: Message: Unable to locate window\n"
     ]
    }
   ],
   "source": [
    "date_base_url = \"http://global.espn.com/football/scoreboard/_/league/fifa.world/date/\"\n",
    "date = get_date(current_url)\n",
    "for i in range(3):\n",
    "    new_date = increment_date(date, i)\n",
    "    print(new_date)\n",
    "    browser.get(date_base_url + new_date)\n",
    "    time.sleep(1)\n",
    "    css_selector_match = 'article[class=\"scoreboard soccer fallback js-show\"]'\n",
    "    games = browser.find_elements_by_css_selector(css_selector_match)\n",
    "    game_ids = get_game_ids(games)\n",
    "    for game_id in game_ids:\n",
    "        print(game_id)\n",
    "        print(get_match_stats(game_id))\n",
    "\n",
    "    "
   ]
  },
  {
   "cell_type": "code",
   "execution_count": 255,
   "metadata": {
    "collapsed": false
   },
   "outputs": [
    {
     "name": "stdout",
     "output_type": "stream",
     "text": [
      "5\n",
      "5\n"
     ]
    },
    {
     "data": {
      "text/plain": [
       "([{'datetime': '2014-06-06T19:00Z',\n",
       "   'game_type': 'International Friendly',\n",
       "   'score': '1-0',\n",
       "   'team1': 'Brazil',\n",
       "   'team2': 'Serbia'},\n",
       "  {'datetime': '2014-06-03T19:00Z',\n",
       "   'game_type': 'International Friendly',\n",
       "   'score': '4-0',\n",
       "   'team1': 'Brazil',\n",
       "   'team2': 'Panama'},\n",
       "  {'datetime': '2014-03-05T17:00Z',\n",
       "   'game_type': 'International Friendly',\n",
       "   'score': '0-5',\n",
       "   'team1': 'South Africa',\n",
       "   'team2': 'Brazil'},\n",
       "  {'datetime': '2013-11-20T01:00Z',\n",
       "   'game_type': 'International Friendly',\n",
       "   'score': '2-1',\n",
       "   'team1': 'Brazil',\n",
       "   'team2': 'Chile'},\n",
       "  {'datetime': '2013-11-17T00:30Z',\n",
       "   'game_type': 'International Friendly',\n",
       "   'score': '5-0',\n",
       "   'team1': 'Brazil',\n",
       "   'team2': 'Honduras'}],\n",
       " [{'datetime': '2014-06-06T23:00Z',\n",
       "   'game_type': 'International Friendly',\n",
       "   'score': '1-0',\n",
       "   'team1': 'Croatia',\n",
       "   'team2': 'Australia'},\n",
       "  {'datetime': '2014-05-31T14:00Z',\n",
       "   'game_type': 'International Friendly',\n",
       "   'score': '2-1',\n",
       "   'team1': 'Croatia',\n",
       "   'team2': 'Mali'},\n",
       "  {'datetime': '2014-03-05T19:30Z',\n",
       "   'game_type': 'International Friendly',\n",
       "   'score': '2-2',\n",
       "   'team1': 'Switzerland',\n",
       "   'team2': 'Croatia'},\n",
       "  {'datetime': '2013-11-19T19:15Z',\n",
       "   'game_type': 'FIFA World Cup Qualifying - UEFA',\n",
       "   'score': '2-0',\n",
       "   'team1': 'Croatia',\n",
       "   'team2': 'Iceland'},\n",
       "  {'datetime': '2013-11-15T19:00Z',\n",
       "   'game_type': 'FIFA World Cup Qualifying - UEFA',\n",
       "   'score': '0-0',\n",
       "   'team1': 'Iceland',\n",
       "   'team2': 'Croatia'}])"
      ]
     },
     "execution_count": 255,
     "metadata": {},
     "output_type": "execute_result"
    }
   ],
   "source": [
    "get_form_stats()"
   ]
  },
  {
   "cell_type": "markdown",
   "metadata": {},
   "source": [
    "#### For a given date, get all games for the day"
   ]
  },
  {
   "cell_type": "code",
   "execution_count": 11,
   "metadata": {
    "collapsed": false
   },
   "outputs": [],
   "source": [
    "css_selector_match = 'article[class=\"scoreboard soccer fallback js-show\"]'\n",
    "games = browser.find_elements_by_css_selector(css_selector_match)"
   ]
  },
  {
   "cell_type": "code",
   "execution_count": 190,
   "metadata": {
    "collapsed": false
   },
   "outputs": [],
   "source": [
    "def get_game_ids(games):\n",
    "    game_ids = []\n",
    "    for game in games:\n",
    "        game_ids.append(game.get_attribute(\"id\"))\n",
    "    return game_ids"
   ]
  },
  {
   "cell_type": "code",
   "execution_count": 13,
   "metadata": {
    "collapsed": false
   },
   "outputs": [
    {
     "data": {
      "text/plain": [
       "['383302', '383301', '383300']"
      ]
     },
     "execution_count": 13,
     "metadata": {},
     "output_type": "execute_result"
    }
   ],
   "source": [
    "game_ids"
   ]
  },
  {
   "cell_type": "markdown",
   "metadata": {},
   "source": [
    "#### For a given match, get relevant match statistics"
   ]
  },
  {
   "cell_type": "code",
   "execution_count": 108,
   "metadata": {
    "collapsed": true
   },
   "outputs": [],
   "source": [
    "match_stats_base_url = \"http://www.espn.com/soccer/matchstats?gameId=\"\n",
    "match_stats_lineups_base_url = \"http://www.espn.com/soccer/lineups?gameId=\""
   ]
  },
  {
   "cell_type": "code",
   "execution_count": 109,
   "metadata": {
    "collapsed": true
   },
   "outputs": [],
   "source": [
    "game_id = game_ids[0]"
   ]
  },
  {
   "cell_type": "code",
   "execution_count": 101,
   "metadata": {
    "collapsed": false
   },
   "outputs": [
    {
     "name": "stdout",
     "output_type": "stream",
     "text": [
      "Mexico: 1, Cameroon: 0\n"
     ]
    }
   ],
   "source": [
    "# score\n",
    "def get_score():\n",
    "    css_selector_scoreboard = 'div[class=\"competitors sm-score\"]'\n",
    "    scoreboard = browser.find_element_by_css_selector(css_selector_scoreboard)\n",
    "\n",
    "    css_selector_home = 'div[class=\"team away \"]' # mistake made by web developers\n",
    "    home_scoreboard = scoreboard.find_element_by_css_selector(css_selector_home)\n",
    "    home_team = home_scoreboard.find_element_by_css_selector('div[class=\"team-container\"]').text\n",
    "    home_score = int(home_scoreboard.find_element_by_css_selector('div[class=\"score-container\"]').text)\n",
    "    css_selector_away = 'div[class=\"team home \"]'\n",
    "    away_scoreboard = scoreboard.find_element_by_css_selector(css_selector_away)\n",
    "    away_team = away_scoreboard.find_element_by_css_selector('div[class=\"team-container\"]').text\n",
    "    away_score = int(away_scoreboard.find_element_by_css_selector('div[class=\"score-container\"]').text)\n",
    "\n",
    "    return([home_team,home_score,away_team,away_score])"
   ]
  },
  {
   "cell_type": "code",
   "execution_count": 102,
   "metadata": {
    "collapsed": false
   },
   "outputs": [],
   "source": [
    "# form\n",
    "def get_form(home_team_last_five_games):\n",
    "    form_stats = []\n",
    "    for game in home_team_last_five_games:\n",
    "        team1 = game.find_elements_by_class_name(\"long-name\")[0].text\n",
    "        team2 = game.find_elements_by_class_name(\"long-name\")[1].text\n",
    "        score = game.find_element_by_class_name(\"webview-internal\").text\n",
    "        datetime = game.find_element_by_css_selector('span[data-behavior=\"date_time\"]').get_attribute(\"data-date\")\n",
    "        game_type = game.find_element_by_class_name(\"competition\").text\n",
    "        game_dict = {\n",
    "            \"team1\": team1,\n",
    "            \"team2\": team2,\n",
    "            \"score\": score,\n",
    "            \"datetime\": datetime,\n",
    "            \"game_type\": game_type\n",
    "        }\n",
    "        form_stats.append(game_dict)\n",
    "        \n",
    "    return form_stats"
   ]
  },
  {
   "cell_type": "code",
   "execution_count": 254,
   "metadata": {
    "collapsed": false
   },
   "outputs": [],
   "source": [
    "def get_form_stats():\n",
    "    id_form_home = \"gamepackage-team-form-home\"\n",
    "    css_selector_form_game = 'tr'\n",
    "    home_team_last_five_games = browser.find_element_by_id(id_form_home).find_element_by_css_selector('tbody').find_elements_by_css_selector(css_selector_form_game)\n",
    "    print(len(home_team_last_five_games))\n",
    "    home_form_stats = get_form(home_team_last_five_games)\n",
    "    id_form_away = \"gamepackage-team-form-away\"\n",
    "    away_team_last_five_games = browser.find_element_by_id(id_form_away).find_elements_by_css_selector(css_selector_form_game)\n",
    "    print(len(away_team_last_five_games))\n",
    "    away_form_stats = get_form(away_team_last_five_games)\n",
    "    return home_form_stats, away_form_stats"
   ]
  },
  {
   "cell_type": "code",
   "execution_count": 105,
   "metadata": {
    "collapsed": false
   },
   "outputs": [
    {
     "name": "stdout",
     "output_type": "stream",
     "text": [
      "Mexico Cameroon\n",
      "11 12\n",
      "1 1\n",
      "0 0\n",
      "5 3\n",
      "2 5\n",
      "3 1\n"
     ]
    }
   ],
   "source": [
    "# Match Stats\n",
    "css_home_team_fouls = 'td[data-home-away=\"home\"][data-stat=\"foulsCommitted\"]'\n",
    "css_away_team_fouls = 'td[data-home-away=\"away\"][data-stat=\"foulsCommitted\"]'\n",
    "css_home_team_yellow_cards = 'td[data-home-away=\"home\"][data-stat=\"yellowCards\"]'\n",
    "css_away_team_yellow_cards = 'td[data-home-away=\"away\"][data-stat=\"yellowCards\"]'\n",
    "css_home_team_red_cards = 'td[data-home-away=\"home\"][data-stat=\"redCards\"]'\n",
    "css_away_team_red_cards = 'td[data-home-away=\"away\"][data-stat=\"redCards\"]'\n",
    "css_home_team_offsides = 'td[data-home-away=\"home\"][data-stat=\"offsides\"]'\n",
    "css_away_team_offsides = 'td[data-home-away=\"away\"][data-stat=\"offsides\"]'\n",
    "css_home_team_won_corners = 'td[data-home-away=\"home\"][data-stat=\"wonCorners\"]'\n",
    "css_away_team_won_corners = 'td[data-home-away=\"away\"][data-stat=\"wonCorners\"]'\n",
    "css_home_team_saves = 'td[data-home-away=\"home\"][data-stat=\"saves\"]'\n",
    "css_away_team_saves = 'td[data-home-away=\"away\"][data-stat=\"saves\"]'\n",
    "\n",
    "\n",
    "home_team_fouls = browser.find_element_by_css_selector(css_home_team_fouls).text\n",
    "away_team_fouls = browser.find_element_by_css_selector(css_away_team_fouls).text\n",
    "home_team_yellow_cards = browser.find_element_by_css_selector(css_home_team_yellow_cards).text\n",
    "away_team_yellow_cards = browser.find_element_by_css_selector(css_away_team_yellow_cards).text\n",
    "home_team_red_cards = browser.find_element_by_css_selector(css_home_team_red_cards).text\n",
    "away_team_red_cards = browser.find_element_by_css_selector(css_away_team_red_cards).text\n",
    "home_team_offsides = browser.find_element_by_css_selector(css_home_team_offsides).text\n",
    "away_team_offsides = browser.find_element_by_css_selector(css_away_team_offsides).text\n",
    "home_team_won_corners = browser.find_element_by_css_selector(css_home_team_won_corners).text\n",
    "away_team_won_corners = browser.find_element_by_css_selector(css_away_team_won_corners).text\n",
    "home_team_saves = browser.find_element_by_css_selector(css_home_team_saves).text\n",
    "away_team_saves = browser.find_element_by_css_selector(css_away_team_saves).text\n",
    "\n",
    "print(home_team, away_team)\n",
    "print(home_team_fouls, away_team_fouls)\n",
    "print(home_team_yellow_cards, away_team_yellow_cards)\n",
    "print(home_team_red_cards, away_team_red_cards)\n",
    "print(home_team_offsides, away_team_offsides)\n",
    "print(home_team_won_corners, away_team_won_corners)\n",
    "print(home_team_saves, away_team_saves)"
   ]
  },
  {
   "cell_type": "code",
   "execution_count": 106,
   "metadata": {
    "collapsed": false
   },
   "outputs": [
    {
     "name": "stdout",
     "output_type": "stream",
     "text": [
      "Mexico Cameroon\n",
      "58% 42%\n"
     ]
    }
   ],
   "source": [
    "# Possesions\n",
    "css_home_team_possession = 'span[data-home-away=\"home\"][data-stat=\"possessionPct\"]'\n",
    "css_away_team_possession = 'span[data-home-away=\"away\"][data-stat=\"possessionPct\"]'\n",
    "\n",
    "home_team_possession = browser.find_element_by_css_selector(css_home_team_possession).text\n",
    "away_team_possession = browser.find_element_by_css_selector(css_away_team_possession).text\n",
    "\n",
    "print(home_team, away_team)\n",
    "print(home_team_possession, away_team_possession)"
   ]
  },
  {
   "cell_type": "code",
   "execution_count": 107,
   "metadata": {
    "collapsed": false
   },
   "outputs": [
    {
     "name": "stdout",
     "output_type": "stream",
     "text": [
      "Mexico Cameroon\n",
      "9 (5) 10 (4)\n"
     ]
    }
   ],
   "source": [
    "# shots\n",
    "css_home_team_shots = 'span[data-home-away=\"home\"][data-stat=\"shotsSummary\"]'\n",
    "css_away_team_shots = 'span[data-home-away=\"away\"][data-stat=\"shotsSummary\"]'\n",
    "\n",
    "home_team_shots = browser.find_element_by_css_selector(css_home_team_shots).text\n",
    "away_team_shots = browser.find_element_by_css_selector(css_away_team_shots).text\n",
    "\n",
    "print(home_team, away_team)\n",
    "print(home_team_shots, away_team_shots)\n"
   ]
  },
  {
   "cell_type": "code",
   "execution_count": 276,
   "metadata": {
    "collapsed": true
   },
   "outputs": [],
   "source": [
    "def get_match_stats(game_id):\n",
    "    # match stats\n",
    "    browser.get(match_stats_base_url + game_id)\n",
    "    browser.execute_script(\"window.stop();\")\n",
    "    print(\"page_loaded\")\n",
    "    home_form_stats, away_form_stats = get_form_stats()\n",
    "    return([home_form_stats,away_form_stats])\n",
    "    # lineup\n",
    "#     browser.get(match_stats_lineups_base_url + game_id)\n",
    "#     return match_stats"
   ]
  },
  {
   "cell_type": "markdown",
   "metadata": {},
   "source": [
    "#### For a given match, get lineup"
   ]
  },
  {
   "cell_type": "code",
   "execution_count": 146,
   "metadata": {
    "collapsed": false
   },
   "outputs": [],
   "source": [
    "browser.get(match_stats_lineups_base_url + game_id)"
   ]
  },
  {
   "cell_type": "code",
   "execution_count": 147,
   "metadata": {
    "collapsed": false
   },
   "outputs": [
    {
     "name": "stdout",
     "output_type": "stream",
     "text": [
      "Mexico\n",
      "['13 Guillermo Ochoa', '4 Rafael Márquez', '15 Héctor Moreno  ', '2 Maza', '7 Miguel Layún', '22 Paul Aguilar', '23 José Vázquez', '18 Andrés Guardado', '6 Héctor Herrera', '10 Giovani dos Santos', '19 Oribe Peralta  ']\n"
     ]
    }
   ],
   "source": [
    "team1 = browser.find_elements_by_class_name(\"table-accordion\")[0]\n",
    "team1_name = team1.find_element_by_css_selector('caption').text\n",
    "print(team1_name)\n",
    "team1_players = team1.find_element_by_css_selector('tbody').find_elements_by_css_selector(\"tr\")\n",
    "team1_player_names = list(map(lambda x: x.find_element_by_class_name(\"accordion-item\").text, team1_players))\n",
    "print(team1_player_names)"
   ]
  },
  {
   "cell_type": "code",
   "execution_count": 148,
   "metadata": {
    "collapsed": false
   },
   "outputs": [
    {
     "name": "stdout",
     "output_type": "stream",
     "text": [
      "Cameroon\n",
      "['16 Charles Itandje', '14 Aurélien Chedjou', \"3 Nicolas N'Koulou\", '6 Alex Song', '2 Benoît Assou-Ekotto', '4 Cedric Djeugoue', '18 Eyong Enoh', \"17 Stéphane M'bia\", '13 Maxim Choupo-Moting', '8 Benjamin Moukandjo', \"9 Samuel Eto'o\"]\n"
     ]
    }
   ],
   "source": [
    "team2 = browser.find_elements_by_class_name(\"table-accordion\")[1]\n",
    "team2_name = team2.find_element_by_css_selector('caption').text\n",
    "print(team2_name)\n",
    "team2_players = team2.find_element_by_css_selector('tbody').find_elements_by_css_selector(\"tr\")\n",
    "team2_player_names = list(map(lambda x: x.find_element_by_class_name(\"accordion-item\").text, team2_players))\n",
    "print(team2_player_names)"
   ]
  },
  {
   "cell_type": "code",
   "execution_count": null,
   "metadata": {
    "collapsed": true
   },
   "outputs": [],
   "source": []
  },
  {
   "cell_type": "code",
   "execution_count": null,
   "metadata": {
    "collapsed": true
   },
   "outputs": [],
   "source": []
  }
 ],
 "metadata": {
  "kernelspec": {
   "display_name": "Python [py35]",
   "language": "python",
   "name": "Python [py35]"
  },
  "language_info": {
   "codemirror_mode": {
    "name": "ipython",
    "version": 3
   },
   "file_extension": ".py",
   "mimetype": "text/x-python",
   "name": "python",
   "nbconvert_exporter": "python",
   "pygments_lexer": "ipython3",
   "version": "3.5.3"
  }
 },
 "nbformat": 4,
 "nbformat_minor": 2
}
