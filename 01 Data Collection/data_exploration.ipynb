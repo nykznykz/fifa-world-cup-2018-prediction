{
 "cells": [
  {
   "cell_type": "code",
   "execution_count": 1,
   "metadata": {},
   "outputs": [],
   "source": [
    "import pandas as pd"
   ]
  },
  {
   "cell_type": "code",
   "execution_count": 2,
   "metadata": {},
   "outputs": [],
   "source": [
    "df = pd.read_csv(\"espn_data_230618_part1.csv\")"
   ]
  },
  {
   "cell_type": "code",
   "execution_count": 7,
   "metadata": {},
   "outputs": [
    {
     "data": {
      "text/plain": [
       "(320, 29)"
      ]
     },
     "execution_count": 7,
     "metadata": {},
     "output_type": "execute_result"
    }
   ],
   "source": [
    "df.shape"
   ]
  },
  {
   "cell_type": "code",
   "execution_count": 5,
   "metadata": {},
   "outputs": [],
   "source": [
    "df2 = pd.read_csv(\"espn_data_230618_part2.csv\")"
   ]
  },
  {
   "cell_type": "code",
   "execution_count": 8,
   "metadata": {},
   "outputs": [
    {
     "data": {
      "text/plain": [
       "(262, 29)"
      ]
     },
     "execution_count": 8,
     "metadata": {},
     "output_type": "execute_result"
    }
   ],
   "source": [
    "df2.shape"
   ]
  },
  {
   "cell_type": "code",
   "execution_count": 9,
   "metadata": {},
   "outputs": [
    {
     "data": {
      "text/html": [
       "<div>\n",
       "<style scoped>\n",
       "    .dataframe tbody tr th:only-of-type {\n",
       "        vertical-align: middle;\n",
       "    }\n",
       "\n",
       "    .dataframe tbody tr th {\n",
       "        vertical-align: top;\n",
       "    }\n",
       "\n",
       "    .dataframe thead th {\n",
       "        text-align: right;\n",
       "    }\n",
       "</style>\n",
       "<table border=\"1\" class=\"dataframe\">\n",
       "  <thead>\n",
       "    <tr style=\"text-align: right;\">\n",
       "      <th></th>\n",
       "      <th>Date</th>\n",
       "      <th>Team1</th>\n",
       "      <th>Team1_score</th>\n",
       "      <th>Team2</th>\n",
       "      <th>Team2_score</th>\n",
       "      <th>team1_fouls</th>\n",
       "      <th>team2_fouls</th>\n",
       "      <th>team1_yellow_cards</th>\n",
       "      <th>team2_yellow_cards</th>\n",
       "      <th>team1_red_cards</th>\n",
       "      <th>...</th>\n",
       "      <th>team1_shots</th>\n",
       "      <th>team2_shots</th>\n",
       "      <th>team1_avg_wins</th>\n",
       "      <th>team1_avg_draws</th>\n",
       "      <th>team1_avg_gd</th>\n",
       "      <th>team2_avg_wins</th>\n",
       "      <th>team2_avg_draws</th>\n",
       "      <th>team2_avg_gd</th>\n",
       "      <th>team1_lineup</th>\n",
       "      <th>team2_lineup</th>\n",
       "    </tr>\n",
       "  </thead>\n",
       "  <tbody>\n",
       "    <tr>\n",
       "      <th>0</th>\n",
       "      <td>20140612</td>\n",
       "      <td>Brazil</td>\n",
       "      <td>3</td>\n",
       "      <td>Croatia</td>\n",
       "      <td>1</td>\n",
       "      <td>5</td>\n",
       "      <td>21</td>\n",
       "      <td>2</td>\n",
       "      <td>2</td>\n",
       "      <td>0</td>\n",
       "      <td>...</td>\n",
       "      <td>14 (9)</td>\n",
       "      <td>10 (4)</td>\n",
       "      <td>0.6</td>\n",
       "      <td>0.4</td>\n",
       "      <td>1.4</td>\n",
       "      <td>0.8</td>\n",
       "      <td>0.2</td>\n",
       "      <td>2.0</td>\n",
       "      <td>12 Júlio César_4 David Luiz_3 Thiago Silva_6 M...</td>\n",
       "      <td>1 Stipe Pletikosa_6 Dejan Lovren  _5 Vedran Co...</td>\n",
       "    </tr>\n",
       "    <tr>\n",
       "      <th>1</th>\n",
       "      <td>20140613</td>\n",
       "      <td>Mexico</td>\n",
       "      <td>1</td>\n",
       "      <td>Cameroon</td>\n",
       "      <td>0</td>\n",
       "      <td>11</td>\n",
       "      <td>12</td>\n",
       "      <td>1</td>\n",
       "      <td>1</td>\n",
       "      <td>0</td>\n",
       "      <td>...</td>\n",
       "      <td>9 (5)</td>\n",
       "      <td>10 (4)</td>\n",
       "      <td>0.6</td>\n",
       "      <td>0.4</td>\n",
       "      <td>1.4</td>\n",
       "      <td>0.8</td>\n",
       "      <td>0.2</td>\n",
       "      <td>2.0</td>\n",
       "      <td>13 Guillermo Ochoa_4 Rafael Márquez_15 Héctor ...</td>\n",
       "      <td>16 Charles Itandje_14 Aurélien Chedjou_3 Nicol...</td>\n",
       "    </tr>\n",
       "    <tr>\n",
       "      <th>2</th>\n",
       "      <td>20140613</td>\n",
       "      <td>Spain</td>\n",
       "      <td>1</td>\n",
       "      <td>Netherlands</td>\n",
       "      <td>5</td>\n",
       "      <td>5</td>\n",
       "      <td>18</td>\n",
       "      <td>1</td>\n",
       "      <td>3</td>\n",
       "      <td>0</td>\n",
       "      <td>...</td>\n",
       "      <td>9 (6)</td>\n",
       "      <td>13 (11)</td>\n",
       "      <td>0.6</td>\n",
       "      <td>0.4</td>\n",
       "      <td>1.4</td>\n",
       "      <td>0.8</td>\n",
       "      <td>0.2</td>\n",
       "      <td>2.0</td>\n",
       "      <td>1 Iker Casillas  _15 Sergio Ramos_3 Gerard Piq...</td>\n",
       "      <td>1 Jasper Cillessen_2 Ron Vlaar_4 Bruno Martins...</td>\n",
       "    </tr>\n",
       "    <tr>\n",
       "      <th>3</th>\n",
       "      <td>20140613</td>\n",
       "      <td>Chile</td>\n",
       "      <td>3</td>\n",
       "      <td>Australia</td>\n",
       "      <td>1</td>\n",
       "      <td>9</td>\n",
       "      <td>18</td>\n",
       "      <td>1</td>\n",
       "      <td>3</td>\n",
       "      <td>0</td>\n",
       "      <td>...</td>\n",
       "      <td>11 (9)</td>\n",
       "      <td>13 (6)</td>\n",
       "      <td>0.6</td>\n",
       "      <td>0.4</td>\n",
       "      <td>1.4</td>\n",
       "      <td>0.8</td>\n",
       "      <td>0.2</td>\n",
       "      <td>2.0</td>\n",
       "      <td>1 Claudio Bravo_18 Gonzalo Jara_17 Gary Medel_...</td>\n",
       "      <td>1 Mathew Ryan_6 Matthew Spiranovic_22 Alex Wil...</td>\n",
       "    </tr>\n",
       "    <tr>\n",
       "      <th>4</th>\n",
       "      <td>20140614</td>\n",
       "      <td>Colombia</td>\n",
       "      <td>3</td>\n",
       "      <td>Greece</td>\n",
       "      <td>0</td>\n",
       "      <td>19</td>\n",
       "      <td>14</td>\n",
       "      <td>1</td>\n",
       "      <td>2</td>\n",
       "      <td>0</td>\n",
       "      <td>...</td>\n",
       "      <td>12 (8)</td>\n",
       "      <td>12 (7)</td>\n",
       "      <td>0.6</td>\n",
       "      <td>0.4</td>\n",
       "      <td>1.4</td>\n",
       "      <td>0.8</td>\n",
       "      <td>0.2</td>\n",
       "      <td>2.0</td>\n",
       "      <td>1 David Ospina_3 Mario Yepes_2 Cristián Zapata...</td>\n",
       "      <td>1 Orestis Karnezis_19 Sokratis Papastathopoulo...</td>\n",
       "    </tr>\n",
       "  </tbody>\n",
       "</table>\n",
       "<p>5 rows × 29 columns</p>\n",
       "</div>"
      ],
      "text/plain": [
       "       Date     Team1  Team1_score        Team2  Team2_score  team1_fouls  \\\n",
       "0  20140612    Brazil            3      Croatia            1            5   \n",
       "1  20140613    Mexico            1     Cameroon            0           11   \n",
       "2  20140613     Spain            1  Netherlands            5            5   \n",
       "3  20140613     Chile            3    Australia            1            9   \n",
       "4  20140614  Colombia            3       Greece            0           19   \n",
       "\n",
       "   team2_fouls  team1_yellow_cards  team2_yellow_cards  team1_red_cards  \\\n",
       "0           21                   2                   2                0   \n",
       "1           12                   1                   1                0   \n",
       "2           18                   1                   3                0   \n",
       "3           18                   1                   3                0   \n",
       "4           14                   1                   2                0   \n",
       "\n",
       "                         ...                          team1_shots  \\\n",
       "0                        ...                               14 (9)   \n",
       "1                        ...                                9 (5)   \n",
       "2                        ...                                9 (6)   \n",
       "3                        ...                               11 (9)   \n",
       "4                        ...                               12 (8)   \n",
       "\n",
       "   team2_shots  team1_avg_wins  team1_avg_draws  team1_avg_gd  team2_avg_wins  \\\n",
       "0       10 (4)             0.6              0.4           1.4             0.8   \n",
       "1       10 (4)             0.6              0.4           1.4             0.8   \n",
       "2      13 (11)             0.6              0.4           1.4             0.8   \n",
       "3       13 (6)             0.6              0.4           1.4             0.8   \n",
       "4       12 (7)             0.6              0.4           1.4             0.8   \n",
       "\n",
       "   team2_avg_draws team2_avg_gd  \\\n",
       "0              0.2          2.0   \n",
       "1              0.2          2.0   \n",
       "2              0.2          2.0   \n",
       "3              0.2          2.0   \n",
       "4              0.2          2.0   \n",
       "\n",
       "                                        team1_lineup  \\\n",
       "0  12 Júlio César_4 David Luiz_3 Thiago Silva_6 M...   \n",
       "1  13 Guillermo Ochoa_4 Rafael Márquez_15 Héctor ...   \n",
       "2  1 Iker Casillas  _15 Sergio Ramos_3 Gerard Piq...   \n",
       "3  1 Claudio Bravo_18 Gonzalo Jara_17 Gary Medel_...   \n",
       "4  1 David Ospina_3 Mario Yepes_2 Cristián Zapata...   \n",
       "\n",
       "                                        team2_lineup  \n",
       "0  1 Stipe Pletikosa_6 Dejan Lovren  _5 Vedran Co...  \n",
       "1  16 Charles Itandje_14 Aurélien Chedjou_3 Nicol...  \n",
       "2  1 Jasper Cillessen_2 Ron Vlaar_4 Bruno Martins...  \n",
       "3  1 Mathew Ryan_6 Matthew Spiranovic_22 Alex Wil...  \n",
       "4  1 Orestis Karnezis_19 Sokratis Papastathopoulo...  \n",
       "\n",
       "[5 rows x 29 columns]"
      ]
     },
     "execution_count": 9,
     "metadata": {},
     "output_type": "execute_result"
    }
   ],
   "source": [
    "df.head()"
   ]
  },
  {
   "cell_type": "code",
   "execution_count": 16,
   "metadata": {},
   "outputs": [
    {
     "data": {
      "text/plain": [
       "'1 Sergio Romero_17 Federico Fernández_2 Ezequiel Garay_3 Hugo Campagnaro_16 Marcos Rojo  _4 Pablo Zabaleta_14 Javier Mascherano_7 Ángel Di María_11 Maxi Rodríguez_20 Sergio Agüero_10 Lionel Messi  '"
      ]
     },
     "execution_count": 16,
     "metadata": {},
     "output_type": "execute_result"
    }
   ],
   "source": [
    "df[df.Team1 == \"Argentina\"].team1_lineup.values[0]"
   ]
  },
  {
   "cell_type": "markdown",
   "metadata": {},
   "source": [
    "## Feature Engineering"
   ]
  },
  {
   "cell_type": "markdown",
   "metadata": {},
   "source": [
    "### Player stats\n",
    "\n",
    "First, process each row and get full list of players to search for."
   ]
  },
  {
   "cell_type": "code",
   "execution_count": 21,
   "metadata": {},
   "outputs": [],
   "source": [
    "team_lineup = df.team1_lineup.values[0]"
   ]
  },
  {
   "cell_type": "code",
   "execution_count": 31,
   "metadata": {},
   "outputs": [
    {
     "data": {
      "text/plain": [
       "'12 Júlio César'"
      ]
     },
     "execution_count": 31,
     "metadata": {},
     "output_type": "execute_result"
    }
   ],
   "source": [
    "team_lineup.split(\"_\")[0]"
   ]
  },
  {
   "cell_type": "code",
   "execution_count": 24,
   "metadata": {},
   "outputs": [],
   "source": [
    "from string import digits"
   ]
  },
  {
   "cell_type": "code",
   "execution_count": 29,
   "metadata": {},
   "outputs": [],
   "source": [
    "remove_digits = str.maketrans('', '', digits)"
   ]
  },
  {
   "cell_type": "code",
   "execution_count": 80,
   "metadata": {},
   "outputs": [
    {
     "data": {
      "text/html": [
       "<div>\n",
       "<style scoped>\n",
       "    .dataframe tbody tr th:only-of-type {\n",
       "        vertical-align: middle;\n",
       "    }\n",
       "\n",
       "    .dataframe tbody tr th {\n",
       "        vertical-align: top;\n",
       "    }\n",
       "\n",
       "    .dataframe thead th {\n",
       "        text-align: right;\n",
       "    }\n",
       "</style>\n",
       "<table border=\"1\" class=\"dataframe\">\n",
       "  <thead>\n",
       "    <tr style=\"text-align: right;\">\n",
       "      <th></th>\n",
       "      <th>Date</th>\n",
       "      <th>Team1</th>\n",
       "      <th>Team1_score</th>\n",
       "      <th>Team2</th>\n",
       "      <th>Team2_score</th>\n",
       "      <th>team1_fouls</th>\n",
       "      <th>team2_fouls</th>\n",
       "      <th>team1_yellow_cards</th>\n",
       "      <th>team2_yellow_cards</th>\n",
       "      <th>team1_red_cards</th>\n",
       "      <th>...</th>\n",
       "      <th>team1_shots</th>\n",
       "      <th>team2_shots</th>\n",
       "      <th>team1_avg_wins</th>\n",
       "      <th>team1_avg_draws</th>\n",
       "      <th>team1_avg_gd</th>\n",
       "      <th>team2_avg_wins</th>\n",
       "      <th>team2_avg_draws</th>\n",
       "      <th>team2_avg_gd</th>\n",
       "      <th>team1_lineup</th>\n",
       "      <th>team2_lineup</th>\n",
       "    </tr>\n",
       "  </thead>\n",
       "  <tbody>\n",
       "    <tr>\n",
       "      <th>85</th>\n",
       "      <td>19940626</td>\n",
       "      <td>Switzerland</td>\n",
       "      <td>0</td>\n",
       "      <td>Colombia</td>\n",
       "      <td>2</td>\n",
       "      <td>0</td>\n",
       "      <td>0</td>\n",
       "      <td>2</td>\n",
       "      <td>3</td>\n",
       "      <td>0</td>\n",
       "      <td>...</td>\n",
       "      <td>0 (0)</td>\n",
       "      <td>0 (0)</td>\n",
       "      <td>0.6</td>\n",
       "      <td>0.4</td>\n",
       "      <td>1.4</td>\n",
       "      <td>0.8</td>\n",
       "      <td>0.2</td>\n",
       "      <td>2.0</td>\n",
       "      <td>-- Marco Pascolo_-- Alain Geiger_-- Dominique ...</td>\n",
       "      <td>-- Oscar Córdoba_-- Andrés Escobar_-- Luis Her...</td>\n",
       "    </tr>\n",
       "  </tbody>\n",
       "</table>\n",
       "<p>1 rows × 29 columns</p>\n",
       "</div>"
      ],
      "text/plain": [
       "        Date        Team1  Team1_score     Team2  Team2_score  team1_fouls  \\\n",
       "85  19940626  Switzerland            0  Colombia            2            0   \n",
       "\n",
       "    team2_fouls  team1_yellow_cards  team2_yellow_cards  team1_red_cards  \\\n",
       "85            0                   2                   3                0   \n",
       "\n",
       "                          ...                          team1_shots  \\\n",
       "85                        ...                                0 (0)   \n",
       "\n",
       "    team2_shots  team1_avg_wins  team1_avg_draws  team1_avg_gd  \\\n",
       "85        0 (0)             0.6              0.4           1.4   \n",
       "\n",
       "    team2_avg_wins  team2_avg_draws team2_avg_gd  \\\n",
       "85             0.8              0.2          2.0   \n",
       "\n",
       "                                         team1_lineup  \\\n",
       "85  -- Marco Pascolo_-- Alain Geiger_-- Dominique ...   \n",
       "\n",
       "                                         team2_lineup  \n",
       "85  -- Oscar Córdoba_-- Andrés Escobar_-- Luis Her...  \n",
       "\n",
       "[1 rows x 29 columns]"
      ]
     },
     "execution_count": 80,
     "metadata": {},
     "output_type": "execute_result"
    }
   ],
   "source": [
    "df2[df2.Team1 == \"Switzerland\"]"
   ]
  },
  {
   "cell_type": "code",
   "execution_count": 71,
   "metadata": {},
   "outputs": [],
   "source": [
    "team_string = df2[df2.Team1 == \"Brazil\"].team1_lineup.values[0]"
   ]
  },
  {
   "cell_type": "code",
   "execution_count": 72,
   "metadata": {},
   "outputs": [],
   "source": [
    "def get_players_from_team_string(team_string):\n",
    "    return list(map(lambda x: x.translate(remove_digits).replace(\"  \",\"\").replace(\"--\",\"\").replace(\"\\n\",\"\")[1:], team_string.split(\"_\")))"
   ]
  },
  {
   "cell_type": "code",
   "execution_count": 73,
   "metadata": {},
   "outputs": [
    {
     "data": {
      "text/plain": [
       "['Taffarel',\n",
       " 'Roberto Carlos',\n",
       " 'Cafu',\n",
       " 'Santos Aldair',\n",
       " 'Junior Baiano',\n",
       " 'Dunga',\n",
       " 'Carlos Cesar Sampaio ',\n",
       " 'Rivaldo',\n",
       " 'Ronaldo',\n",
       " 'José Oliveira Bebeto',\n",
       " 'Silva Giovanni']"
      ]
     },
     "execution_count": 73,
     "metadata": {},
     "output_type": "execute_result"
    }
   ],
   "source": [
    "get_players_from_team_string(team_string)"
   ]
  },
  {
   "cell_type": "code",
   "execution_count": 79,
   "metadata": {},
   "outputs": [
    {
     "data": {
      "text/plain": [
       "0             Brazil\n",
       "1             Mexico\n",
       "2              Spain\n",
       "3              Chile\n",
       "4           Colombia\n",
       "5            Uruguay\n",
       "6            England\n",
       "7        Ivory Coast\n",
       "8        Switzerland\n",
       "9             France\n",
       "10         Argentina\n",
       "11           Germany\n",
       "12              Iran\n",
       "13             Ghana\n",
       "14           Belgium\n",
       "15            Brazil\n",
       "16            Russia\n",
       "17         Australia\n",
       "18             Spain\n",
       "19          Cameroon\n",
       "20          Colombia\n",
       "21           Uruguay\n",
       "22             Japan\n",
       "23             Italy\n",
       "24       Switzerland\n",
       "25          Honduras\n",
       "26         Argentina\n",
       "27           Germany\n",
       "28           Nigeria\n",
       "29           Belgium\n",
       "           ...      \n",
       "290            Italy\n",
       "291         Scotland\n",
       "292           France\n",
       "293          Nigeria\n",
       "294     South Africa\n",
       "295            Spain\n",
       "296          Belgium\n",
       "297          Germany\n",
       "298      Netherlands\n",
       "299    United States\n",
       "300        Argentina\n",
       "301         Colombia\n",
       "302            Japan\n",
       "303          Romania\n",
       "304           Brazil\n",
       "305            Italy\n",
       "306           France\n",
       "307          Nigeria\n",
       "308          Germany\n",
       "309      Netherlands\n",
       "310        Argentina\n",
       "311          Romania\n",
       "312           Brazil\n",
       "313            Italy\n",
       "314          Germany\n",
       "315      Netherlands\n",
       "316           Brazil\n",
       "317           France\n",
       "318      Netherlands\n",
       "319           Brazil\n",
       "Name: Team1, Length: 320, dtype: object"
      ]
     },
     "execution_count": 79,
     "metadata": {},
     "output_type": "execute_result"
    }
   ],
   "source": [
    "df.Team1"
   ]
  },
  {
   "cell_type": "markdown",
   "metadata": {},
   "source": [
    "Need to scrape data from https://www.transfermarkt.co.uk/"
   ]
  },
  {
   "cell_type": "code",
   "execution_count": null,
   "metadata": {},
   "outputs": [],
   "source": []
  }
 ],
 "metadata": {
  "kernelspec": {
   "display_name": "Python 3",
   "language": "python",
   "name": "python3"
  },
  "language_info": {
   "codemirror_mode": {
    "name": "ipython",
    "version": 3
   },
   "file_extension": ".py",
   "mimetype": "text/x-python",
   "name": "python",
   "nbconvert_exporter": "python",
   "pygments_lexer": "ipython3",
   "version": "3.5.4"
  }
 },
 "nbformat": 4,
 "nbformat_minor": 2
}
