{
 "cells": [
  {
   "cell_type": "code",
   "execution_count": 8,
   "metadata": {},
   "outputs": [],
   "source": [
    "import pandas as pd\n",
    "from sklearn.linear_model import LinearRegression\n",
    "from sklearn.model_selection import train_test_split"
   ]
  },
  {
   "cell_type": "code",
   "execution_count": 2,
   "metadata": {},
   "outputs": [],
   "source": [
    "world_cup_years = [\"2014\",\"2010\",\"2006\",\"2002\",\"1998\",\"1994\"]\n",
    "\n",
    "world_cup_df = pd.DataFrame()\n",
    "for year in world_cup_years:\n",
    "    df = pd.read_csv(\"../01 Data Collection/data/final/full_\" + year + \".csv\")\n",
    "    world_cup_df = pd.concat([world_cup_df,df], axis=0)\n",
    "world_cup_df = world_cup_df.reset_index(drop=True)"
   ]
  },
  {
   "cell_type": "code",
   "execution_count": 3,
   "metadata": {},
   "outputs": [],
   "source": [
    "world_cup_df = world_cup_df.drop(['Date', 'Team1', 'Team2', 'team1_fouls',\n",
    "       'team2_fouls', 'team1_yellow_cards', 'team2_yellow_cards',\n",
    "       'team1_red_cards', 'team2_red_cards', 'team1_offsides',\n",
    "       'team2_offsides', 'team1_won_corners', 'team2_won_corners',\n",
    "       'team1_saves', 'team2_saves', 'team1_possession', 'team2_possession',\n",
    "       'team1_shots', 'team2_shots','team1_lineup', 'team2_lineup', \"year\"], axis = 1)"
   ]
  },
  {
   "cell_type": "code",
   "execution_count": 4,
   "metadata": {},
   "outputs": [],
   "source": [
    "world_cup_df = world_cup_df.fillna(0)"
   ]
  },
  {
   "cell_type": "code",
   "execution_count": 5,
   "metadata": {},
   "outputs": [
    {
     "data": {
      "text/plain": [
       "Index(['Team1_score', 'Team2_score', 'team1_avg_wins', 'team1_avg_draws',\n",
       "       'team1_avg_gd', 'team2_avg_wins', 'team2_avg_draws', 'team2_avg_gd',\n",
       "       'avg_age_t1', 'avg_gpa_t1', 'avg_apa_t1', 'avg_ycpa_t1',\n",
       "       'total_minutes_t1', 'avg_age_t2', 'avg_gpa_t2', 'avg_apa_t2',\n",
       "       'avg_ycpa_t2', 'total_minutes_t2'],\n",
       "      dtype='object')"
      ]
     },
     "execution_count": 5,
     "metadata": {},
     "output_type": "execute_result"
    }
   ],
   "source": [
    "world_cup_df.columns"
   ]
  },
  {
   "cell_type": "code",
   "execution_count": 18,
   "metadata": {},
   "outputs": [],
   "source": [
    "world_cup_df2 = world_cup_df.copy()\n",
    "cols = world_cup_df2.columns.tolist()\n",
    "new_cols = ['Team2_score', 'Team1_score', 'team2_avg_wins', 'team2_avg_draws', 'team2_avg_gd', 'team1_avg_wins', 'team1_avg_draws', 'team1_avg_gd', 'avg_age_t2', 'avg_gpa_t2', 'avg_apa_t2', 'avg_ycpa_t2', 'total_minutes_t2', 'avg_age_t1', 'avg_gpa_t1', 'avg_apa_t1', 'avg_ycpa_t1', 'total_minutes_t1']\n",
    "world_cup_df2 = world_cup_df2[new_cols]\n",
    "world_cup_df2.columns = cols\n",
    "aug_world_cup_df = pd.concat([world_cup_df,world_cup_df2], axis=0)"
   ]
  },
  {
   "cell_type": "code",
   "execution_count": 19,
   "metadata": {},
   "outputs": [],
   "source": [
    "X = aug_world_cup_df.loc[:, ['team1_avg_wins', 'team1_avg_draws', 'team1_avg_gd', 'avg_age_t1', 'avg_gpa_t1',\n",
    "        'avg_apa_t1', 'avg_ycpa_t1', 'total_minutes_t1',\n",
    "                             'team2_avg_wins', 'team2_avg_draws', 'team2_avg_gd', 'avg_age_t2', 'avg_gpa_t2', \n",
    "        'avg_apa_t2', 'avg_ycpa_t2', 'total_minutes_t2']]\n",
    "y = aug_world_cup_df.Team1_score"
   ]
  },
  {
   "cell_type": "code",
   "execution_count": 20,
   "metadata": {},
   "outputs": [],
   "source": [
    "X_train, X_test, y_train, y_test = train_test_split(X, y, test_size=0.3, random_state=42)"
   ]
  },
  {
   "cell_type": "code",
   "execution_count": 21,
   "metadata": {},
   "outputs": [
    {
     "data": {
      "text/plain": [
       "LinearRegression(copy_X=True, fit_intercept=True, n_jobs=1, normalize=False)"
      ]
     },
     "execution_count": 21,
     "metadata": {},
     "output_type": "execute_result"
    }
   ],
   "source": [
    "lr = LinearRegression()\n",
    "lr.fit(X_train, y_train)"
   ]
  },
  {
   "cell_type": "code",
   "execution_count": 22,
   "metadata": {},
   "outputs": [],
   "source": [
    "yhat = lr.predict(X_test)"
   ]
  },
  {
   "cell_type": "code",
   "execution_count": 23,
   "metadata": {},
   "outputs": [],
   "source": [
    "from sklearn.metrics import r2_score"
   ]
  },
  {
   "cell_type": "code",
   "execution_count": 24,
   "metadata": {},
   "outputs": [
    {
     "data": {
      "text/plain": [
       "0.040318017828475994"
      ]
     },
     "execution_count": 24,
     "metadata": {},
     "output_type": "execute_result"
    }
   ],
   "source": [
    "r2_score(y_test, yhat)"
   ]
  },
  {
   "cell_type": "code",
   "execution_count": 25,
   "metadata": {},
   "outputs": [
    {
     "data": {
      "text/plain": [
       "0.040318017828475994"
      ]
     },
     "execution_count": 25,
     "metadata": {},
     "output_type": "execute_result"
    }
   ],
   "source": [
    "r2_score(y_test, yhat)"
   ]
  },
  {
   "cell_type": "code",
   "execution_count": 26,
   "metadata": {},
   "outputs": [],
   "source": [
    "from sklearn.ensemble import GradientBoostingRegressor"
   ]
  },
  {
   "cell_type": "code",
   "execution_count": 27,
   "metadata": {},
   "outputs": [],
   "source": [
    "est = GradientBoostingRegressor(n_estimators=100, learning_rate=0.1,max_depth=1, random_state=0, loss='ls').fit(X_train, y_train)"
   ]
  },
  {
   "cell_type": "code",
   "execution_count": 28,
   "metadata": {},
   "outputs": [],
   "source": [
    "yhat = est.predict(X_test)"
   ]
  },
  {
   "cell_type": "code",
   "execution_count": 33,
   "metadata": {},
   "outputs": [
    {
     "data": {
      "text/plain": [
       "0.021158103733534217"
      ]
     },
     "execution_count": 33,
     "metadata": {},
     "output_type": "execute_result"
    }
   ],
   "source": [
    "r2_score(y_test, yhat)"
   ]
  },
  {
   "cell_type": "code",
   "execution_count": 34,
   "metadata": {},
   "outputs": [
    {
     "data": {
      "text/plain": [
       "['score_prediction.pkl']"
      ]
     },
     "execution_count": 34,
     "metadata": {},
     "output_type": "execute_result"
    }
   ],
   "source": [
    "from sklearn.externals import joblib\n",
    "joblib.dump(est, 'score_prediction.pkl') "
   ]
  },
  {
   "cell_type": "code",
   "execution_count": null,
   "metadata": {},
   "outputs": [],
   "source": []
  }
 ],
 "metadata": {
  "kernelspec": {
   "display_name": "Python 3",
   "language": "python",
   "name": "python3"
  },
  "language_info": {
   "codemirror_mode": {
    "name": "ipython",
    "version": 3
   },
   "file_extension": ".py",
   "mimetype": "text/x-python",
   "name": "python",
   "nbconvert_exporter": "python",
   "pygments_lexer": "ipython3",
   "version": "3.5.4"
  }
 },
 "nbformat": 4,
 "nbformat_minor": 2
}
