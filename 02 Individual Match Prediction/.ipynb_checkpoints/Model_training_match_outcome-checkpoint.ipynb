{
 "cells": [
  {
   "cell_type": "code",
   "execution_count": 1,
   "metadata": {},
   "outputs": [],
   "source": [
    "import pandas as pd"
   ]
  },
  {
   "cell_type": "code",
   "execution_count": 2,
   "metadata": {},
   "outputs": [],
   "source": [
    "world_cup_years = [\"2014\",\"2010\",\"2006\",\"2002\",\"1998\",\"1994\"]\n",
    "\n",
    "world_cup_df = pd.DataFrame()\n",
    "for year in world_cup_years:\n",
    "    df = pd.read_csv(\"../01 Data Collection/data/final/full_\" + year + \".csv\")\n",
    "    world_cup_df = pd.concat([world_cup_df,df], axis=0)\n",
    "world_cup_df = world_cup_df.reset_index(drop=True)"
   ]
  },
  {
   "cell_type": "code",
   "execution_count": 3,
   "metadata": {},
   "outputs": [
    {
     "data": {
      "text/plain": [
       "Index(['Date', 'Team1', 'Team1_score', 'Team2', 'Team2_score', 'team1_fouls',\n",
       "       'team2_fouls', 'team1_yellow_cards', 'team2_yellow_cards',\n",
       "       'team1_red_cards', 'team2_red_cards', 'team1_offsides',\n",
       "       'team2_offsides', 'team1_won_corners', 'team2_won_corners',\n",
       "       'team1_saves', 'team2_saves', 'team1_possession', 'team2_possession',\n",
       "       'team1_shots', 'team2_shots', 'team1_avg_wins', 'team1_avg_draws',\n",
       "       'team1_avg_gd', 'team2_avg_wins', 'team2_avg_draws', 'team2_avg_gd',\n",
       "       'team1_lineup', 'team2_lineup', 'year', 'avg_age_t1', 'avg_gpa_t1',\n",
       "       'avg_apa_t1', 'avg_ycpa_t1', 'total_minutes_t1', 'avg_age_t2',\n",
       "       'avg_gpa_t2', 'avg_apa_t2', 'avg_ycpa_t2', 'total_minutes_t2'],\n",
       "      dtype='object')"
      ]
     },
     "execution_count": 3,
     "metadata": {},
     "output_type": "execute_result"
    }
   ],
   "source": [
    "world_cup_df.columns"
   ]
  },
  {
   "cell_type": "code",
   "execution_count": 4,
   "metadata": {},
   "outputs": [],
   "source": [
    "world_cup_df = world_cup_df.drop(['Date', 'Team1', 'Team2', 'team1_fouls',\n",
    "       'team2_fouls', 'team1_yellow_cards', 'team2_yellow_cards',\n",
    "       'team1_red_cards', 'team2_red_cards', 'team1_offsides',\n",
    "       'team2_offsides', 'team1_won_corners', 'team2_won_corners',\n",
    "       'team1_saves', 'team2_saves', 'team1_possession', 'team2_possession',\n",
    "       'team1_shots', 'team2_shots','team1_lineup', 'team2_lineup', \"year\"], axis = 1)"
   ]
  },
  {
   "cell_type": "code",
   "execution_count": 5,
   "metadata": {},
   "outputs": [
    {
     "data": {
      "text/html": [
       "<div>\n",
       "<style scoped>\n",
       "    .dataframe tbody tr th:only-of-type {\n",
       "        vertical-align: middle;\n",
       "    }\n",
       "\n",
       "    .dataframe tbody tr th {\n",
       "        vertical-align: top;\n",
       "    }\n",
       "\n",
       "    .dataframe thead th {\n",
       "        text-align: right;\n",
       "    }\n",
       "</style>\n",
       "<table border=\"1\" class=\"dataframe\">\n",
       "  <thead>\n",
       "    <tr style=\"text-align: right;\">\n",
       "      <th></th>\n",
       "      <th>avg_gpa_t1</th>\n",
       "      <th>avg_apa_t1</th>\n",
       "      <th>avg_ycpa_t1</th>\n",
       "      <th>avg_gpa_t2</th>\n",
       "      <th>avg_apa_t2</th>\n",
       "      <th>avg_ycpa_t2</th>\n",
       "    </tr>\n",
       "  </thead>\n",
       "  <tbody>\n",
       "    <tr>\n",
       "      <th>0</th>\n",
       "      <td>0.174733</td>\n",
       "      <td>0.101189</td>\n",
       "      <td>0.188081</td>\n",
       "      <td>0.119909</td>\n",
       "      <td>0.179570</td>\n",
       "      <td>0.171065</td>\n",
       "    </tr>\n",
       "    <tr>\n",
       "      <th>1</th>\n",
       "      <td>0.092800</td>\n",
       "      <td>0.065788</td>\n",
       "      <td>0.208215</td>\n",
       "      <td>0.068904</td>\n",
       "      <td>0.017072</td>\n",
       "      <td>0.155783</td>\n",
       "    </tr>\n",
       "    <tr>\n",
       "      <th>2</th>\n",
       "      <td>0.117637</td>\n",
       "      <td>0.185847</td>\n",
       "      <td>0.201451</td>\n",
       "      <td>0.164861</td>\n",
       "      <td>0.106784</td>\n",
       "      <td>0.128909</td>\n",
       "    </tr>\n",
       "    <tr>\n",
       "      <th>3</th>\n",
       "      <td>0.167072</td>\n",
       "      <td>0.182059</td>\n",
       "      <td>0.238350</td>\n",
       "      <td>0.118354</td>\n",
       "      <td>0.043348</td>\n",
       "      <td>0.164867</td>\n",
       "    </tr>\n",
       "    <tr>\n",
       "      <th>4</th>\n",
       "      <td>0.130392</td>\n",
       "      <td>0.118742</td>\n",
       "      <td>0.245432</td>\n",
       "      <td>0.134188</td>\n",
       "      <td>0.119994</td>\n",
       "      <td>0.217186</td>\n",
       "    </tr>\n",
       "  </tbody>\n",
       "</table>\n",
       "</div>"
      ],
      "text/plain": [
       "   avg_gpa_t1  avg_apa_t1  avg_ycpa_t1  avg_gpa_t2  avg_apa_t2  avg_ycpa_t2\n",
       "0    0.174733    0.101189     0.188081    0.119909    0.179570     0.171065\n",
       "1    0.092800    0.065788     0.208215    0.068904    0.017072     0.155783\n",
       "2    0.117637    0.185847     0.201451    0.164861    0.106784     0.128909\n",
       "3    0.167072    0.182059     0.238350    0.118354    0.043348     0.164867\n",
       "4    0.130392    0.118742     0.245432    0.134188    0.119994     0.217186"
      ]
     },
     "execution_count": 5,
     "metadata": {},
     "output_type": "execute_result"
    }
   ],
   "source": [
    "# find columns that have NAN\n",
    "world_cup_df.loc[:, world_cup_df.isna().any()].head()"
   ]
  },
  {
   "cell_type": "code",
   "execution_count": 6,
   "metadata": {},
   "outputs": [],
   "source": [
    "# safe to fillna across the dataframe with zeros\n",
    "world_cup_df = world_cup_df.fillna(0)"
   ]
  },
  {
   "cell_type": "code",
   "execution_count": 7,
   "metadata": {},
   "outputs": [],
   "source": [
    "def get_result(team1_score, team2_score):\n",
    "    if team1_score > team2_score:\n",
    "        return 0\n",
    "    elif team1_score < team2_score:\n",
    "        return 1\n",
    "    else:\n",
    "        return 2"
   ]
  },
  {
   "cell_type": "code",
   "execution_count": 8,
   "metadata": {},
   "outputs": [],
   "source": [
    "world_cup_df[\"result\"] = world_cup_df.apply(lambda row: get_result(row['Team1_score'], row[\"Team2_score\"]), axis=1)"
   ]
  },
  {
   "cell_type": "code",
   "execution_count": 9,
   "metadata": {},
   "outputs": [],
   "source": [
    "# world_cup_df[\"Team1_won\"] = (world_cup_df.Team1_score > world_cup_df.Team2_score).apply(int)\n",
    "# world_cup_df[\"Team2_won\"] = (world_cup_df.Team2_score > world_cup_df.Team1_score).apply(int)\n",
    "# world_cup_df[\"Draw\"] = (world_cup_df.Team2_score == world_cup_df.Team1_score).apply(int)\n",
    "# world_cup_df = world_cup_df.drop([\"Team1_score\", \"Team2_score\"], axis = 1)"
   ]
  },
  {
   "cell_type": "code",
   "execution_count": 10,
   "metadata": {},
   "outputs": [],
   "source": [
    "from sklearn.linear_model import LogisticRegression\n",
    "from sklearn.model_selection import train_test_split"
   ]
  },
  {
   "cell_type": "code",
   "execution_count": 11,
   "metadata": {},
   "outputs": [
    {
     "data": {
      "text/plain": [
       "Index(['Team1_score', 'Team2_score', 'team1_avg_wins', 'team1_avg_draws',\n",
       "       'team1_avg_gd', 'team2_avg_wins', 'team2_avg_draws', 'team2_avg_gd',\n",
       "       'avg_age_t1', 'avg_gpa_t1', 'avg_apa_t1', 'avg_ycpa_t1',\n",
       "       'total_minutes_t1', 'avg_age_t2', 'avg_gpa_t2', 'avg_apa_t2',\n",
       "       'avg_ycpa_t2', 'total_minutes_t2', 'result'],\n",
       "      dtype='object')"
      ]
     },
     "execution_count": 11,
     "metadata": {},
     "output_type": "execute_result"
    }
   ],
   "source": [
    "world_cup_df.columns"
   ]
  },
  {
   "cell_type": "code",
   "execution_count": 12,
   "metadata": {},
   "outputs": [],
   "source": [
    "y = world_cup_df.result\n",
    "X = world_cup_df.loc[:, ['team1_avg_wins', 'team1_avg_draws', 'team1_avg_gd', 'avg_age_t1', 'avg_gpa_t1',\n",
    "        'avg_apa_t1', 'avg_ycpa_t1', 'total_minutes_t1',\n",
    "                             'team2_avg_wins', 'team2_avg_draws', 'team2_avg_gd', 'avg_age_t2', 'avg_gpa_t2', \n",
    "        'avg_apa_t2', 'avg_ycpa_t2', 'total_minutes_t2']]"
   ]
  },
  {
   "cell_type": "code",
   "execution_count": 13,
   "metadata": {},
   "outputs": [],
   "source": [
    "X_train, X_test, y_train, y_test = train_test_split(X, y, test_size=0.3, random_state=42)"
   ]
  },
  {
   "cell_type": "code",
   "execution_count": 14,
   "metadata": {},
   "outputs": [],
   "source": [
    "lr = LogisticRegression(multi_class=\"multinomial\", solver=\"lbfgs\")"
   ]
  },
  {
   "cell_type": "code",
   "execution_count": 15,
   "metadata": {},
   "outputs": [
    {
     "data": {
      "text/plain": [
       "LogisticRegression(C=1.0, class_weight=None, dual=False, fit_intercept=True,\n",
       "          intercept_scaling=1, max_iter=100, multi_class='multinomial',\n",
       "          n_jobs=1, penalty='l2', random_state=None, solver='lbfgs',\n",
       "          tol=0.0001, verbose=0, warm_start=False)"
      ]
     },
     "execution_count": 15,
     "metadata": {},
     "output_type": "execute_result"
    }
   ],
   "source": [
    "lr.fit(X_train, y_train)"
   ]
  },
  {
   "cell_type": "code",
   "execution_count": 16,
   "metadata": {},
   "outputs": [],
   "source": [
    "yhat = lr.predict(X_test)"
   ]
  },
  {
   "cell_type": "code",
   "execution_count": 17,
   "metadata": {},
   "outputs": [],
   "source": [
    "from sklearn.metrics import accuracy_score\n",
    "from sklearn.metrics import roc_auc_score"
   ]
  },
  {
   "cell_type": "code",
   "execution_count": 18,
   "metadata": {},
   "outputs": [
    {
     "data": {
      "text/plain": [
       "0.5145631067961165"
      ]
     },
     "execution_count": 18,
     "metadata": {},
     "output_type": "execute_result"
    }
   ],
   "source": [
    "accuracy_score(y_test, yhat)"
   ]
  },
  {
   "cell_type": "code",
   "execution_count": 19,
   "metadata": {},
   "outputs": [],
   "source": [
    "from sklearn.ensemble import GradientBoostingClassifier"
   ]
  },
  {
   "cell_type": "code",
   "execution_count": 20,
   "metadata": {},
   "outputs": [],
   "source": [
    "clf = GradientBoostingClassifier(n_estimators=10, learning_rate=0.04,max_depth=3, random_state=0).fit(X_train, y_train)"
   ]
  },
  {
   "cell_type": "code",
   "execution_count": 21,
   "metadata": {},
   "outputs": [
    {
     "data": {
      "text/plain": [
       "0.49514563106796117"
      ]
     },
     "execution_count": 21,
     "metadata": {},
     "output_type": "execute_result"
    }
   ],
   "source": [
    "clf.score(X_test, y_test)  "
   ]
  },
  {
   "cell_type": "markdown",
   "metadata": {},
   "source": [
    "### \"Data Augmentation\""
   ]
  },
  {
   "cell_type": "code",
   "execution_count": 22,
   "metadata": {},
   "outputs": [],
   "source": [
    "# make a copy\n",
    "world_cup_df2 = world_cup_df.copy()"
   ]
  },
  {
   "cell_type": "code",
   "execution_count": 23,
   "metadata": {},
   "outputs": [],
   "source": [
    "cols = world_cup_df2.columns.tolist()"
   ]
  },
  {
   "cell_type": "code",
   "execution_count": 24,
   "metadata": {},
   "outputs": [
    {
     "name": "stdout",
     "output_type": "stream",
     "text": [
      "['Team1_score', 'Team2_score', 'team1_avg_wins', 'team1_avg_draws', 'team1_avg_gd', 'team2_avg_wins', 'team2_avg_draws', 'team2_avg_gd', 'avg_age_t1', 'avg_gpa_t1', 'avg_apa_t1', 'avg_ycpa_t1', 'total_minutes_t1', 'avg_age_t2', 'avg_gpa_t2', 'avg_apa_t2', 'avg_ycpa_t2', 'total_minutes_t2', 'result']\n"
     ]
    }
   ],
   "source": [
    "print(cols)"
   ]
  },
  {
   "cell_type": "code",
   "execution_count": 25,
   "metadata": {},
   "outputs": [],
   "source": [
    "# rename columns\n",
    "new_cols = ['Team2_score', 'Team1_score', 'team2_avg_wins', 'team2_avg_draws', 'team2_avg_gd', 'team1_avg_wins', 'team1_avg_draws', 'team1_avg_gd', 'avg_age_t2', 'avg_gpa_t2', 'avg_apa_t2', 'avg_ycpa_t2', 'total_minutes_t2', 'avg_age_t1', 'avg_gpa_t1', 'avg_apa_t1', 'avg_ycpa_t1', 'total_minutes_t1', 'result']"
   ]
  },
  {
   "cell_type": "code",
   "execution_count": 26,
   "metadata": {},
   "outputs": [],
   "source": [
    "# rearrange columns\n",
    "world_cup_df2 = world_cup_df2[new_cols]"
   ]
  },
  {
   "cell_type": "code",
   "execution_count": 27,
   "metadata": {},
   "outputs": [],
   "source": [
    "# rename columns again\n",
    "world_cup_df2.columns = cols"
   ]
  },
  {
   "cell_type": "code",
   "execution_count": 28,
   "metadata": {},
   "outputs": [],
   "source": [
    "world_cup_df2[\"result\"] = world_cup_df2.apply(lambda row: get_result(row['Team1_score'], row[\"Team2_score\"]), axis=1)"
   ]
  },
  {
   "cell_type": "code",
   "execution_count": 29,
   "metadata": {},
   "outputs": [
    {
     "data": {
      "text/html": [
       "<div>\n",
       "<style scoped>\n",
       "    .dataframe tbody tr th:only-of-type {\n",
       "        vertical-align: middle;\n",
       "    }\n",
       "\n",
       "    .dataframe tbody tr th {\n",
       "        vertical-align: top;\n",
       "    }\n",
       "\n",
       "    .dataframe thead th {\n",
       "        text-align: right;\n",
       "    }\n",
       "</style>\n",
       "<table border=\"1\" class=\"dataframe\">\n",
       "  <thead>\n",
       "    <tr style=\"text-align: right;\">\n",
       "      <th></th>\n",
       "      <th>Team1_score</th>\n",
       "      <th>Team2_score</th>\n",
       "      <th>team1_avg_wins</th>\n",
       "      <th>team1_avg_draws</th>\n",
       "      <th>team1_avg_gd</th>\n",
       "      <th>team2_avg_wins</th>\n",
       "      <th>team2_avg_draws</th>\n",
       "      <th>team2_avg_gd</th>\n",
       "      <th>avg_age_t1</th>\n",
       "      <th>avg_gpa_t1</th>\n",
       "      <th>avg_apa_t1</th>\n",
       "      <th>avg_ycpa_t1</th>\n",
       "      <th>total_minutes_t1</th>\n",
       "      <th>avg_age_t2</th>\n",
       "      <th>avg_gpa_t2</th>\n",
       "      <th>avg_apa_t2</th>\n",
       "      <th>avg_ycpa_t2</th>\n",
       "      <th>total_minutes_t2</th>\n",
       "      <th>result</th>\n",
       "    </tr>\n",
       "  </thead>\n",
       "  <tbody>\n",
       "    <tr>\n",
       "      <th>0</th>\n",
       "      <td>1</td>\n",
       "      <td>3</td>\n",
       "      <td>0.6</td>\n",
       "      <td>0.4</td>\n",
       "      <td>0.8</td>\n",
       "      <td>1.0</td>\n",
       "      <td>0.0</td>\n",
       "      <td>3.2</td>\n",
       "      <td>25.888889</td>\n",
       "      <td>0.119909</td>\n",
       "      <td>0.179570</td>\n",
       "      <td>0.171065</td>\n",
       "      <td>26076.0</td>\n",
       "      <td>25.555556</td>\n",
       "      <td>0.174733</td>\n",
       "      <td>0.101189</td>\n",
       "      <td>0.188081</td>\n",
       "      <td>23067.0</td>\n",
       "      <td>1</td>\n",
       "    </tr>\n",
       "    <tr>\n",
       "      <th>1</th>\n",
       "      <td>0</td>\n",
       "      <td>1</td>\n",
       "      <td>0.4</td>\n",
       "      <td>0.2</td>\n",
       "      <td>-0.4</td>\n",
       "      <td>0.4</td>\n",
       "      <td>0.2</td>\n",
       "      <td>0.6</td>\n",
       "      <td>25.142857</td>\n",
       "      <td>0.068904</td>\n",
       "      <td>0.017072</td>\n",
       "      <td>0.155783</td>\n",
       "      <td>16241.0</td>\n",
       "      <td>27.500000</td>\n",
       "      <td>0.092800</td>\n",
       "      <td>0.065788</td>\n",
       "      <td>0.208215</td>\n",
       "      <td>21688.0</td>\n",
       "      <td>1</td>\n",
       "    </tr>\n",
       "    <tr>\n",
       "      <th>2</th>\n",
       "      <td>5</td>\n",
       "      <td>1</td>\n",
       "      <td>0.4</td>\n",
       "      <td>0.4</td>\n",
       "      <td>0.2</td>\n",
       "      <td>0.8</td>\n",
       "      <td>0.0</td>\n",
       "      <td>1.0</td>\n",
       "      <td>25.750000</td>\n",
       "      <td>0.164861</td>\n",
       "      <td>0.106784</td>\n",
       "      <td>0.128909</td>\n",
       "      <td>23874.0</td>\n",
       "      <td>26.800000</td>\n",
       "      <td>0.117637</td>\n",
       "      <td>0.185847</td>\n",
       "      <td>0.201451</td>\n",
       "      <td>35719.0</td>\n",
       "      <td>0</td>\n",
       "    </tr>\n",
       "    <tr>\n",
       "      <th>3</th>\n",
       "      <td>1</td>\n",
       "      <td>3</td>\n",
       "      <td>0.4</td>\n",
       "      <td>0.2</td>\n",
       "      <td>0.4</td>\n",
       "      <td>0.6</td>\n",
       "      <td>0.0</td>\n",
       "      <td>1.0</td>\n",
       "      <td>26.125000</td>\n",
       "      <td>0.118354</td>\n",
       "      <td>0.043348</td>\n",
       "      <td>0.164867</td>\n",
       "      <td>18023.0</td>\n",
       "      <td>25.444444</td>\n",
       "      <td>0.167072</td>\n",
       "      <td>0.182059</td>\n",
       "      <td>0.238350</td>\n",
       "      <td>21598.0</td>\n",
       "      <td>1</td>\n",
       "    </tr>\n",
       "    <tr>\n",
       "      <th>4</th>\n",
       "      <td>0</td>\n",
       "      <td>3</td>\n",
       "      <td>0.2</td>\n",
       "      <td>0.6</td>\n",
       "      <td>-0.2</td>\n",
       "      <td>0.4</td>\n",
       "      <td>0.6</td>\n",
       "      <td>1.0</td>\n",
       "      <td>26.666667</td>\n",
       "      <td>0.134188</td>\n",
       "      <td>0.119994</td>\n",
       "      <td>0.217186</td>\n",
       "      <td>9285.0</td>\n",
       "      <td>27.250000</td>\n",
       "      <td>0.130392</td>\n",
       "      <td>0.118742</td>\n",
       "      <td>0.245432</td>\n",
       "      <td>18565.0</td>\n",
       "      <td>1</td>\n",
       "    </tr>\n",
       "  </tbody>\n",
       "</table>\n",
       "</div>"
      ],
      "text/plain": [
       "   Team1_score  Team2_score  team1_avg_wins  team1_avg_draws  team1_avg_gd  \\\n",
       "0            1            3             0.6              0.4           0.8   \n",
       "1            0            1             0.4              0.2          -0.4   \n",
       "2            5            1             0.4              0.4           0.2   \n",
       "3            1            3             0.4              0.2           0.4   \n",
       "4            0            3             0.2              0.6          -0.2   \n",
       "\n",
       "   team2_avg_wins  team2_avg_draws  team2_avg_gd  avg_age_t1  avg_gpa_t1  \\\n",
       "0             1.0              0.0           3.2   25.888889    0.119909   \n",
       "1             0.4              0.2           0.6   25.142857    0.068904   \n",
       "2             0.8              0.0           1.0   25.750000    0.164861   \n",
       "3             0.6              0.0           1.0   26.125000    0.118354   \n",
       "4             0.4              0.6           1.0   26.666667    0.134188   \n",
       "\n",
       "   avg_apa_t1  avg_ycpa_t1  total_minutes_t1  avg_age_t2  avg_gpa_t2  \\\n",
       "0    0.179570     0.171065           26076.0   25.555556    0.174733   \n",
       "1    0.017072     0.155783           16241.0   27.500000    0.092800   \n",
       "2    0.106784     0.128909           23874.0   26.800000    0.117637   \n",
       "3    0.043348     0.164867           18023.0   25.444444    0.167072   \n",
       "4    0.119994     0.217186            9285.0   27.250000    0.130392   \n",
       "\n",
       "   avg_apa_t2  avg_ycpa_t2  total_minutes_t2  result  \n",
       "0    0.101189     0.188081           23067.0       1  \n",
       "1    0.065788     0.208215           21688.0       1  \n",
       "2    0.185847     0.201451           35719.0       0  \n",
       "3    0.182059     0.238350           21598.0       1  \n",
       "4    0.118742     0.245432           18565.0       1  "
      ]
     },
     "execution_count": 29,
     "metadata": {},
     "output_type": "execute_result"
    }
   ],
   "source": [
    "world_cup_df2.head()"
   ]
  },
  {
   "cell_type": "code",
   "execution_count": 30,
   "metadata": {},
   "outputs": [],
   "source": [
    "# concatenate both dataframes\n",
    "aug_world_cup_df = pd.concat([world_cup_df,world_cup_df2], axis=0)"
   ]
  },
  {
   "cell_type": "markdown",
   "metadata": {},
   "source": [
    "### Training with augmented data"
   ]
  },
  {
   "cell_type": "code",
   "execution_count": 31,
   "metadata": {},
   "outputs": [],
   "source": [
    "X = aug_world_cup_df.loc[:, ['team1_avg_wins', 'team1_avg_draws', 'team1_avg_gd', 'avg_age_t1', 'avg_gpa_t1',\n",
    "        'avg_apa_t1', 'avg_ycpa_t1', 'total_minutes_t1',\n",
    "                             'team2_avg_wins', 'team2_avg_draws', 'team2_avg_gd', 'avg_age_t2', 'avg_gpa_t2', \n",
    "        'avg_apa_t2', 'avg_ycpa_t2', 'total_minutes_t2']]\n",
    "y = aug_world_cup_df.result"
   ]
  },
  {
   "cell_type": "code",
   "execution_count": 32,
   "metadata": {},
   "outputs": [],
   "source": [
    "X_train, X_test_dev, y_train, y_test_dev = train_test_split(X, y, test_size=0.3, random_state=42)"
   ]
  },
  {
   "cell_type": "code",
   "execution_count": 33,
   "metadata": {},
   "outputs": [],
   "source": [
    "X_dev, X_test, y_dev, y_test = train_test_split(X_test_dev, y_test_dev, test_size=0.5, random_state=42)"
   ]
  },
  {
   "cell_type": "code",
   "execution_count": 34,
   "metadata": {},
   "outputs": [],
   "source": [
    "lr = LogisticRegression(multi_class=\"multinomial\", solver=\"lbfgs\")"
   ]
  },
  {
   "cell_type": "code",
   "execution_count": 35,
   "metadata": {},
   "outputs": [
    {
     "data": {
      "text/plain": [
       "LogisticRegression(C=1.0, class_weight=None, dual=False, fit_intercept=True,\n",
       "          intercept_scaling=1, max_iter=100, multi_class='multinomial',\n",
       "          n_jobs=1, penalty='l2', random_state=None, solver='lbfgs',\n",
       "          tol=0.0001, verbose=0, warm_start=False)"
      ]
     },
     "execution_count": 35,
     "metadata": {},
     "output_type": "execute_result"
    }
   ],
   "source": [
    "lr.fit(X_train, y_train)"
   ]
  },
  {
   "cell_type": "code",
   "execution_count": 36,
   "metadata": {},
   "outputs": [],
   "source": [
    "yhat = lr.predict(X_dev)"
   ]
  },
  {
   "cell_type": "code",
   "execution_count": 37,
   "metadata": {
    "scrolled": true
   },
   "outputs": [
    {
     "data": {
      "text/plain": [
       "0.45098039215686275"
      ]
     },
     "execution_count": 37,
     "metadata": {},
     "output_type": "execute_result"
    }
   ],
   "source": [
    "accuracy_score(y_dev, yhat)"
   ]
  },
  {
   "cell_type": "code",
   "execution_count": 38,
   "metadata": {},
   "outputs": [],
   "source": [
    "clf = GradientBoostingClassifier(n_estimators=18, learning_rate=0.01,max_depth=3, random_state=0, subsample=0.5).fit(X_train, y_train)"
   ]
  },
  {
   "cell_type": "code",
   "execution_count": 39,
   "metadata": {},
   "outputs": [
    {
     "data": {
      "text/plain": [
       "0.46078431372549017"
      ]
     },
     "execution_count": 39,
     "metadata": {},
     "output_type": "execute_result"
    }
   ],
   "source": [
    "clf.score(X_dev, y_dev)"
   ]
  },
  {
   "cell_type": "code",
   "execution_count": 40,
   "metadata": {},
   "outputs": [],
   "source": [
    "# gridsearch cv\n",
    "from sklearn.model_selection import GridSearchCV"
   ]
  },
  {
   "cell_type": "code",
   "execution_count": 41,
   "metadata": {},
   "outputs": [
    {
     "data": {
      "text/plain": [
       "GridSearchCV(cv=None, error_score='raise',\n",
       "       estimator=GradientBoostingClassifier(criterion='friedman_mse', init=None,\n",
       "              learning_rate=0.1, loss='deviance', max_depth=3,\n",
       "              max_features=None, max_leaf_nodes=None,\n",
       "              min_impurity_decrease=0.0, min_impurity_split=None,\n",
       "              min_samples_leaf=1, min_samples_split=2,\n",
       "              min_weight_fraction_leaf=0.0, n_estimators=100,\n",
       "              presort='auto', random_state=None, subsample=1.0, verbose=0,\n",
       "              warm_start=False),\n",
       "       fit_params=None, iid=True, n_jobs=1,\n",
       "       param_grid={'n_estimators': [1, 5, 10, 15, 20, 25, 30, 35], 'max_depth': [1, 2, 3, 4], 'learning_rate': [0.01, 0.02, 0.03, 0.04, 0.05, 0.06]},\n",
       "       pre_dispatch='2*n_jobs', refit=True, return_train_score='warn',\n",
       "       scoring=None, verbose=0)"
      ]
     },
     "execution_count": 41,
     "metadata": {},
     "output_type": "execute_result"
    }
   ],
   "source": [
    "parameters = {'n_estimators':[1, 5, 10, 15, 20, 25, 30, 35], \n",
    "              'learning_rate':[0.01, 0.02, 0.03,0.04,0.05,0.06], \n",
    "              'max_depth':[1,2,3,4]}\n",
    "gbc = GradientBoostingClassifier()\n",
    "clf = GridSearchCV(gbc, parameters)\n",
    "clf.fit(X_train, y_train)"
   ]
  },
  {
   "cell_type": "code",
   "execution_count": 42,
   "metadata": {},
   "outputs": [
    {
     "name": "stdout",
     "output_type": "stream",
     "text": [
      "{'learning_rate': 0.04, 'max_depth': 2, 'n_estimators': 25}\n"
     ]
    }
   ],
   "source": [
    "print(clf.best_params_)"
   ]
  },
  {
   "cell_type": "code",
   "execution_count": 43,
   "metadata": {},
   "outputs": [],
   "source": [
    "X_train_dev = pd.concat([X_train, X_dev], axis = 0)\n",
    "y_train_dev = pd.concat([y_train, y_dev], axis = 0)"
   ]
  },
  {
   "cell_type": "code",
   "execution_count": 44,
   "metadata": {},
   "outputs": [],
   "source": [
    "clf_final = GradientBoostingClassifier(n_estimators=25, learning_rate=0.04,max_depth=2, random_state=0).fit(X_train_dev, y_train_dev)"
   ]
  },
  {
   "cell_type": "code",
   "execution_count": 45,
   "metadata": {},
   "outputs": [
    {
     "data": {
      "text/plain": [
       "0.4854368932038835"
      ]
     },
     "execution_count": 45,
     "metadata": {},
     "output_type": "execute_result"
    }
   ],
   "source": [
    "clf_final.score(X_test, y_test)"
   ]
  },
  {
   "cell_type": "code",
   "execution_count": 46,
   "metadata": {},
   "outputs": [],
   "source": [
    "clf_final = GradientBoostingClassifier(n_estimators=25, learning_rate=0.04,max_depth=2, random_state=0).fit(X, y)"
   ]
  },
  {
   "cell_type": "code",
   "execution_count": 47,
   "metadata": {},
   "outputs": [
    {
     "data": {
      "text/plain": [
       "['match_prediction_model.pkl']"
      ]
     },
     "execution_count": 47,
     "metadata": {},
     "output_type": "execute_result"
    }
   ],
   "source": [
    "from sklearn.externals import joblib\n",
    "joblib.dump(clf, 'match_prediction_model.pkl') \n",
    "# and later you can load it\n",
    "# clf = joblib.load('match_prediction_model.pkl')"
   ]
  },
  {
   "cell_type": "code",
   "execution_count": null,
   "metadata": {},
   "outputs": [],
   "source": []
  }
 ],
 "metadata": {
  "kernelspec": {
   "display_name": "Python 3",
   "language": "python",
   "name": "python3"
  },
  "language_info": {
   "codemirror_mode": {
    "name": "ipython",
    "version": 3
   },
   "file_extension": ".py",
   "mimetype": "text/x-python",
   "name": "python",
   "nbconvert_exporter": "python",
   "pygments_lexer": "ipython3",
   "version": "3.5.4"
  }
 },
 "nbformat": 4,
 "nbformat_minor": 2
}
